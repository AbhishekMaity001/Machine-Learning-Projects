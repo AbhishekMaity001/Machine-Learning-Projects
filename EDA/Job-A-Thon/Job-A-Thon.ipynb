{
 "cells": [
  {
   "cell_type": "markdown",
   "metadata": {},
   "source": [
    "# Analytics Vidhya Job-A-Thon "
   ]
  },
  {
   "cell_type": "code",
   "execution_count": 676,
   "metadata": {},
   "outputs": [],
   "source": [
    "import numpy as np\n",
    "import pandas as pd\n",
    "import math\n",
    "import seaborn as sns\n",
    "import matplotlib.pyplot as plt\n",
    "%matplotlib inline"
   ]
  },
  {
   "cell_type": "code",
   "execution_count": 677,
   "metadata": {},
   "outputs": [
    {
     "data": {
      "text/html": [
       "<div>\n",
       "<style scoped>\n",
       "    .dataframe tbody tr th:only-of-type {\n",
       "        vertical-align: middle;\n",
       "    }\n",
       "\n",
       "    .dataframe tbody tr th {\n",
       "        vertical-align: top;\n",
       "    }\n",
       "\n",
       "    .dataframe thead th {\n",
       "        text-align: right;\n",
       "    }\n",
       "</style>\n",
       "<table border=\"1\" class=\"dataframe\">\n",
       "  <thead>\n",
       "    <tr style=\"text-align: right;\">\n",
       "      <th></th>\n",
       "      <th>ID</th>\n",
       "      <th>City_Code</th>\n",
       "      <th>Region_Code</th>\n",
       "      <th>Accomodation_Type</th>\n",
       "      <th>Reco_Insurance_Type</th>\n",
       "      <th>Upper_Age</th>\n",
       "      <th>Lower_Age</th>\n",
       "      <th>Is_Spouse</th>\n",
       "      <th>Health Indicator</th>\n",
       "      <th>Holding_Policy_Duration</th>\n",
       "      <th>Holding_Policy_Type</th>\n",
       "      <th>Reco_Policy_Cat</th>\n",
       "      <th>Reco_Policy_Premium</th>\n",
       "    </tr>\n",
       "  </thead>\n",
       "  <tbody>\n",
       "    <tr>\n",
       "      <th>21800</th>\n",
       "      <td>72683</td>\n",
       "      <td>C3</td>\n",
       "      <td>1044</td>\n",
       "      <td>Owned</td>\n",
       "      <td>Individual</td>\n",
       "      <td>45</td>\n",
       "      <td>45</td>\n",
       "      <td>No</td>\n",
       "      <td>X1</td>\n",
       "      <td>4.0</td>\n",
       "      <td>1.0</td>\n",
       "      <td>18</td>\n",
       "      <td>15884.0</td>\n",
       "    </tr>\n",
       "    <tr>\n",
       "      <th>21801</th>\n",
       "      <td>72684</td>\n",
       "      <td>C4</td>\n",
       "      <td>266</td>\n",
       "      <td>Owned</td>\n",
       "      <td>Individual</td>\n",
       "      <td>59</td>\n",
       "      <td>59</td>\n",
       "      <td>No</td>\n",
       "      <td>X5</td>\n",
       "      <td>6.0</td>\n",
       "      <td>3.0</td>\n",
       "      <td>18</td>\n",
       "      <td>21390.0</td>\n",
       "    </tr>\n",
       "    <tr>\n",
       "      <th>21802</th>\n",
       "      <td>72685</td>\n",
       "      <td>C12</td>\n",
       "      <td>2470</td>\n",
       "      <td>Owned</td>\n",
       "      <td>Individual</td>\n",
       "      <td>74</td>\n",
       "      <td>74</td>\n",
       "      <td>No</td>\n",
       "      <td>X3</td>\n",
       "      <td>NaN</td>\n",
       "      <td>NaN</td>\n",
       "      <td>1</td>\n",
       "      <td>17836.0</td>\n",
       "    </tr>\n",
       "    <tr>\n",
       "      <th>21803</th>\n",
       "      <td>72686</td>\n",
       "      <td>C10</td>\n",
       "      <td>1676</td>\n",
       "      <td>Rented</td>\n",
       "      <td>Individual</td>\n",
       "      <td>25</td>\n",
       "      <td>25</td>\n",
       "      <td>No</td>\n",
       "      <td>X4</td>\n",
       "      <td>3.0</td>\n",
       "      <td>1.0</td>\n",
       "      <td>19</td>\n",
       "      <td>11568.0</td>\n",
       "    </tr>\n",
       "    <tr>\n",
       "      <th>21804</th>\n",
       "      <td>72687</td>\n",
       "      <td>C2</td>\n",
       "      <td>3617</td>\n",
       "      <td>Owned</td>\n",
       "      <td>Individual</td>\n",
       "      <td>73</td>\n",
       "      <td>73</td>\n",
       "      <td>No</td>\n",
       "      <td>X2</td>\n",
       "      <td>14+</td>\n",
       "      <td>2.0</td>\n",
       "      <td>3</td>\n",
       "      <td>23040.0</td>\n",
       "    </tr>\n",
       "  </tbody>\n",
       "</table>\n",
       "</div>"
      ],
      "text/plain": [
       "          ID City_Code  Region_Code Accomodation_Type Reco_Insurance_Type  \\\n",
       "21800  72683        C3         1044             Owned          Individual   \n",
       "21801  72684        C4          266             Owned          Individual   \n",
       "21802  72685       C12         2470             Owned          Individual   \n",
       "21803  72686       C10         1676            Rented          Individual   \n",
       "21804  72687        C2         3617             Owned          Individual   \n",
       "\n",
       "       Upper_Age  Lower_Age Is_Spouse Health Indicator  \\\n",
       "21800         45         45        No               X1   \n",
       "21801         59         59        No               X5   \n",
       "21802         74         74        No               X3   \n",
       "21803         25         25        No               X4   \n",
       "21804         73         73        No               X2   \n",
       "\n",
       "      Holding_Policy_Duration  Holding_Policy_Type  Reco_Policy_Cat  \\\n",
       "21800                     4.0                  1.0               18   \n",
       "21801                     6.0                  3.0               18   \n",
       "21802                     NaN                  NaN                1   \n",
       "21803                     3.0                  1.0               19   \n",
       "21804                     14+                  2.0                3   \n",
       "\n",
       "       Reco_Policy_Premium  \n",
       "21800              15884.0  \n",
       "21801              21390.0  \n",
       "21802              17836.0  \n",
       "21803              11568.0  \n",
       "21804              23040.0  "
      ]
     },
     "execution_count": 677,
     "metadata": {},
     "output_type": "execute_result"
    }
   ],
   "source": [
    "df2 = pd.read_csv('test_YCcRUnU.csv')\n",
    "df2.tail()"
   ]
  },
  {
   "cell_type": "code",
   "execution_count": 678,
   "metadata": {},
   "outputs": [
    {
     "data": {
      "text/plain": [
       "(21805, 13)"
      ]
     },
     "execution_count": 678,
     "metadata": {},
     "output_type": "execute_result"
    }
   ],
   "source": [
    "df2.shape"
   ]
  },
  {
   "cell_type": "markdown",
   "metadata": {},
   "source": [
    "# Loading the Train Data"
   ]
  },
  {
   "cell_type": "code",
   "execution_count": 825,
   "metadata": {},
   "outputs": [
    {
     "data": {
      "text/plain": [
       "(50882, 14)"
      ]
     },
     "execution_count": 825,
     "metadata": {},
     "output_type": "execute_result"
    }
   ],
   "source": [
    "dfff = pd.read_csv('train_Df64byy.csv')\n",
    "dfff.shape"
   ]
  },
  {
   "cell_type": "code",
   "execution_count": 679,
   "metadata": {
    "scrolled": false
   },
   "outputs": [
    {
     "data": {
      "text/html": [
       "<div>\n",
       "<style scoped>\n",
       "    .dataframe tbody tr th:only-of-type {\n",
       "        vertical-align: middle;\n",
       "    }\n",
       "\n",
       "    .dataframe tbody tr th {\n",
       "        vertical-align: top;\n",
       "    }\n",
       "\n",
       "    .dataframe thead th {\n",
       "        text-align: right;\n",
       "    }\n",
       "</style>\n",
       "<table border=\"1\" class=\"dataframe\">\n",
       "  <thead>\n",
       "    <tr style=\"text-align: right;\">\n",
       "      <th></th>\n",
       "      <th>ID</th>\n",
       "      <th>City_Code</th>\n",
       "      <th>Region_Code</th>\n",
       "      <th>Accomodation_Type</th>\n",
       "      <th>Reco_Insurance_Type</th>\n",
       "      <th>Upper_Age</th>\n",
       "      <th>Lower_Age</th>\n",
       "      <th>Is_Spouse</th>\n",
       "      <th>Health Indicator</th>\n",
       "      <th>Holding_Policy_Duration</th>\n",
       "      <th>Holding_Policy_Type</th>\n",
       "      <th>Reco_Policy_Cat</th>\n",
       "      <th>Reco_Policy_Premium</th>\n",
       "      <th>Response</th>\n",
       "    </tr>\n",
       "  </thead>\n",
       "  <tbody>\n",
       "    <tr>\n",
       "      <th>0</th>\n",
       "      <td>1</td>\n",
       "      <td>C3</td>\n",
       "      <td>3213</td>\n",
       "      <td>Rented</td>\n",
       "      <td>Individual</td>\n",
       "      <td>36</td>\n",
       "      <td>36</td>\n",
       "      <td>No</td>\n",
       "      <td>X1</td>\n",
       "      <td>14+</td>\n",
       "      <td>3.0</td>\n",
       "      <td>22</td>\n",
       "      <td>11628.0</td>\n",
       "      <td>0</td>\n",
       "    </tr>\n",
       "    <tr>\n",
       "      <th>1</th>\n",
       "      <td>2</td>\n",
       "      <td>C5</td>\n",
       "      <td>1117</td>\n",
       "      <td>Owned</td>\n",
       "      <td>Joint</td>\n",
       "      <td>75</td>\n",
       "      <td>22</td>\n",
       "      <td>No</td>\n",
       "      <td>X2</td>\n",
       "      <td>NaN</td>\n",
       "      <td>NaN</td>\n",
       "      <td>22</td>\n",
       "      <td>30510.0</td>\n",
       "      <td>0</td>\n",
       "    </tr>\n",
       "    <tr>\n",
       "      <th>2</th>\n",
       "      <td>3</td>\n",
       "      <td>C5</td>\n",
       "      <td>3732</td>\n",
       "      <td>Owned</td>\n",
       "      <td>Individual</td>\n",
       "      <td>32</td>\n",
       "      <td>32</td>\n",
       "      <td>No</td>\n",
       "      <td>NaN</td>\n",
       "      <td>1.0</td>\n",
       "      <td>1.0</td>\n",
       "      <td>19</td>\n",
       "      <td>7450.0</td>\n",
       "      <td>1</td>\n",
       "    </tr>\n",
       "    <tr>\n",
       "      <th>3</th>\n",
       "      <td>4</td>\n",
       "      <td>C24</td>\n",
       "      <td>4378</td>\n",
       "      <td>Owned</td>\n",
       "      <td>Joint</td>\n",
       "      <td>52</td>\n",
       "      <td>48</td>\n",
       "      <td>No</td>\n",
       "      <td>X1</td>\n",
       "      <td>14+</td>\n",
       "      <td>3.0</td>\n",
       "      <td>19</td>\n",
       "      <td>17780.0</td>\n",
       "      <td>0</td>\n",
       "    </tr>\n",
       "    <tr>\n",
       "      <th>4</th>\n",
       "      <td>5</td>\n",
       "      <td>C8</td>\n",
       "      <td>2190</td>\n",
       "      <td>Rented</td>\n",
       "      <td>Individual</td>\n",
       "      <td>44</td>\n",
       "      <td>44</td>\n",
       "      <td>No</td>\n",
       "      <td>X2</td>\n",
       "      <td>3.0</td>\n",
       "      <td>1.0</td>\n",
       "      <td>16</td>\n",
       "      <td>10404.0</td>\n",
       "      <td>0</td>\n",
       "    </tr>\n",
       "  </tbody>\n",
       "</table>\n",
       "</div>"
      ],
      "text/plain": [
       "   ID City_Code  Region_Code Accomodation_Type Reco_Insurance_Type  Upper_Age  \\\n",
       "0   1        C3         3213            Rented          Individual         36   \n",
       "1   2        C5         1117             Owned               Joint         75   \n",
       "2   3        C5         3732             Owned          Individual         32   \n",
       "3   4       C24         4378             Owned               Joint         52   \n",
       "4   5        C8         2190            Rented          Individual         44   \n",
       "\n",
       "   Lower_Age Is_Spouse Health Indicator Holding_Policy_Duration  \\\n",
       "0         36        No               X1                     14+   \n",
       "1         22        No               X2                     NaN   \n",
       "2         32        No              NaN                     1.0   \n",
       "3         48        No               X1                     14+   \n",
       "4         44        No               X2                     3.0   \n",
       "\n",
       "   Holding_Policy_Type  Reco_Policy_Cat  Reco_Policy_Premium  Response  \n",
       "0                  3.0               22              11628.0         0  \n",
       "1                  NaN               22              30510.0         0  \n",
       "2                  1.0               19               7450.0         1  \n",
       "3                  3.0               19              17780.0         0  \n",
       "4                  1.0               16              10404.0         0  "
      ]
     },
     "execution_count": 679,
     "metadata": {},
     "output_type": "execute_result"
    }
   ],
   "source": [
    "df = pd.read_csv('train_Df64byy.csv')\n",
    "df.head()"
   ]
  },
  {
   "cell_type": "markdown",
   "metadata": {},
   "source": [
    "### Checking the dataset is balanced or not?"
   ]
  },
  {
   "cell_type": "code",
   "execution_count": 680,
   "metadata": {
    "scrolled": true
   },
   "outputs": [
    {
     "data": {
      "text/plain": [
       "<AxesSubplot:xlabel='Response', ylabel='count'>"
      ]
     },
     "execution_count": 680,
     "metadata": {},
     "output_type": "execute_result"
    },
    {
     "data": {
      "image/png": "[encoded data removed]",
      "text/plain": [
       "<Figure size 432x288 with 1 Axes>"
      ]
     },
     "metadata": {
      "needs_background": "light"
     },
     "output_type": "display_data"
    }
   ],
   "source": [
    "sns.countplot(x='Response', data=df)"
   ]
  },
  {
   "cell_type": "markdown",
   "metadata": {},
   "source": [
    "### Checking for the missing values in the whole train dataset"
   ]
  },
  {
   "cell_type": "code",
   "execution_count": 681,
   "metadata": {},
   "outputs": [
    {
     "data": {
      "text/plain": [
       "ID                         0.00\n",
       "City_Code                  0.00\n",
       "Region_Code                0.00\n",
       "Accomodation_Type          0.00\n",
       "Reco_Insurance_Type        0.00\n",
       "Upper_Age                  0.00\n",
       "Lower_Age                  0.00\n",
       "Is_Spouse                  0.00\n",
       "Reco_Policy_Cat            0.00\n",
       "Reco_Policy_Premium        0.00\n",
       "Response                   0.00\n",
       "Health Indicator           0.23\n",
       "Holding_Policy_Duration    0.40\n",
       "Holding_Policy_Type        0.40\n",
       "dtype: float64"
      ]
     },
     "execution_count": 681,
     "metadata": {},
     "output_type": "execute_result"
    }
   ],
   "source": [
    "\n",
    "np.round(df.isnull().mean(), 2).sort_values() ## checking the % of missing values"
   ]
  },
  {
   "cell_type": "markdown",
   "metadata": {},
   "source": [
    "# EDA and observing each and every column\n",
    "\n",
    "Here we will go through each and every column and observe and do feature engineering"
   ]
  },
  {
   "cell_type": "markdown",
   "metadata": {},
   "source": [
    "### City_Code "
   ]
  },
  {
   "cell_type": "code",
   "execution_count": 682,
   "metadata": {
    "scrolled": false
   },
   "outputs": [
    {
     "data": {
      "text/plain": [
       "array(['C3', 'C5', 'C24', 'C8', 'C9', 'C1', 'C15', 'C28', 'C27', 'C7',\n",
       "       'C20', 'C25', 'C4', 'C2', 'C34', 'C10', 'C17', 'C18', 'C16', 'C29',\n",
       "       'C33', 'C26', 'C19', 'C6', 'C12', 'C13', 'C11', 'C14', 'C22',\n",
       "       'C23', 'C21', 'C36', 'C32', 'C30', 'C35', 'C31'], dtype=object)"
      ]
     },
     "execution_count": 682,
     "metadata": {},
     "output_type": "execute_result"
    }
   ],
   "source": [
    "df['City_Code'].unique()"
   ]
  },
  {
   "cell_type": "code",
   "execution_count": 683,
   "metadata": {},
   "outputs": [],
   "source": [
    "### removing the C character from the city code column and making it as int column\n",
    "df['City_Code'] = df['City_Code'].str.split('C', expand=True)[1]"
   ]
  },
  {
   "cell_type": "code",
   "execution_count": 684,
   "metadata": {},
   "outputs": [
    {
     "data": {
      "text/plain": [
       "dtype('O')"
      ]
     },
     "execution_count": 684,
     "metadata": {},
     "output_type": "execute_result"
    }
   ],
   "source": [
    "df['City_Code'].dtype"
   ]
  },
  {
   "cell_type": "code",
   "execution_count": 685,
   "metadata": {},
   "outputs": [
    {
     "data": {
      "text/plain": [
       "dtype('int32')"
      ]
     },
     "execution_count": 685,
     "metadata": {},
     "output_type": "execute_result"
    }
   ],
   "source": [
    "df['City_Code'] = df['City_Code'].astype(int)\n",
    "df['City_Code'].dtype"
   ]
  },
  {
   "cell_type": "code",
   "execution_count": 686,
   "metadata": {},
   "outputs": [
    {
     "data": {
      "text/html": [
       "<div>\n",
       "<style scoped>\n",
       "    .dataframe tbody tr th:only-of-type {\n",
       "        vertical-align: middle;\n",
       "    }\n",
       "\n",
       "    .dataframe tbody tr th {\n",
       "        vertical-align: top;\n",
       "    }\n",
       "\n",
       "    .dataframe thead th {\n",
       "        text-align: right;\n",
       "    }\n",
       "</style>\n",
       "<table border=\"1\" class=\"dataframe\">\n",
       "  <thead>\n",
       "    <tr style=\"text-align: right;\">\n",
       "      <th></th>\n",
       "      <th>ID</th>\n",
       "      <th>City_Code</th>\n",
       "      <th>Region_Code</th>\n",
       "      <th>Accomodation_Type</th>\n",
       "      <th>Reco_Insurance_Type</th>\n",
       "      <th>Upper_Age</th>\n",
       "      <th>Lower_Age</th>\n",
       "      <th>Is_Spouse</th>\n",
       "      <th>Health Indicator</th>\n",
       "      <th>Holding_Policy_Duration</th>\n",
       "      <th>Holding_Policy_Type</th>\n",
       "      <th>Reco_Policy_Cat</th>\n",
       "      <th>Reco_Policy_Premium</th>\n",
       "      <th>Response</th>\n",
       "    </tr>\n",
       "  </thead>\n",
       "  <tbody>\n",
       "    <tr>\n",
       "      <th>0</th>\n",
       "      <td>1</td>\n",
       "      <td>3</td>\n",
       "      <td>3213</td>\n",
       "      <td>Rented</td>\n",
       "      <td>Individual</td>\n",
       "      <td>36</td>\n",
       "      <td>36</td>\n",
       "      <td>No</td>\n",
       "      <td>X1</td>\n",
       "      <td>14+</td>\n",
       "      <td>3.0</td>\n",
       "      <td>22</td>\n",
       "      <td>11628.0</td>\n",
       "      <td>0</td>\n",
       "    </tr>\n",
       "    <tr>\n",
       "      <th>1</th>\n",
       "      <td>2</td>\n",
       "      <td>5</td>\n",
       "      <td>1117</td>\n",
       "      <td>Owned</td>\n",
       "      <td>Joint</td>\n",
       "      <td>75</td>\n",
       "      <td>22</td>\n",
       "      <td>No</td>\n",
       "      <td>X2</td>\n",
       "      <td>NaN</td>\n",
       "      <td>NaN</td>\n",
       "      <td>22</td>\n",
       "      <td>30510.0</td>\n",
       "      <td>0</td>\n",
       "    </tr>\n",
       "    <tr>\n",
       "      <th>2</th>\n",
       "      <td>3</td>\n",
       "      <td>5</td>\n",
       "      <td>3732</td>\n",
       "      <td>Owned</td>\n",
       "      <td>Individual</td>\n",
       "      <td>32</td>\n",
       "      <td>32</td>\n",
       "      <td>No</td>\n",
       "      <td>NaN</td>\n",
       "      <td>1.0</td>\n",
       "      <td>1.0</td>\n",
       "      <td>19</td>\n",
       "      <td>7450.0</td>\n",
       "      <td>1</td>\n",
       "    </tr>\n",
       "    <tr>\n",
       "      <th>3</th>\n",
       "      <td>4</td>\n",
       "      <td>24</td>\n",
       "      <td>4378</td>\n",
       "      <td>Owned</td>\n",
       "      <td>Joint</td>\n",
       "      <td>52</td>\n",
       "      <td>48</td>\n",
       "      <td>No</td>\n",
       "      <td>X1</td>\n",
       "      <td>14+</td>\n",
       "      <td>3.0</td>\n",
       "      <td>19</td>\n",
       "      <td>17780.0</td>\n",
       "      <td>0</td>\n",
       "    </tr>\n",
       "    <tr>\n",
       "      <th>4</th>\n",
       "      <td>5</td>\n",
       "      <td>8</td>\n",
       "      <td>2190</td>\n",
       "      <td>Rented</td>\n",
       "      <td>Individual</td>\n",
       "      <td>44</td>\n",
       "      <td>44</td>\n",
       "      <td>No</td>\n",
       "      <td>X2</td>\n",
       "      <td>3.0</td>\n",
       "      <td>1.0</td>\n",
       "      <td>16</td>\n",
       "      <td>10404.0</td>\n",
       "      <td>0</td>\n",
       "    </tr>\n",
       "  </tbody>\n",
       "</table>\n",
       "</div>"
      ],
      "text/plain": [
       "   ID  City_Code  Region_Code Accomodation_Type Reco_Insurance_Type  \\\n",
       "0   1          3         3213            Rented          Individual   \n",
       "1   2          5         1117             Owned               Joint   \n",
       "2   3          5         3732             Owned          Individual   \n",
       "3   4         24         4378             Owned               Joint   \n",
       "4   5          8         2190            Rented          Individual   \n",
       "\n",
       "   Upper_Age  Lower_Age Is_Spouse Health Indicator Holding_Policy_Duration  \\\n",
       "0         36         36        No               X1                     14+   \n",
       "1         75         22        No               X2                     NaN   \n",
       "2         32         32        No              NaN                     1.0   \n",
       "3         52         48        No               X1                     14+   \n",
       "4         44         44        No               X2                     3.0   \n",
       "\n",
       "   Holding_Policy_Type  Reco_Policy_Cat  Reco_Policy_Premium  Response  \n",
       "0                  3.0               22              11628.0         0  \n",
       "1                  NaN               22              30510.0         0  \n",
       "2                  1.0               19               7450.0         1  \n",
       "3                  3.0               19              17780.0         0  \n",
       "4                  1.0               16              10404.0         0  "
      ]
     },
     "execution_count": 686,
     "metadata": {},
     "output_type": "execute_result"
    }
   ],
   "source": [
    "df.head()"
   ]
  },
  {
   "cell_type": "markdown",
   "metadata": {},
   "source": [
    "### Region_Code \n",
    "\n",
    "It is a discrete numerical variable"
   ]
  },
  {
   "cell_type": "code",
   "execution_count": 687,
   "metadata": {},
   "outputs": [
    {
     "data": {
      "text/plain": [
       "<AxesSubplot:xlabel='Region_Code', ylabel='Count'>"
      ]
     },
     "execution_count": 687,
     "metadata": {},
     "output_type": "execute_result"
    },
    {
     "data": {
      "image/png": "[encoded data removed]",
      "text/plain": [
       "<Figure size 432x288 with 1 Axes>"
      ]
     },
     "metadata": {
      "needs_background": "light"
     },
     "output_type": "display_data"
    }
   ],
   "source": [
    "sns.histplot(np.log(df['Region_Code']))"
   ]
  },
  {
   "cell_type": "code",
   "execution_count": 688,
   "metadata": {},
   "outputs": [
    {
     "data": {
      "text/plain": [
       "(6.887818913152858, 7.237778191923443)"
      ]
     },
     "execution_count": 688,
     "metadata": {},
     "output_type": "execute_result"
    }
   ],
   "source": [
    "### Checking the distribution of the Region_Code column and looking for the best transformation\n",
    "\n",
    "np.log(df['Region_Code']).mean(), np.log(df['Region_Code']).median()  "
   ]
  },
  {
   "cell_type": "code",
   "execution_count": 689,
   "metadata": {},
   "outputs": [
    {
     "data": {
      "text/plain": [
       "(37.39026274378287, 37.296112397943034)"
      ]
     },
     "execution_count": 689,
     "metadata": {},
     "output_type": "execute_result"
    }
   ],
   "source": [
    "np.sqrt(df['Region_Code']).mean(), np.sqrt(df['Region_Code']).median()"
   ]
  },
  {
   "cell_type": "code",
   "execution_count": 690,
   "metadata": {},
   "outputs": [],
   "source": [
    "#### Scaling down the features\n",
    "\n",
    "df['Region_Code']=np.sqrt(df['Region_Code'])"
   ]
  },
  {
   "cell_type": "code",
   "execution_count": 691,
   "metadata": {},
   "outputs": [
    {
     "data": {
      "text/plain": [
       "0        56.683331\n",
       "1        33.421550\n",
       "2        61.090097\n",
       "3        66.166457\n",
       "4        46.797436\n",
       "           ...    \n",
       "50877    29.068884\n",
       "50878    64.714759\n",
       "50879    21.023796\n",
       "50880     2.000000\n",
       "50881    62.177166\n",
       "Name: Region_Code, Length: 50882, dtype: float64"
      ]
     },
     "execution_count": 691,
     "metadata": {},
     "output_type": "execute_result"
    }
   ],
   "source": [
    "df['Region_Code']"
   ]
  },
  {
   "cell_type": "code",
   "execution_count": 692,
   "metadata": {},
   "outputs": [
    {
     "data": {
      "text/plain": [
       "<AxesSubplot:xlabel='Region_Code', ylabel='Count'>"
      ]
     },
     "execution_count": 692,
     "metadata": {},
     "output_type": "execute_result"
    },
    {
     "data": {
      "image/png": "[encoded data removed]",
      "text/plain": [
       "<Figure size 432x288 with 1 Axes>"
      ]
     },
     "metadata": {
      "needs_background": "light"
     },
     "output_type": "display_data"
    }
   ],
   "source": [
    "sns.histplot(df['Region_Code'])"
   ]
  },
  {
   "cell_type": "markdown",
   "metadata": {},
   "source": [
    "### Accomodation_Type\n",
    "\n",
    "It is a categorical variable with 2 categories"
   ]
  },
  {
   "cell_type": "code",
   "execution_count": 693,
   "metadata": {
    "scrolled": true
   },
   "outputs": [
    {
     "data": {
      "text/plain": [
       "Owned     27951\n",
       "Rented    22931\n",
       "Name: Accomodation_Type, dtype: int64"
      ]
     },
     "execution_count": 693,
     "metadata": {},
     "output_type": "execute_result"
    }
   ],
   "source": [
    "\n",
    "df['Accomodation_Type'].value_counts()"
   ]
  },
  {
   "cell_type": "code",
   "execution_count": 694,
   "metadata": {},
   "outputs": [
    {
     "data": {
      "text/plain": [
       "<AxesSubplot:xlabel='Accomodation_Type', ylabel='count'>"
      ]
     },
     "execution_count": 694,
     "metadata": {},
     "output_type": "execute_result"
    },
    {
     "data": {
      "image/png": "[encoded data removed]",
      "text/plain": [
       "<Figure size 432x288 with 1 Axes>"
      ]
     },
     "metadata": {
      "needs_background": "light"
     },
     "output_type": "display_data"
    }
   ],
   "source": [
    "sns.countplot(x='Accomodation_Type', data=df)"
   ]
  },
  {
   "cell_type": "code",
   "execution_count": 695,
   "metadata": {},
   "outputs": [
    {
     "data": {
      "text/plain": [
       "Accomodation_Type  Response\n",
       "Owned              0           21188\n",
       "                   1            6763\n",
       "Rented             0           17485\n",
       "                   1            5446\n",
       "Name: Response, dtype: int64"
      ]
     },
     "execution_count": 695,
     "metadata": {},
     "output_type": "execute_result"
    }
   ],
   "source": [
    "df.groupby(['Accomodation_Type'])['Response'].value_counts()"
   ]
  },
  {
   "cell_type": "code",
   "execution_count": 696,
   "metadata": {},
   "outputs": [
    {
     "data": {
      "text/html": [
       "<div>\n",
       "<style scoped>\n",
       "    .dataframe tbody tr th:only-of-type {\n",
       "        vertical-align: middle;\n",
       "    }\n",
       "\n",
       "    .dataframe tbody tr th {\n",
       "        vertical-align: top;\n",
       "    }\n",
       "\n",
       "    .dataframe thead th {\n",
       "        text-align: right;\n",
       "    }\n",
       "</style>\n",
       "<table border=\"1\" class=\"dataframe\">\n",
       "  <thead>\n",
       "    <tr style=\"text-align: right;\">\n",
       "      <th></th>\n",
       "      <th>ID</th>\n",
       "      <th>City_Code</th>\n",
       "      <th>Region_Code</th>\n",
       "      <th>Accomodation_Type</th>\n",
       "      <th>Reco_Insurance_Type</th>\n",
       "      <th>Upper_Age</th>\n",
       "      <th>Lower_Age</th>\n",
       "      <th>Is_Spouse</th>\n",
       "      <th>Health Indicator</th>\n",
       "      <th>Holding_Policy_Duration</th>\n",
       "      <th>Holding_Policy_Type</th>\n",
       "      <th>Reco_Policy_Cat</th>\n",
       "      <th>Reco_Policy_Premium</th>\n",
       "      <th>Response</th>\n",
       "      <th>Rented</th>\n",
       "    </tr>\n",
       "  </thead>\n",
       "  <tbody>\n",
       "    <tr>\n",
       "      <th>0</th>\n",
       "      <td>1</td>\n",
       "      <td>3</td>\n",
       "      <td>56.683331</td>\n",
       "      <td>Rented</td>\n",
       "      <td>Individual</td>\n",
       "      <td>36</td>\n",
       "      <td>36</td>\n",
       "      <td>No</td>\n",
       "      <td>X1</td>\n",
       "      <td>14+</td>\n",
       "      <td>3.0</td>\n",
       "      <td>22</td>\n",
       "      <td>11628.0</td>\n",
       "      <td>0</td>\n",
       "      <td>1</td>\n",
       "    </tr>\n",
       "    <tr>\n",
       "      <th>1</th>\n",
       "      <td>2</td>\n",
       "      <td>5</td>\n",
       "      <td>33.421550</td>\n",
       "      <td>Owned</td>\n",
       "      <td>Joint</td>\n",
       "      <td>75</td>\n",
       "      <td>22</td>\n",
       "      <td>No</td>\n",
       "      <td>X2</td>\n",
       "      <td>NaN</td>\n",
       "      <td>NaN</td>\n",
       "      <td>22</td>\n",
       "      <td>30510.0</td>\n",
       "      <td>0</td>\n",
       "      <td>0</td>\n",
       "    </tr>\n",
       "    <tr>\n",
       "      <th>2</th>\n",
       "      <td>3</td>\n",
       "      <td>5</td>\n",
       "      <td>61.090097</td>\n",
       "      <td>Owned</td>\n",
       "      <td>Individual</td>\n",
       "      <td>32</td>\n",
       "      <td>32</td>\n",
       "      <td>No</td>\n",
       "      <td>NaN</td>\n",
       "      <td>1.0</td>\n",
       "      <td>1.0</td>\n",
       "      <td>19</td>\n",
       "      <td>7450.0</td>\n",
       "      <td>1</td>\n",
       "      <td>0</td>\n",
       "    </tr>\n",
       "    <tr>\n",
       "      <th>3</th>\n",
       "      <td>4</td>\n",
       "      <td>24</td>\n",
       "      <td>66.166457</td>\n",
       "      <td>Owned</td>\n",
       "      <td>Joint</td>\n",
       "      <td>52</td>\n",
       "      <td>48</td>\n",
       "      <td>No</td>\n",
       "      <td>X1</td>\n",
       "      <td>14+</td>\n",
       "      <td>3.0</td>\n",
       "      <td>19</td>\n",
       "      <td>17780.0</td>\n",
       "      <td>0</td>\n",
       "      <td>0</td>\n",
       "    </tr>\n",
       "    <tr>\n",
       "      <th>4</th>\n",
       "      <td>5</td>\n",
       "      <td>8</td>\n",
       "      <td>46.797436</td>\n",
       "      <td>Rented</td>\n",
       "      <td>Individual</td>\n",
       "      <td>44</td>\n",
       "      <td>44</td>\n",
       "      <td>No</td>\n",
       "      <td>X2</td>\n",
       "      <td>3.0</td>\n",
       "      <td>1.0</td>\n",
       "      <td>16</td>\n",
       "      <td>10404.0</td>\n",
       "      <td>0</td>\n",
       "      <td>1</td>\n",
       "    </tr>\n",
       "  </tbody>\n",
       "</table>\n",
       "</div>"
      ],
      "text/plain": [
       "   ID  City_Code  Region_Code Accomodation_Type Reco_Insurance_Type  \\\n",
       "0   1          3    56.683331            Rented          Individual   \n",
       "1   2          5    33.421550             Owned               Joint   \n",
       "2   3          5    61.090097             Owned          Individual   \n",
       "3   4         24    66.166457             Owned               Joint   \n",
       "4   5          8    46.797436            Rented          Individual   \n",
       "\n",
       "   Upper_Age  Lower_Age Is_Spouse Health Indicator Holding_Policy_Duration  \\\n",
       "0         36         36        No               X1                     14+   \n",
       "1         75         22        No               X2                     NaN   \n",
       "2         32         32        No              NaN                     1.0   \n",
       "3         52         48        No               X1                     14+   \n",
       "4         44         44        No               X2                     3.0   \n",
       "\n",
       "   Holding_Policy_Type  Reco_Policy_Cat  Reco_Policy_Premium  Response  Rented  \n",
       "0                  3.0               22              11628.0         0       1  \n",
       "1                  NaN               22              30510.0         0       0  \n",
       "2                  1.0               19               7450.0         1       0  \n",
       "3                  3.0               19              17780.0         0       0  \n",
       "4                  1.0               16              10404.0         0       1  "
      ]
     },
     "execution_count": 696,
     "metadata": {},
     "output_type": "execute_result"
    }
   ],
   "source": [
    "#### Doing One Hot encoding \n",
    "\n",
    "df = pd.concat([df, pd.get_dummies(df['Accomodation_Type'], drop_first=True) ], axis=1)\n",
    "df.head()"
   ]
  },
  {
   "cell_type": "code",
   "execution_count": 697,
   "metadata": {},
   "outputs": [],
   "source": [
    "#### Dropping the column\n",
    "\n",
    "df = df.drop(['Accomodation_Type'], axis=1)"
   ]
  },
  {
   "cell_type": "code",
   "execution_count": 698,
   "metadata": {},
   "outputs": [
    {
     "data": {
      "text/html": [
       "<div>\n",
       "<style scoped>\n",
       "    .dataframe tbody tr th:only-of-type {\n",
       "        vertical-align: middle;\n",
       "    }\n",
       "\n",
       "    .dataframe tbody tr th {\n",
       "        vertical-align: top;\n",
       "    }\n",
       "\n",
       "    .dataframe thead th {\n",
       "        text-align: right;\n",
       "    }\n",
       "</style>\n",
       "<table border=\"1\" class=\"dataframe\">\n",
       "  <thead>\n",
       "    <tr style=\"text-align: right;\">\n",
       "      <th></th>\n",
       "      <th>ID</th>\n",
       "      <th>City_Code</th>\n",
       "      <th>Region_Code</th>\n",
       "      <th>Reco_Insurance_Type</th>\n",
       "      <th>Upper_Age</th>\n",
       "      <th>Lower_Age</th>\n",
       "      <th>Is_Spouse</th>\n",
       "      <th>Health Indicator</th>\n",
       "      <th>Holding_Policy_Duration</th>\n",
       "      <th>Holding_Policy_Type</th>\n",
       "      <th>Reco_Policy_Cat</th>\n",
       "      <th>Reco_Policy_Premium</th>\n",
       "      <th>Response</th>\n",
       "      <th>Rented</th>\n",
       "    </tr>\n",
       "  </thead>\n",
       "  <tbody>\n",
       "    <tr>\n",
       "      <th>0</th>\n",
       "      <td>1</td>\n",
       "      <td>3</td>\n",
       "      <td>56.683331</td>\n",
       "      <td>Individual</td>\n",
       "      <td>36</td>\n",
       "      <td>36</td>\n",
       "      <td>No</td>\n",
       "      <td>X1</td>\n",
       "      <td>14+</td>\n",
       "      <td>3.0</td>\n",
       "      <td>22</td>\n",
       "      <td>11628.0</td>\n",
       "      <td>0</td>\n",
       "      <td>1</td>\n",
       "    </tr>\n",
       "    <tr>\n",
       "      <th>1</th>\n",
       "      <td>2</td>\n",
       "      <td>5</td>\n",
       "      <td>33.421550</td>\n",
       "      <td>Joint</td>\n",
       "      <td>75</td>\n",
       "      <td>22</td>\n",
       "      <td>No</td>\n",
       "      <td>X2</td>\n",
       "      <td>NaN</td>\n",
       "      <td>NaN</td>\n",
       "      <td>22</td>\n",
       "      <td>30510.0</td>\n",
       "      <td>0</td>\n",
       "      <td>0</td>\n",
       "    </tr>\n",
       "    <tr>\n",
       "      <th>2</th>\n",
       "      <td>3</td>\n",
       "      <td>5</td>\n",
       "      <td>61.090097</td>\n",
       "      <td>Individual</td>\n",
       "      <td>32</td>\n",
       "      <td>32</td>\n",
       "      <td>No</td>\n",
       "      <td>NaN</td>\n",
       "      <td>1.0</td>\n",
       "      <td>1.0</td>\n",
       "      <td>19</td>\n",
       "      <td>7450.0</td>\n",
       "      <td>1</td>\n",
       "      <td>0</td>\n",
       "    </tr>\n",
       "    <tr>\n",
       "      <th>3</th>\n",
       "      <td>4</td>\n",
       "      <td>24</td>\n",
       "      <td>66.166457</td>\n",
       "      <td>Joint</td>\n",
       "      <td>52</td>\n",
       "      <td>48</td>\n",
       "      <td>No</td>\n",
       "      <td>X1</td>\n",
       "      <td>14+</td>\n",
       "      <td>3.0</td>\n",
       "      <td>19</td>\n",
       "      <td>17780.0</td>\n",
       "      <td>0</td>\n",
       "      <td>0</td>\n",
       "    </tr>\n",
       "    <tr>\n",
       "      <th>4</th>\n",
       "      <td>5</td>\n",
       "      <td>8</td>\n",
       "      <td>46.797436</td>\n",
       "      <td>Individual</td>\n",
       "      <td>44</td>\n",
       "      <td>44</td>\n",
       "      <td>No</td>\n",
       "      <td>X2</td>\n",
       "      <td>3.0</td>\n",
       "      <td>1.0</td>\n",
       "      <td>16</td>\n",
       "      <td>10404.0</td>\n",
       "      <td>0</td>\n",
       "      <td>1</td>\n",
       "    </tr>\n",
       "  </tbody>\n",
       "</table>\n",
       "</div>"
      ],
      "text/plain": [
       "   ID  City_Code  Region_Code Reco_Insurance_Type  Upper_Age  Lower_Age  \\\n",
       "0   1          3    56.683331          Individual         36         36   \n",
       "1   2          5    33.421550               Joint         75         22   \n",
       "2   3          5    61.090097          Individual         32         32   \n",
       "3   4         24    66.166457               Joint         52         48   \n",
       "4   5          8    46.797436          Individual         44         44   \n",
       "\n",
       "  Is_Spouse Health Indicator Holding_Policy_Duration  Holding_Policy_Type  \\\n",
       "0        No               X1                     14+                  3.0   \n",
       "1        No               X2                     NaN                  NaN   \n",
       "2        No              NaN                     1.0                  1.0   \n",
       "3        No               X1                     14+                  3.0   \n",
       "4        No               X2                     3.0                  1.0   \n",
       "\n",
       "   Reco_Policy_Cat  Reco_Policy_Premium  Response  Rented  \n",
       "0               22              11628.0         0       1  \n",
       "1               22              30510.0         0       0  \n",
       "2               19               7450.0         1       0  \n",
       "3               19              17780.0         0       0  \n",
       "4               16              10404.0         0       1  "
      ]
     },
     "execution_count": 698,
     "metadata": {},
     "output_type": "execute_result"
    }
   ],
   "source": [
    "df.head()"
   ]
  },
  {
   "cell_type": "markdown",
   "metadata": {},
   "source": [
    "### Reco_Insurance_Type\n",
    "\n",
    "It is a categorical variable with 2 categories!!"
   ]
  },
  {
   "cell_type": "code",
   "execution_count": 699,
   "metadata": {},
   "outputs": [
    {
     "data": {
      "text/plain": [
       "array(['Individual', 'Joint'], dtype=object)"
      ]
     },
     "execution_count": 699,
     "metadata": {},
     "output_type": "execute_result"
    }
   ],
   "source": [
    "df['Reco_Insurance_Type'].unique()"
   ]
  },
  {
   "cell_type": "code",
   "execution_count": 700,
   "metadata": {},
   "outputs": [
    {
     "data": {
      "text/plain": [
       "Reco_Insurance_Type  Response\n",
       "Individual           0           30896\n",
       "                     1            9640\n",
       "Joint                0            7777\n",
       "                     1            2569\n",
       "Name: Response, dtype: int64"
      ]
     },
     "execution_count": 700,
     "metadata": {},
     "output_type": "execute_result"
    }
   ],
   "source": [
    "df.groupby(['Reco_Insurance_Type'])['Response'].value_counts()"
   ]
  },
  {
   "cell_type": "code",
   "execution_count": 701,
   "metadata": {},
   "outputs": [
    {
     "data": {
      "text/html": [
       "<div>\n",
       "<style scoped>\n",
       "    .dataframe tbody tr th:only-of-type {\n",
       "        vertical-align: middle;\n",
       "    }\n",
       "\n",
       "    .dataframe tbody tr th {\n",
       "        vertical-align: top;\n",
       "    }\n",
       "\n",
       "    .dataframe thead th {\n",
       "        text-align: right;\n",
       "    }\n",
       "</style>\n",
       "<table border=\"1\" class=\"dataframe\">\n",
       "  <thead>\n",
       "    <tr style=\"text-align: right;\">\n",
       "      <th></th>\n",
       "      <th>ID</th>\n",
       "      <th>City_Code</th>\n",
       "      <th>Region_Code</th>\n",
       "      <th>Reco_Insurance_Type</th>\n",
       "      <th>Upper_Age</th>\n",
       "      <th>Lower_Age</th>\n",
       "      <th>Is_Spouse</th>\n",
       "      <th>Health Indicator</th>\n",
       "      <th>Holding_Policy_Duration</th>\n",
       "      <th>Holding_Policy_Type</th>\n",
       "      <th>Reco_Policy_Cat</th>\n",
       "      <th>Reco_Policy_Premium</th>\n",
       "      <th>Response</th>\n",
       "      <th>Rented</th>\n",
       "      <th>Joint</th>\n",
       "    </tr>\n",
       "  </thead>\n",
       "  <tbody>\n",
       "    <tr>\n",
       "      <th>0</th>\n",
       "      <td>1</td>\n",
       "      <td>3</td>\n",
       "      <td>56.683331</td>\n",
       "      <td>Individual</td>\n",
       "      <td>36</td>\n",
       "      <td>36</td>\n",
       "      <td>No</td>\n",
       "      <td>X1</td>\n",
       "      <td>14+</td>\n",
       "      <td>3.0</td>\n",
       "      <td>22</td>\n",
       "      <td>11628.0</td>\n",
       "      <td>0</td>\n",
       "      <td>1</td>\n",
       "      <td>0</td>\n",
       "    </tr>\n",
       "    <tr>\n",
       "      <th>1</th>\n",
       "      <td>2</td>\n",
       "      <td>5</td>\n",
       "      <td>33.421550</td>\n",
       "      <td>Joint</td>\n",
       "      <td>75</td>\n",
       "      <td>22</td>\n",
       "      <td>No</td>\n",
       "      <td>X2</td>\n",
       "      <td>NaN</td>\n",
       "      <td>NaN</td>\n",
       "      <td>22</td>\n",
       "      <td>30510.0</td>\n",
       "      <td>0</td>\n",
       "      <td>0</td>\n",
       "      <td>1</td>\n",
       "    </tr>\n",
       "    <tr>\n",
       "      <th>2</th>\n",
       "      <td>3</td>\n",
       "      <td>5</td>\n",
       "      <td>61.090097</td>\n",
       "      <td>Individual</td>\n",
       "      <td>32</td>\n",
       "      <td>32</td>\n",
       "      <td>No</td>\n",
       "      <td>NaN</td>\n",
       "      <td>1.0</td>\n",
       "      <td>1.0</td>\n",
       "      <td>19</td>\n",
       "      <td>7450.0</td>\n",
       "      <td>1</td>\n",
       "      <td>0</td>\n",
       "      <td>0</td>\n",
       "    </tr>\n",
       "    <tr>\n",
       "      <th>3</th>\n",
       "      <td>4</td>\n",
       "      <td>24</td>\n",
       "      <td>66.166457</td>\n",
       "      <td>Joint</td>\n",
       "      <td>52</td>\n",
       "      <td>48</td>\n",
       "      <td>No</td>\n",
       "      <td>X1</td>\n",
       "      <td>14+</td>\n",
       "      <td>3.0</td>\n",
       "      <td>19</td>\n",
       "      <td>17780.0</td>\n",
       "      <td>0</td>\n",
       "      <td>0</td>\n",
       "      <td>1</td>\n",
       "    </tr>\n",
       "    <tr>\n",
       "      <th>4</th>\n",
       "      <td>5</td>\n",
       "      <td>8</td>\n",
       "      <td>46.797436</td>\n",
       "      <td>Individual</td>\n",
       "      <td>44</td>\n",
       "      <td>44</td>\n",
       "      <td>No</td>\n",
       "      <td>X2</td>\n",
       "      <td>3.0</td>\n",
       "      <td>1.0</td>\n",
       "      <td>16</td>\n",
       "      <td>10404.0</td>\n",
       "      <td>0</td>\n",
       "      <td>1</td>\n",
       "      <td>0</td>\n",
       "    </tr>\n",
       "  </tbody>\n",
       "</table>\n",
       "</div>"
      ],
      "text/plain": [
       "   ID  City_Code  Region_Code Reco_Insurance_Type  Upper_Age  Lower_Age  \\\n",
       "0   1          3    56.683331          Individual         36         36   \n",
       "1   2          5    33.421550               Joint         75         22   \n",
       "2   3          5    61.090097          Individual         32         32   \n",
       "3   4         24    66.166457               Joint         52         48   \n",
       "4   5          8    46.797436          Individual         44         44   \n",
       "\n",
       "  Is_Spouse Health Indicator Holding_Policy_Duration  Holding_Policy_Type  \\\n",
       "0        No               X1                     14+                  3.0   \n",
       "1        No               X2                     NaN                  NaN   \n",
       "2        No              NaN                     1.0                  1.0   \n",
       "3        No               X1                     14+                  3.0   \n",
       "4        No               X2                     3.0                  1.0   \n",
       "\n",
       "   Reco_Policy_Cat  Reco_Policy_Premium  Response  Rented  Joint  \n",
       "0               22              11628.0         0       1      0  \n",
       "1               22              30510.0         0       0      1  \n",
       "2               19               7450.0         1       0      0  \n",
       "3               19              17780.0         0       0      1  \n",
       "4               16              10404.0         0       1      0  "
      ]
     },
     "execution_count": 701,
     "metadata": {},
     "output_type": "execute_result"
    }
   ],
   "source": [
    "#### Doing One Hot Encoding \n",
    "\n",
    "df = pd.concat([df, pd.get_dummies(df['Reco_Insurance_Type'], drop_first=True)], axis=1)\n",
    "df.head()"
   ]
  },
  {
   "cell_type": "code",
   "execution_count": 702,
   "metadata": {},
   "outputs": [],
   "source": [
    "#### Dropping this column after doing the one hot encoding\n",
    "\n",
    "\n",
    "df.drop(['Reco_Insurance_Type'],axis=1, inplace=True)"
   ]
  },
  {
   "cell_type": "code",
   "execution_count": 703,
   "metadata": {},
   "outputs": [
    {
     "data": {
      "text/html": [
       "<div>\n",
       "<style scoped>\n",
       "    .dataframe tbody tr th:only-of-type {\n",
       "        vertical-align: middle;\n",
       "    }\n",
       "\n",
       "    .dataframe tbody tr th {\n",
       "        vertical-align: top;\n",
       "    }\n",
       "\n",
       "    .dataframe thead th {\n",
       "        text-align: right;\n",
       "    }\n",
       "</style>\n",
       "<table border=\"1\" class=\"dataframe\">\n",
       "  <thead>\n",
       "    <tr style=\"text-align: right;\">\n",
       "      <th></th>\n",
       "      <th>ID</th>\n",
       "      <th>City_Code</th>\n",
       "      <th>Region_Code</th>\n",
       "      <th>Upper_Age</th>\n",
       "      <th>Lower_Age</th>\n",
       "      <th>Is_Spouse</th>\n",
       "      <th>Health Indicator</th>\n",
       "      <th>Holding_Policy_Duration</th>\n",
       "      <th>Holding_Policy_Type</th>\n",
       "      <th>Reco_Policy_Cat</th>\n",
       "      <th>Reco_Policy_Premium</th>\n",
       "      <th>Response</th>\n",
       "      <th>Rented</th>\n",
       "      <th>Joint</th>\n",
       "    </tr>\n",
       "  </thead>\n",
       "  <tbody>\n",
       "    <tr>\n",
       "      <th>0</th>\n",
       "      <td>1</td>\n",
       "      <td>3</td>\n",
       "      <td>56.683331</td>\n",
       "      <td>36</td>\n",
       "      <td>36</td>\n",
       "      <td>No</td>\n",
       "      <td>X1</td>\n",
       "      <td>14+</td>\n",
       "      <td>3.0</td>\n",
       "      <td>22</td>\n",
       "      <td>11628.0</td>\n",
       "      <td>0</td>\n",
       "      <td>1</td>\n",
       "      <td>0</td>\n",
       "    </tr>\n",
       "    <tr>\n",
       "      <th>1</th>\n",
       "      <td>2</td>\n",
       "      <td>5</td>\n",
       "      <td>33.421550</td>\n",
       "      <td>75</td>\n",
       "      <td>22</td>\n",
       "      <td>No</td>\n",
       "      <td>X2</td>\n",
       "      <td>NaN</td>\n",
       "      <td>NaN</td>\n",
       "      <td>22</td>\n",
       "      <td>30510.0</td>\n",
       "      <td>0</td>\n",
       "      <td>0</td>\n",
       "      <td>1</td>\n",
       "    </tr>\n",
       "  </tbody>\n",
       "</table>\n",
       "</div>"
      ],
      "text/plain": [
       "   ID  City_Code  Region_Code  Upper_Age  Lower_Age Is_Spouse  \\\n",
       "0   1          3    56.683331         36         36        No   \n",
       "1   2          5    33.421550         75         22        No   \n",
       "\n",
       "  Health Indicator Holding_Policy_Duration  Holding_Policy_Type  \\\n",
       "0               X1                     14+                  3.0   \n",
       "1               X2                     NaN                  NaN   \n",
       "\n",
       "   Reco_Policy_Cat  Reco_Policy_Premium  Response  Rented  Joint  \n",
       "0               22              11628.0         0       1      0  \n",
       "1               22              30510.0         0       0      1  "
      ]
     },
     "execution_count": 703,
     "metadata": {},
     "output_type": "execute_result"
    }
   ],
   "source": [
    "df.head(2)"
   ]
  },
  {
   "cell_type": "markdown",
   "metadata": {},
   "source": [
    "### Upper_Age & Lower_Age"
   ]
  },
  {
   "cell_type": "code",
   "execution_count": 704,
   "metadata": {},
   "outputs": [
    {
     "data": {
      "text/plain": [
       "<seaborn.axisgrid.FacetGrid at 0x1bd7a47d148>"
      ]
     },
     "execution_count": 704,
     "metadata": {},
     "output_type": "execute_result"
    },
    {
     "data": {
      "image/png": "[encoded data removed]",
      "text/plain": [
       "<Figure size 360x360 with 1 Axes>"
      ]
     },
     "metadata": {
      "needs_background": "light"
     },
     "output_type": "display_data"
    }
   ],
   "source": [
    "sns.displot(x='Upper_Age', data=df, bins=100)"
   ]
  },
  {
   "cell_type": "code",
   "execution_count": 705,
   "metadata": {},
   "outputs": [
    {
     "data": {
      "text/plain": [
       "<seaborn.axisgrid.FacetGrid at 0x1bd7a454348>"
      ]
     },
     "execution_count": 705,
     "metadata": {},
     "output_type": "execute_result"
    },
    {
     "data": {
      "image/png": "[encoded data removed]",
      "text/plain": [
       "<Figure size 360x360 with 1 Axes>"
      ]
     },
     "metadata": {
      "needs_background": "light"
     },
     "output_type": "display_data"
    }
   ],
   "source": [
    "sns.displot(x='Lower_Age', data=df, bins=100)"
   ]
  },
  {
   "cell_type": "code",
   "execution_count": 706,
   "metadata": {},
   "outputs": [],
   "source": [
    "ser = (df['Upper_Age'] + df['Lower_Age'])//2"
   ]
  },
  {
   "cell_type": "code",
   "execution_count": 707,
   "metadata": {
    "scrolled": false
   },
   "outputs": [
    {
     "data": {
      "text/plain": [
       "<seaborn.axisgrid.FacetGrid at 0x1bd2e1f2488>"
      ]
     },
     "execution_count": 707,
     "metadata": {},
     "output_type": "execute_result"
    },
    {
     "data": {
      "image/png": "[encoded data removed]",
      "text/plain": [
       "<Figure size 360x360 with 1 Axes>"
      ]
     },
     "metadata": {
      "needs_background": "light"
     },
     "output_type": "display_data"
    }
   ],
   "source": [
    "sns.displot(np.log(ser), bins=100)"
   ]
  },
  {
   "cell_type": "code",
   "execution_count": 708,
   "metadata": {
    "scrolled": true
   },
   "outputs": [
    {
     "data": {
      "text/plain": [
       "array([36, 48, 32, 50, 44, 52, 28, 74, 47, 42, 21, 53, 66, 20, 27, 34, 43,\n",
       "       55, 23, 18, 22, 25, 24, 37, 56, 35, 63, 64, 67, 75, 71, 70, 31, 19,\n",
       "       65, 26, 54, 33, 30, 69, 68, 29, 62, 72, 58, 39, 60, 57, 41, 40, 61,\n",
       "       45, 51, 38, 59, 49, 46, 73, 17], dtype=int64)"
      ]
     },
     "execution_count": 708,
     "metadata": {},
     "output_type": "execute_result"
    }
   ],
   "source": [
    "ser.unique()"
   ]
  },
  {
   "cell_type": "code",
   "execution_count": 655,
   "metadata": {
    "scrolled": false
   },
   "outputs": [
    {
     "data": {
      "text/plain": [
       "74    286\n",
       "73     30\n",
       "71     25\n",
       "72     17\n",
       "70     15\n",
       "Name: Lower_Age, dtype: int64"
      ]
     },
     "execution_count": 655,
     "metadata": {},
     "output_type": "execute_result"
    }
   ],
   "source": [
    "df[df['Upper_Age']==74]['Lower_Age'].value_counts()[:5]"
   ]
  },
  {
   "cell_type": "code",
   "execution_count": 656,
   "metadata": {},
   "outputs": [
    {
     "data": {
      "text/plain": [
       "18    116\n",
       "74    446\n",
       "73    492\n",
       "72    512\n",
       "19    515\n",
       "Name: Upper_Age, dtype: int64"
      ]
     },
     "execution_count": 656,
     "metadata": {},
     "output_type": "execute_result"
    }
   ],
   "source": [
    "\n",
    "df['Upper_Age'].value_counts().sort_values()[:5]"
   ]
  },
  {
   "cell_type": "code",
   "execution_count": 657,
   "metadata": {},
   "outputs": [
    {
     "data": {
      "text/plain": [
       "17    206\n",
       "16    283\n",
       "18    359\n",
       "74    395\n",
       "72    420\n",
       "Name: Lower_Age, dtype: int64"
      ]
     },
     "execution_count": 657,
     "metadata": {},
     "output_type": "execute_result"
    }
   ],
   "source": [
    "df['Lower_Age'].value_counts().sort_values()[:5]"
   ]
  },
  {
   "cell_type": "markdown",
   "metadata": {},
   "source": [
    "**So I observed that Upper_Age and Lower_Age are quite same most of the time.... the difference between them is very less ... so lets take the mean of both the column and round it off and make a single column**"
   ]
  },
  {
   "cell_type": "code",
   "execution_count": 709,
   "metadata": {},
   "outputs": [],
   "source": [
    "df['Age'] = (df['Upper_Age'] + df['Lower_Age'])//2"
   ]
  },
  {
   "cell_type": "code",
   "execution_count": 710,
   "metadata": {},
   "outputs": [],
   "source": [
    "df.drop(['Upper_Age','Lower_Age'], axis=1, inplace=True)"
   ]
  },
  {
   "cell_type": "code",
   "execution_count": 711,
   "metadata": {},
   "outputs": [
    {
     "data": {
      "text/html": [
       "<div>\n",
       "<style scoped>\n",
       "    .dataframe tbody tr th:only-of-type {\n",
       "        vertical-align: middle;\n",
       "    }\n",
       "\n",
       "    .dataframe tbody tr th {\n",
       "        vertical-align: top;\n",
       "    }\n",
       "\n",
       "    .dataframe thead th {\n",
       "        text-align: right;\n",
       "    }\n",
       "</style>\n",
       "<table border=\"1\" class=\"dataframe\">\n",
       "  <thead>\n",
       "    <tr style=\"text-align: right;\">\n",
       "      <th></th>\n",
       "      <th>ID</th>\n",
       "      <th>City_Code</th>\n",
       "      <th>Region_Code</th>\n",
       "      <th>Is_Spouse</th>\n",
       "      <th>Health Indicator</th>\n",
       "      <th>Holding_Policy_Duration</th>\n",
       "      <th>Holding_Policy_Type</th>\n",
       "      <th>Reco_Policy_Cat</th>\n",
       "      <th>Reco_Policy_Premium</th>\n",
       "      <th>Response</th>\n",
       "      <th>Rented</th>\n",
       "      <th>Joint</th>\n",
       "      <th>Age</th>\n",
       "    </tr>\n",
       "  </thead>\n",
       "  <tbody>\n",
       "    <tr>\n",
       "      <th>0</th>\n",
       "      <td>1</td>\n",
       "      <td>3</td>\n",
       "      <td>56.683331</td>\n",
       "      <td>No</td>\n",
       "      <td>X1</td>\n",
       "      <td>14+</td>\n",
       "      <td>3.0</td>\n",
       "      <td>22</td>\n",
       "      <td>11628.0</td>\n",
       "      <td>0</td>\n",
       "      <td>1</td>\n",
       "      <td>0</td>\n",
       "      <td>36</td>\n",
       "    </tr>\n",
       "    <tr>\n",
       "      <th>1</th>\n",
       "      <td>2</td>\n",
       "      <td>5</td>\n",
       "      <td>33.421550</td>\n",
       "      <td>No</td>\n",
       "      <td>X2</td>\n",
       "      <td>NaN</td>\n",
       "      <td>NaN</td>\n",
       "      <td>22</td>\n",
       "      <td>30510.0</td>\n",
       "      <td>0</td>\n",
       "      <td>0</td>\n",
       "      <td>1</td>\n",
       "      <td>48</td>\n",
       "    </tr>\n",
       "    <tr>\n",
       "      <th>2</th>\n",
       "      <td>3</td>\n",
       "      <td>5</td>\n",
       "      <td>61.090097</td>\n",
       "      <td>No</td>\n",
       "      <td>NaN</td>\n",
       "      <td>1.0</td>\n",
       "      <td>1.0</td>\n",
       "      <td>19</td>\n",
       "      <td>7450.0</td>\n",
       "      <td>1</td>\n",
       "      <td>0</td>\n",
       "      <td>0</td>\n",
       "      <td>32</td>\n",
       "    </tr>\n",
       "    <tr>\n",
       "      <th>3</th>\n",
       "      <td>4</td>\n",
       "      <td>24</td>\n",
       "      <td>66.166457</td>\n",
       "      <td>No</td>\n",
       "      <td>X1</td>\n",
       "      <td>14+</td>\n",
       "      <td>3.0</td>\n",
       "      <td>19</td>\n",
       "      <td>17780.0</td>\n",
       "      <td>0</td>\n",
       "      <td>0</td>\n",
       "      <td>1</td>\n",
       "      <td>50</td>\n",
       "    </tr>\n",
       "    <tr>\n",
       "      <th>4</th>\n",
       "      <td>5</td>\n",
       "      <td>8</td>\n",
       "      <td>46.797436</td>\n",
       "      <td>No</td>\n",
       "      <td>X2</td>\n",
       "      <td>3.0</td>\n",
       "      <td>1.0</td>\n",
       "      <td>16</td>\n",
       "      <td>10404.0</td>\n",
       "      <td>0</td>\n",
       "      <td>1</td>\n",
       "      <td>0</td>\n",
       "      <td>44</td>\n",
       "    </tr>\n",
       "  </tbody>\n",
       "</table>\n",
       "</div>"
      ],
      "text/plain": [
       "   ID  City_Code  Region_Code Is_Spouse Health Indicator  \\\n",
       "0   1          3    56.683331        No               X1   \n",
       "1   2          5    33.421550        No               X2   \n",
       "2   3          5    61.090097        No              NaN   \n",
       "3   4         24    66.166457        No               X1   \n",
       "4   5          8    46.797436        No               X2   \n",
       "\n",
       "  Holding_Policy_Duration  Holding_Policy_Type  Reco_Policy_Cat  \\\n",
       "0                     14+                  3.0               22   \n",
       "1                     NaN                  NaN               22   \n",
       "2                     1.0                  1.0               19   \n",
       "3                     14+                  3.0               19   \n",
       "4                     3.0                  1.0               16   \n",
       "\n",
       "   Reco_Policy_Premium  Response  Rented  Joint  Age  \n",
       "0              11628.0         0       1      0   36  \n",
       "1              30510.0         0       0      1   48  \n",
       "2               7450.0         1       0      0   32  \n",
       "3              17780.0         0       0      1   50  \n",
       "4              10404.0         0       1      0   44  "
      ]
     },
     "execution_count": 711,
     "metadata": {},
     "output_type": "execute_result"
    }
   ],
   "source": [
    "df.head()"
   ]
  },
  {
   "cell_type": "markdown",
   "metadata": {},
   "source": [
    "### Is_Spouse\n",
    "\n",
    "Its a Categorical column with only 2 categories(Yes/No)"
   ]
  },
  {
   "cell_type": "code",
   "execution_count": 712,
   "metadata": {},
   "outputs": [
    {
     "data": {
      "text/plain": [
       "Is_Spouse  Response\n",
       "No         0           32303\n",
       "           1           10157\n",
       "Yes        0            6370\n",
       "           1            2052\n",
       "Name: Response, dtype: int64"
      ]
     },
     "execution_count": 712,
     "metadata": {},
     "output_type": "execute_result"
    }
   ],
   "source": [
    "df.groupby(['Is_Spouse'])['Response'].value_counts()"
   ]
  },
  {
   "cell_type": "code",
   "execution_count": 713,
   "metadata": {
    "scrolled": true
   },
   "outputs": [
    {
     "data": {
      "text/plain": [
       "No     42460\n",
       "Yes     8422\n",
       "Name: Is_Spouse, dtype: int64"
      ]
     },
     "execution_count": 713,
     "metadata": {},
     "output_type": "execute_result"
    }
   ],
   "source": [
    "df['Is_Spouse'].value_counts()"
   ]
  },
  {
   "cell_type": "code",
   "execution_count": 714,
   "metadata": {
    "scrolled": true
   },
   "outputs": [
    {
     "data": {
      "text/html": [
       "<div>\n",
       "<style scoped>\n",
       "    .dataframe tbody tr th:only-of-type {\n",
       "        vertical-align: middle;\n",
       "    }\n",
       "\n",
       "    .dataframe tbody tr th {\n",
       "        vertical-align: top;\n",
       "    }\n",
       "\n",
       "    .dataframe thead th {\n",
       "        text-align: right;\n",
       "    }\n",
       "</style>\n",
       "<table border=\"1\" class=\"dataframe\">\n",
       "  <thead>\n",
       "    <tr style=\"text-align: right;\">\n",
       "      <th></th>\n",
       "      <th>ID</th>\n",
       "      <th>City_Code</th>\n",
       "      <th>Region_Code</th>\n",
       "      <th>Is_Spouse</th>\n",
       "      <th>Health Indicator</th>\n",
       "      <th>Holding_Policy_Duration</th>\n",
       "      <th>Holding_Policy_Type</th>\n",
       "      <th>Reco_Policy_Cat</th>\n",
       "      <th>Reco_Policy_Premium</th>\n",
       "      <th>Response</th>\n",
       "      <th>Rented</th>\n",
       "      <th>Joint</th>\n",
       "      <th>Age</th>\n",
       "      <th>Yes</th>\n",
       "    </tr>\n",
       "  </thead>\n",
       "  <tbody>\n",
       "    <tr>\n",
       "      <th>0</th>\n",
       "      <td>1</td>\n",
       "      <td>3</td>\n",
       "      <td>56.683331</td>\n",
       "      <td>No</td>\n",
       "      <td>X1</td>\n",
       "      <td>14+</td>\n",
       "      <td>3.0</td>\n",
       "      <td>22</td>\n",
       "      <td>11628.0</td>\n",
       "      <td>0</td>\n",
       "      <td>1</td>\n",
       "      <td>0</td>\n",
       "      <td>36</td>\n",
       "      <td>0</td>\n",
       "    </tr>\n",
       "    <tr>\n",
       "      <th>1</th>\n",
       "      <td>2</td>\n",
       "      <td>5</td>\n",
       "      <td>33.421550</td>\n",
       "      <td>No</td>\n",
       "      <td>X2</td>\n",
       "      <td>NaN</td>\n",
       "      <td>NaN</td>\n",
       "      <td>22</td>\n",
       "      <td>30510.0</td>\n",
       "      <td>0</td>\n",
       "      <td>0</td>\n",
       "      <td>1</td>\n",
       "      <td>48</td>\n",
       "      <td>0</td>\n",
       "    </tr>\n",
       "    <tr>\n",
       "      <th>2</th>\n",
       "      <td>3</td>\n",
       "      <td>5</td>\n",
       "      <td>61.090097</td>\n",
       "      <td>No</td>\n",
       "      <td>NaN</td>\n",
       "      <td>1.0</td>\n",
       "      <td>1.0</td>\n",
       "      <td>19</td>\n",
       "      <td>7450.0</td>\n",
       "      <td>1</td>\n",
       "      <td>0</td>\n",
       "      <td>0</td>\n",
       "      <td>32</td>\n",
       "      <td>0</td>\n",
       "    </tr>\n",
       "    <tr>\n",
       "      <th>3</th>\n",
       "      <td>4</td>\n",
       "      <td>24</td>\n",
       "      <td>66.166457</td>\n",
       "      <td>No</td>\n",
       "      <td>X1</td>\n",
       "      <td>14+</td>\n",
       "      <td>3.0</td>\n",
       "      <td>19</td>\n",
       "      <td>17780.0</td>\n",
       "      <td>0</td>\n",
       "      <td>0</td>\n",
       "      <td>1</td>\n",
       "      <td>50</td>\n",
       "      <td>0</td>\n",
       "    </tr>\n",
       "    <tr>\n",
       "      <th>4</th>\n",
       "      <td>5</td>\n",
       "      <td>8</td>\n",
       "      <td>46.797436</td>\n",
       "      <td>No</td>\n",
       "      <td>X2</td>\n",
       "      <td>3.0</td>\n",
       "      <td>1.0</td>\n",
       "      <td>16</td>\n",
       "      <td>10404.0</td>\n",
       "      <td>0</td>\n",
       "      <td>1</td>\n",
       "      <td>0</td>\n",
       "      <td>44</td>\n",
       "      <td>0</td>\n",
       "    </tr>\n",
       "  </tbody>\n",
       "</table>\n",
       "</div>"
      ],
      "text/plain": [
       "   ID  City_Code  Region_Code Is_Spouse Health Indicator  \\\n",
       "0   1          3    56.683331        No               X1   \n",
       "1   2          5    33.421550        No               X2   \n",
       "2   3          5    61.090097        No              NaN   \n",
       "3   4         24    66.166457        No               X1   \n",
       "4   5          8    46.797436        No               X2   \n",
       "\n",
       "  Holding_Policy_Duration  Holding_Policy_Type  Reco_Policy_Cat  \\\n",
       "0                     14+                  3.0               22   \n",
       "1                     NaN                  NaN               22   \n",
       "2                     1.0                  1.0               19   \n",
       "3                     14+                  3.0               19   \n",
       "4                     3.0                  1.0               16   \n",
       "\n",
       "   Reco_Policy_Premium  Response  Rented  Joint  Age  Yes  \n",
       "0              11628.0         0       1      0   36    0  \n",
       "1              30510.0         0       0      1   48    0  \n",
       "2               7450.0         1       0      0   32    0  \n",
       "3              17780.0         0       0      1   50    0  \n",
       "4              10404.0         0       1      0   44    0  "
      ]
     },
     "execution_count": 714,
     "metadata": {},
     "output_type": "execute_result"
    }
   ],
   "source": [
    "#### Doing One Hot Encoding on this column\n",
    "\n",
    "df = pd.concat([df, pd.get_dummies(df['Is_Spouse'], drop_first=True)], axis=1)\n",
    "df.head()"
   ]
  },
  {
   "cell_type": "code",
   "execution_count": 715,
   "metadata": {},
   "outputs": [
    {
     "data": {
      "text/html": [
       "<div>\n",
       "<style scoped>\n",
       "    .dataframe tbody tr th:only-of-type {\n",
       "        vertical-align: middle;\n",
       "    }\n",
       "\n",
       "    .dataframe tbody tr th {\n",
       "        vertical-align: top;\n",
       "    }\n",
       "\n",
       "    .dataframe thead th {\n",
       "        text-align: right;\n",
       "    }\n",
       "</style>\n",
       "<table border=\"1\" class=\"dataframe\">\n",
       "  <thead>\n",
       "    <tr style=\"text-align: right;\">\n",
       "      <th></th>\n",
       "      <th>ID</th>\n",
       "      <th>City_Code</th>\n",
       "      <th>Region_Code</th>\n",
       "      <th>Is_Spouse</th>\n",
       "      <th>Health Indicator</th>\n",
       "      <th>Holding_Policy_Duration</th>\n",
       "      <th>Holding_Policy_Type</th>\n",
       "      <th>Reco_Policy_Cat</th>\n",
       "      <th>Reco_Policy_Premium</th>\n",
       "      <th>Response</th>\n",
       "      <th>Rented</th>\n",
       "      <th>Joint</th>\n",
       "      <th>Age</th>\n",
       "      <th>Is_Spouse_Yes</th>\n",
       "    </tr>\n",
       "  </thead>\n",
       "  <tbody>\n",
       "    <tr>\n",
       "      <th>0</th>\n",
       "      <td>1</td>\n",
       "      <td>3</td>\n",
       "      <td>56.683331</td>\n",
       "      <td>No</td>\n",
       "      <td>X1</td>\n",
       "      <td>14+</td>\n",
       "      <td>3.0</td>\n",
       "      <td>22</td>\n",
       "      <td>11628.0</td>\n",
       "      <td>0</td>\n",
       "      <td>1</td>\n",
       "      <td>0</td>\n",
       "      <td>36</td>\n",
       "      <td>0</td>\n",
       "    </tr>\n",
       "    <tr>\n",
       "      <th>1</th>\n",
       "      <td>2</td>\n",
       "      <td>5</td>\n",
       "      <td>33.421550</td>\n",
       "      <td>No</td>\n",
       "      <td>X2</td>\n",
       "      <td>NaN</td>\n",
       "      <td>NaN</td>\n",
       "      <td>22</td>\n",
       "      <td>30510.0</td>\n",
       "      <td>0</td>\n",
       "      <td>0</td>\n",
       "      <td>1</td>\n",
       "      <td>48</td>\n",
       "      <td>0</td>\n",
       "    </tr>\n",
       "    <tr>\n",
       "      <th>2</th>\n",
       "      <td>3</td>\n",
       "      <td>5</td>\n",
       "      <td>61.090097</td>\n",
       "      <td>No</td>\n",
       "      <td>NaN</td>\n",
       "      <td>1.0</td>\n",
       "      <td>1.0</td>\n",
       "      <td>19</td>\n",
       "      <td>7450.0</td>\n",
       "      <td>1</td>\n",
       "      <td>0</td>\n",
       "      <td>0</td>\n",
       "      <td>32</td>\n",
       "      <td>0</td>\n",
       "    </tr>\n",
       "    <tr>\n",
       "      <th>3</th>\n",
       "      <td>4</td>\n",
       "      <td>24</td>\n",
       "      <td>66.166457</td>\n",
       "      <td>No</td>\n",
       "      <td>X1</td>\n",
       "      <td>14+</td>\n",
       "      <td>3.0</td>\n",
       "      <td>19</td>\n",
       "      <td>17780.0</td>\n",
       "      <td>0</td>\n",
       "      <td>0</td>\n",
       "      <td>1</td>\n",
       "      <td>50</td>\n",
       "      <td>0</td>\n",
       "    </tr>\n",
       "    <tr>\n",
       "      <th>4</th>\n",
       "      <td>5</td>\n",
       "      <td>8</td>\n",
       "      <td>46.797436</td>\n",
       "      <td>No</td>\n",
       "      <td>X2</td>\n",
       "      <td>3.0</td>\n",
       "      <td>1.0</td>\n",
       "      <td>16</td>\n",
       "      <td>10404.0</td>\n",
       "      <td>0</td>\n",
       "      <td>1</td>\n",
       "      <td>0</td>\n",
       "      <td>44</td>\n",
       "      <td>0</td>\n",
       "    </tr>\n",
       "  </tbody>\n",
       "</table>\n",
       "</div>"
      ],
      "text/plain": [
       "   ID  City_Code  Region_Code Is_Spouse Health Indicator  \\\n",
       "0   1          3    56.683331        No               X1   \n",
       "1   2          5    33.421550        No               X2   \n",
       "2   3          5    61.090097        No              NaN   \n",
       "3   4         24    66.166457        No               X1   \n",
       "4   5          8    46.797436        No               X2   \n",
       "\n",
       "  Holding_Policy_Duration  Holding_Policy_Type  Reco_Policy_Cat  \\\n",
       "0                     14+                  3.0               22   \n",
       "1                     NaN                  NaN               22   \n",
       "2                     1.0                  1.0               19   \n",
       "3                     14+                  3.0               19   \n",
       "4                     3.0                  1.0               16   \n",
       "\n",
       "   Reco_Policy_Premium  Response  Rented  Joint  Age  Is_Spouse_Yes  \n",
       "0              11628.0         0       1      0   36              0  \n",
       "1              30510.0         0       0      1   48              0  \n",
       "2               7450.0         1       0      0   32              0  \n",
       "3              17780.0         0       0      1   50              0  \n",
       "4              10404.0         0       1      0   44              0  "
      ]
     },
     "execution_count": 715,
     "metadata": {},
     "output_type": "execute_result"
    }
   ],
   "source": [
    "df.rename(columns={'Yes' : 'Is_Spouse_Yes'}, inplace=True)\n",
    "df.head()"
   ]
  },
  {
   "cell_type": "code",
   "execution_count": 716,
   "metadata": {},
   "outputs": [
    {
     "data": {
      "text/html": [
       "<div>\n",
       "<style scoped>\n",
       "    .dataframe tbody tr th:only-of-type {\n",
       "        vertical-align: middle;\n",
       "    }\n",
       "\n",
       "    .dataframe tbody tr th {\n",
       "        vertical-align: top;\n",
       "    }\n",
       "\n",
       "    .dataframe thead th {\n",
       "        text-align: right;\n",
       "    }\n",
       "</style>\n",
       "<table border=\"1\" class=\"dataframe\">\n",
       "  <thead>\n",
       "    <tr style=\"text-align: right;\">\n",
       "      <th></th>\n",
       "      <th>ID</th>\n",
       "      <th>City_Code</th>\n",
       "      <th>Region_Code</th>\n",
       "      <th>Health Indicator</th>\n",
       "      <th>Holding_Policy_Duration</th>\n",
       "      <th>Holding_Policy_Type</th>\n",
       "      <th>Reco_Policy_Cat</th>\n",
       "      <th>Reco_Policy_Premium</th>\n",
       "      <th>Response</th>\n",
       "      <th>Rented</th>\n",
       "      <th>Joint</th>\n",
       "      <th>Age</th>\n",
       "      <th>Is_Spouse_Yes</th>\n",
       "    </tr>\n",
       "  </thead>\n",
       "  <tbody>\n",
       "    <tr>\n",
       "      <th>0</th>\n",
       "      <td>1</td>\n",
       "      <td>3</td>\n",
       "      <td>56.683331</td>\n",
       "      <td>X1</td>\n",
       "      <td>14+</td>\n",
       "      <td>3.0</td>\n",
       "      <td>22</td>\n",
       "      <td>11628.0</td>\n",
       "      <td>0</td>\n",
       "      <td>1</td>\n",
       "      <td>0</td>\n",
       "      <td>36</td>\n",
       "      <td>0</td>\n",
       "    </tr>\n",
       "    <tr>\n",
       "      <th>1</th>\n",
       "      <td>2</td>\n",
       "      <td>5</td>\n",
       "      <td>33.421550</td>\n",
       "      <td>X2</td>\n",
       "      <td>NaN</td>\n",
       "      <td>NaN</td>\n",
       "      <td>22</td>\n",
       "      <td>30510.0</td>\n",
       "      <td>0</td>\n",
       "      <td>0</td>\n",
       "      <td>1</td>\n",
       "      <td>48</td>\n",
       "      <td>0</td>\n",
       "    </tr>\n",
       "    <tr>\n",
       "      <th>2</th>\n",
       "      <td>3</td>\n",
       "      <td>5</td>\n",
       "      <td>61.090097</td>\n",
       "      <td>NaN</td>\n",
       "      <td>1.0</td>\n",
       "      <td>1.0</td>\n",
       "      <td>19</td>\n",
       "      <td>7450.0</td>\n",
       "      <td>1</td>\n",
       "      <td>0</td>\n",
       "      <td>0</td>\n",
       "      <td>32</td>\n",
       "      <td>0</td>\n",
       "    </tr>\n",
       "    <tr>\n",
       "      <th>3</th>\n",
       "      <td>4</td>\n",
       "      <td>24</td>\n",
       "      <td>66.166457</td>\n",
       "      <td>X1</td>\n",
       "      <td>14+</td>\n",
       "      <td>3.0</td>\n",
       "      <td>19</td>\n",
       "      <td>17780.0</td>\n",
       "      <td>0</td>\n",
       "      <td>0</td>\n",
       "      <td>1</td>\n",
       "      <td>50</td>\n",
       "      <td>0</td>\n",
       "    </tr>\n",
       "    <tr>\n",
       "      <th>4</th>\n",
       "      <td>5</td>\n",
       "      <td>8</td>\n",
       "      <td>46.797436</td>\n",
       "      <td>X2</td>\n",
       "      <td>3.0</td>\n",
       "      <td>1.0</td>\n",
       "      <td>16</td>\n",
       "      <td>10404.0</td>\n",
       "      <td>0</td>\n",
       "      <td>1</td>\n",
       "      <td>0</td>\n",
       "      <td>44</td>\n",
       "      <td>0</td>\n",
       "    </tr>\n",
       "  </tbody>\n",
       "</table>\n",
       "</div>"
      ],
      "text/plain": [
       "   ID  City_Code  Region_Code Health Indicator Holding_Policy_Duration  \\\n",
       "0   1          3    56.683331               X1                     14+   \n",
       "1   2          5    33.421550               X2                     NaN   \n",
       "2   3          5    61.090097              NaN                     1.0   \n",
       "3   4         24    66.166457               X1                     14+   \n",
       "4   5          8    46.797436               X2                     3.0   \n",
       "\n",
       "   Holding_Policy_Type  Reco_Policy_Cat  Reco_Policy_Premium  Response  \\\n",
       "0                  3.0               22              11628.0         0   \n",
       "1                  NaN               22              30510.0         0   \n",
       "2                  1.0               19               7450.0         1   \n",
       "3                  3.0               19              17780.0         0   \n",
       "4                  1.0               16              10404.0         0   \n",
       "\n",
       "   Rented  Joint  Age  Is_Spouse_Yes  \n",
       "0       1      0   36              0  \n",
       "1       0      1   48              0  \n",
       "2       0      0   32              0  \n",
       "3       0      1   50              0  \n",
       "4       1      0   44              0  "
      ]
     },
     "execution_count": 716,
     "metadata": {},
     "output_type": "execute_result"
    }
   ],
   "source": [
    "df.drop(['Is_Spouse'], axis=1, inplace=True)\n",
    "df.head()"
   ]
  },
  {
   "cell_type": "markdown",
   "metadata": {},
   "source": [
    "### Health_Indicator\n",
    "\n",
    "Its a Ordinal Categorical feature"
   ]
  },
  {
   "cell_type": "code",
   "execution_count": 717,
   "metadata": {},
   "outputs": [
    {
     "data": {
      "text/plain": [
       "X1    13010\n",
       "X2    10332\n",
       "X3     6762\n",
       "X4     5743\n",
       "X5     1727\n",
       "X6     1280\n",
       "X7      196\n",
       "X8       78\n",
       "X9       63\n",
       "Name: Health Indicator, dtype: int64"
      ]
     },
     "execution_count": 717,
     "metadata": {},
     "output_type": "execute_result"
    }
   ],
   "source": [
    "df['Health Indicator'].value_counts()"
   ]
  },
  {
   "cell_type": "code",
   "execution_count": 719,
   "metadata": {},
   "outputs": [
    {
     "data": {
      "text/plain": [
       "array(['X1', 'X2', nan, 'X4', 'X3', 'X6', 'X5', 'X8', 'X7', 'X9'],\n",
       "      dtype=object)"
      ]
     },
     "execution_count": 719,
     "metadata": {},
     "output_type": "execute_result"
    }
   ],
   "source": [
    "df['Health Indicator'].unique()"
   ]
  },
  {
   "cell_type": "code",
   "execution_count": 720,
   "metadata": {},
   "outputs": [
    {
     "data": {
      "text/plain": [
       "dtype('O')"
      ]
     },
     "execution_count": 720,
     "metadata": {},
     "output_type": "execute_result"
    }
   ],
   "source": [
    "df['Health Indicator'].dtype"
   ]
  },
  {
   "cell_type": "code",
   "execution_count": 721,
   "metadata": {},
   "outputs": [
    {
     "data": {
      "text/plain": [
       "Health Indicator\n",
       "X1    0.244120\n",
       "X2    0.241096\n",
       "X3    0.236469\n",
       "X4    0.243079\n",
       "X5    0.236248\n",
       "X6    0.239844\n",
       "X7    0.316327\n",
       "X8    0.230769\n",
       "X9    0.222222\n",
       "Name: Response, dtype: float64"
      ]
     },
     "execution_count": 721,
     "metadata": {},
     "output_type": "execute_result"
    }
   ],
   "source": [
    "df.groupby(['Health Indicator'])['Response'].mean()"
   ]
  },
  {
   "cell_type": "code",
   "execution_count": 722,
   "metadata": {},
   "outputs": [],
   "source": [
    "df2 = df.copy() ### creating df2 and saving for future reference!!"
   ]
  },
  {
   "cell_type": "code",
   "execution_count": 723,
   "metadata": {},
   "outputs": [
    {
     "data": {
      "text/html": [
       "<div>\n",
       "<style scoped>\n",
       "    .dataframe tbody tr th:only-of-type {\n",
       "        vertical-align: middle;\n",
       "    }\n",
       "\n",
       "    .dataframe tbody tr th {\n",
       "        vertical-align: top;\n",
       "    }\n",
       "\n",
       "    .dataframe thead th {\n",
       "        text-align: right;\n",
       "    }\n",
       "</style>\n",
       "<table border=\"1\" class=\"dataframe\">\n",
       "  <thead>\n",
       "    <tr style=\"text-align: right;\">\n",
       "      <th></th>\n",
       "      <th>ID</th>\n",
       "      <th>City_Code</th>\n",
       "      <th>Region_Code</th>\n",
       "      <th>Health Indicator</th>\n",
       "      <th>Holding_Policy_Duration</th>\n",
       "      <th>Holding_Policy_Type</th>\n",
       "      <th>Reco_Policy_Cat</th>\n",
       "      <th>Reco_Policy_Premium</th>\n",
       "      <th>Response</th>\n",
       "      <th>Rented</th>\n",
       "      <th>Joint</th>\n",
       "      <th>Age</th>\n",
       "      <th>Is_Spouse_Yes</th>\n",
       "    </tr>\n",
       "  </thead>\n",
       "  <tbody>\n",
       "    <tr>\n",
       "      <th>0</th>\n",
       "      <td>1</td>\n",
       "      <td>3</td>\n",
       "      <td>56.683331</td>\n",
       "      <td>X1</td>\n",
       "      <td>14+</td>\n",
       "      <td>3.0</td>\n",
       "      <td>22</td>\n",
       "      <td>11628.0</td>\n",
       "      <td>0</td>\n",
       "      <td>1</td>\n",
       "      <td>0</td>\n",
       "      <td>36</td>\n",
       "      <td>0</td>\n",
       "    </tr>\n",
       "    <tr>\n",
       "      <th>1</th>\n",
       "      <td>2</td>\n",
       "      <td>5</td>\n",
       "      <td>33.421550</td>\n",
       "      <td>X2</td>\n",
       "      <td>NaN</td>\n",
       "      <td>NaN</td>\n",
       "      <td>22</td>\n",
       "      <td>30510.0</td>\n",
       "      <td>0</td>\n",
       "      <td>0</td>\n",
       "      <td>1</td>\n",
       "      <td>48</td>\n",
       "      <td>0</td>\n",
       "    </tr>\n",
       "    <tr>\n",
       "      <th>2</th>\n",
       "      <td>3</td>\n",
       "      <td>5</td>\n",
       "      <td>61.090097</td>\n",
       "      <td>NaN</td>\n",
       "      <td>1.0</td>\n",
       "      <td>1.0</td>\n",
       "      <td>19</td>\n",
       "      <td>7450.0</td>\n",
       "      <td>1</td>\n",
       "      <td>0</td>\n",
       "      <td>0</td>\n",
       "      <td>32</td>\n",
       "      <td>0</td>\n",
       "    </tr>\n",
       "    <tr>\n",
       "      <th>3</th>\n",
       "      <td>4</td>\n",
       "      <td>24</td>\n",
       "      <td>66.166457</td>\n",
       "      <td>X1</td>\n",
       "      <td>14+</td>\n",
       "      <td>3.0</td>\n",
       "      <td>19</td>\n",
       "      <td>17780.0</td>\n",
       "      <td>0</td>\n",
       "      <td>0</td>\n",
       "      <td>1</td>\n",
       "      <td>50</td>\n",
       "      <td>0</td>\n",
       "    </tr>\n",
       "    <tr>\n",
       "      <th>4</th>\n",
       "      <td>5</td>\n",
       "      <td>8</td>\n",
       "      <td>46.797436</td>\n",
       "      <td>X2</td>\n",
       "      <td>3.0</td>\n",
       "      <td>1.0</td>\n",
       "      <td>16</td>\n",
       "      <td>10404.0</td>\n",
       "      <td>0</td>\n",
       "      <td>1</td>\n",
       "      <td>0</td>\n",
       "      <td>44</td>\n",
       "      <td>0</td>\n",
       "    </tr>\n",
       "  </tbody>\n",
       "</table>\n",
       "</div>"
      ],
      "text/plain": [
       "   ID  City_Code  Region_Code Health Indicator Holding_Policy_Duration  \\\n",
       "0   1          3    56.683331               X1                     14+   \n",
       "1   2          5    33.421550               X2                     NaN   \n",
       "2   3          5    61.090097              NaN                     1.0   \n",
       "3   4         24    66.166457               X1                     14+   \n",
       "4   5          8    46.797436               X2                     3.0   \n",
       "\n",
       "   Holding_Policy_Type  Reco_Policy_Cat  Reco_Policy_Premium  Response  \\\n",
       "0                  3.0               22              11628.0         0   \n",
       "1                  NaN               22              30510.0         0   \n",
       "2                  1.0               19               7450.0         1   \n",
       "3                  3.0               19              17780.0         0   \n",
       "4                  1.0               16              10404.0         0   \n",
       "\n",
       "   Rented  Joint  Age  Is_Spouse_Yes  \n",
       "0       1      0   36              0  \n",
       "1       0      1   48              0  \n",
       "2       0      0   32              0  \n",
       "3       0      1   50              0  \n",
       "4       1      0   44              0  "
      ]
     },
     "execution_count": 723,
     "metadata": {},
     "output_type": "execute_result"
    }
   ],
   "source": [
    "df.head()"
   ]
  },
  {
   "cell_type": "code",
   "execution_count": 410,
   "metadata": {},
   "outputs": [],
   "source": [
    "# df2['Health Indicator'] = df['Health Indicator'].fillna('Missing')"
   ]
  },
  {
   "cell_type": "code",
   "execution_count": 724,
   "metadata": {},
   "outputs": [
    {
     "data": {
      "text/html": [
       "<div>\n",
       "<style scoped>\n",
       "    .dataframe tbody tr th:only-of-type {\n",
       "        vertical-align: middle;\n",
       "    }\n",
       "\n",
       "    .dataframe tbody tr th {\n",
       "        vertical-align: top;\n",
       "    }\n",
       "\n",
       "    .dataframe thead th {\n",
       "        text-align: right;\n",
       "    }\n",
       "</style>\n",
       "<table border=\"1\" class=\"dataframe\">\n",
       "  <thead>\n",
       "    <tr style=\"text-align: right;\">\n",
       "      <th></th>\n",
       "      <th>ID</th>\n",
       "      <th>City_Code</th>\n",
       "      <th>Region_Code</th>\n",
       "      <th>Health Indicator</th>\n",
       "      <th>Holding_Policy_Duration</th>\n",
       "      <th>Holding_Policy_Type</th>\n",
       "      <th>Reco_Policy_Cat</th>\n",
       "      <th>Reco_Policy_Premium</th>\n",
       "      <th>Response</th>\n",
       "      <th>Rented</th>\n",
       "      <th>Joint</th>\n",
       "      <th>Age</th>\n",
       "      <th>Is_Spouse_Yes</th>\n",
       "    </tr>\n",
       "  </thead>\n",
       "  <tbody>\n",
       "    <tr>\n",
       "      <th>0</th>\n",
       "      <td>1</td>\n",
       "      <td>3</td>\n",
       "      <td>56.683331</td>\n",
       "      <td>X1</td>\n",
       "      <td>14+</td>\n",
       "      <td>3.0</td>\n",
       "      <td>22</td>\n",
       "      <td>11628.0</td>\n",
       "      <td>0</td>\n",
       "      <td>1</td>\n",
       "      <td>0</td>\n",
       "      <td>36</td>\n",
       "      <td>0</td>\n",
       "    </tr>\n",
       "    <tr>\n",
       "      <th>1</th>\n",
       "      <td>2</td>\n",
       "      <td>5</td>\n",
       "      <td>33.421550</td>\n",
       "      <td>X2</td>\n",
       "      <td>NaN</td>\n",
       "      <td>NaN</td>\n",
       "      <td>22</td>\n",
       "      <td>30510.0</td>\n",
       "      <td>0</td>\n",
       "      <td>0</td>\n",
       "      <td>1</td>\n",
       "      <td>48</td>\n",
       "      <td>0</td>\n",
       "    </tr>\n",
       "    <tr>\n",
       "      <th>2</th>\n",
       "      <td>3</td>\n",
       "      <td>5</td>\n",
       "      <td>61.090097</td>\n",
       "      <td>NaN</td>\n",
       "      <td>1.0</td>\n",
       "      <td>1.0</td>\n",
       "      <td>19</td>\n",
       "      <td>7450.0</td>\n",
       "      <td>1</td>\n",
       "      <td>0</td>\n",
       "      <td>0</td>\n",
       "      <td>32</td>\n",
       "      <td>0</td>\n",
       "    </tr>\n",
       "    <tr>\n",
       "      <th>3</th>\n",
       "      <td>4</td>\n",
       "      <td>24</td>\n",
       "      <td>66.166457</td>\n",
       "      <td>X1</td>\n",
       "      <td>14+</td>\n",
       "      <td>3.0</td>\n",
       "      <td>19</td>\n",
       "      <td>17780.0</td>\n",
       "      <td>0</td>\n",
       "      <td>0</td>\n",
       "      <td>1</td>\n",
       "      <td>50</td>\n",
       "      <td>0</td>\n",
       "    </tr>\n",
       "    <tr>\n",
       "      <th>4</th>\n",
       "      <td>5</td>\n",
       "      <td>8</td>\n",
       "      <td>46.797436</td>\n",
       "      <td>X2</td>\n",
       "      <td>3.0</td>\n",
       "      <td>1.0</td>\n",
       "      <td>16</td>\n",
       "      <td>10404.0</td>\n",
       "      <td>0</td>\n",
       "      <td>1</td>\n",
       "      <td>0</td>\n",
       "      <td>44</td>\n",
       "      <td>0</td>\n",
       "    </tr>\n",
       "  </tbody>\n",
       "</table>\n",
       "</div>"
      ],
      "text/plain": [
       "   ID  City_Code  Region_Code Health Indicator Holding_Policy_Duration  \\\n",
       "0   1          3    56.683331               X1                     14+   \n",
       "1   2          5    33.421550               X2                     NaN   \n",
       "2   3          5    61.090097              NaN                     1.0   \n",
       "3   4         24    66.166457               X1                     14+   \n",
       "4   5          8    46.797436               X2                     3.0   \n",
       "\n",
       "   Holding_Policy_Type  Reco_Policy_Cat  Reco_Policy_Premium  Response  \\\n",
       "0                  3.0               22              11628.0         0   \n",
       "1                  NaN               22              30510.0         0   \n",
       "2                  1.0               19               7450.0         1   \n",
       "3                  3.0               19              17780.0         0   \n",
       "4                  1.0               16              10404.0         0   \n",
       "\n",
       "   Rented  Joint  Age  Is_Spouse_Yes  \n",
       "0       1      0   36              0  \n",
       "1       0      1   48              0  \n",
       "2       0      0   32              0  \n",
       "3       0      1   50              0  \n",
       "4       1      0   44              0  "
      ]
     },
     "execution_count": 724,
     "metadata": {},
     "output_type": "execute_result"
    }
   ],
   "source": [
    "df2.head()"
   ]
  },
  {
   "cell_type": "code",
   "execution_count": 421,
   "metadata": {},
   "outputs": [
    {
     "data": {
      "text/plain": [
       "Health Indicator  Response\n",
       "Missing           0           8953\n",
       "                  1           2738\n",
       "X1                0           9834\n",
       "                  1           3176\n",
       "X2                0           7841\n",
       "                  1           2491\n",
       "X3                0           5163\n",
       "                  1           1599\n",
       "X4                0           4347\n",
       "                  1           1396\n",
       "X5                0           1319\n",
       "                  1            408\n",
       "X6                0            973\n",
       "                  1            307\n",
       "X7                0            134\n",
       "                  1             62\n",
       "X8                0             60\n",
       "                  1             18\n",
       "X9                0             49\n",
       "                  1             14\n",
       "Name: Response, dtype: int64"
      ]
     },
     "execution_count": 421,
     "metadata": {},
     "output_type": "execute_result"
    }
   ],
   "source": [
    "df2.groupby(['Health Indicator'])['Response'].value_counts()#[2:4]"
   ]
  },
  {
   "cell_type": "code",
   "execution_count": 725,
   "metadata": {},
   "outputs": [
    {
     "data": {
      "text/plain": [
       "11691"
      ]
     },
     "execution_count": 725,
     "metadata": {},
     "output_type": "execute_result"
    }
   ],
   "source": [
    "df['Health Indicator'].isnull().sum()"
   ]
  },
  {
   "cell_type": "code",
   "execution_count": 726,
   "metadata": {},
   "outputs": [
    {
     "data": {
      "text/html": [
       "<div>\n",
       "<style scoped>\n",
       "    .dataframe tbody tr th:only-of-type {\n",
       "        vertical-align: middle;\n",
       "    }\n",
       "\n",
       "    .dataframe tbody tr th {\n",
       "        vertical-align: top;\n",
       "    }\n",
       "\n",
       "    .dataframe thead th {\n",
       "        text-align: right;\n",
       "    }\n",
       "</style>\n",
       "<table border=\"1\" class=\"dataframe\">\n",
       "  <thead>\n",
       "    <tr style=\"text-align: right;\">\n",
       "      <th></th>\n",
       "      <th>ID</th>\n",
       "      <th>City_Code</th>\n",
       "      <th>Region_Code</th>\n",
       "      <th>Health Indicator</th>\n",
       "      <th>Holding_Policy_Duration</th>\n",
       "      <th>Holding_Policy_Type</th>\n",
       "      <th>Reco_Policy_Cat</th>\n",
       "      <th>Reco_Policy_Premium</th>\n",
       "      <th>Response</th>\n",
       "      <th>Rented</th>\n",
       "      <th>Joint</th>\n",
       "      <th>Age</th>\n",
       "      <th>Is_Spouse_Yes</th>\n",
       "    </tr>\n",
       "  </thead>\n",
       "  <tbody>\n",
       "    <tr>\n",
       "      <th>2</th>\n",
       "      <td>3</td>\n",
       "      <td>5</td>\n",
       "      <td>61.090097</td>\n",
       "      <td>NaN</td>\n",
       "      <td>1.0</td>\n",
       "      <td>1.0</td>\n",
       "      <td>19</td>\n",
       "      <td>7450.0</td>\n",
       "      <td>1</td>\n",
       "      <td>0</td>\n",
       "      <td>0</td>\n",
       "      <td>32</td>\n",
       "      <td>0</td>\n",
       "    </tr>\n",
       "    <tr>\n",
       "      <th>6</th>\n",
       "      <td>7</td>\n",
       "      <td>3</td>\n",
       "      <td>26.057628</td>\n",
       "      <td>NaN</td>\n",
       "      <td>NaN</td>\n",
       "      <td>NaN</td>\n",
       "      <td>17</td>\n",
       "      <td>10640.0</td>\n",
       "      <td>0</td>\n",
       "      <td>0</td>\n",
       "      <td>0</td>\n",
       "      <td>28</td>\n",
       "      <td>0</td>\n",
       "    </tr>\n",
       "    <tr>\n",
       "      <th>9</th>\n",
       "      <td>10</td>\n",
       "      <td>1</td>\n",
       "      <td>23.021729</td>\n",
       "      <td>NaN</td>\n",
       "      <td>7.0</td>\n",
       "      <td>4.0</td>\n",
       "      <td>18</td>\n",
       "      <td>21100.8</td>\n",
       "      <td>1</td>\n",
       "      <td>0</td>\n",
       "      <td>1</td>\n",
       "      <td>42</td>\n",
       "      <td>1</td>\n",
       "    </tr>\n",
       "    <tr>\n",
       "      <th>12</th>\n",
       "      <td>13</td>\n",
       "      <td>7</td>\n",
       "      <td>58.762233</td>\n",
       "      <td>NaN</td>\n",
       "      <td>1.0</td>\n",
       "      <td>2.0</td>\n",
       "      <td>20</td>\n",
       "      <td>17192.0</td>\n",
       "      <td>1</td>\n",
       "      <td>0</td>\n",
       "      <td>0</td>\n",
       "      <td>66</td>\n",
       "      <td>0</td>\n",
       "    </tr>\n",
       "    <tr>\n",
       "      <th>19</th>\n",
       "      <td>20</td>\n",
       "      <td>20</td>\n",
       "      <td>31.192948</td>\n",
       "      <td>NaN</td>\n",
       "      <td>NaN</td>\n",
       "      <td>NaN</td>\n",
       "      <td>4</td>\n",
       "      <td>8050.0</td>\n",
       "      <td>0</td>\n",
       "      <td>0</td>\n",
       "      <td>0</td>\n",
       "      <td>27</td>\n",
       "      <td>0</td>\n",
       "    </tr>\n",
       "    <tr>\n",
       "      <th>...</th>\n",
       "      <td>...</td>\n",
       "      <td>...</td>\n",
       "      <td>...</td>\n",
       "      <td>...</td>\n",
       "      <td>...</td>\n",
       "      <td>...</td>\n",
       "      <td>...</td>\n",
       "      <td>...</td>\n",
       "      <td>...</td>\n",
       "      <td>...</td>\n",
       "      <td>...</td>\n",
       "      <td>...</td>\n",
       "      <td>...</td>\n",
       "    </tr>\n",
       "    <tr>\n",
       "      <th>50859</th>\n",
       "      <td>50860</td>\n",
       "      <td>1</td>\n",
       "      <td>14.730920</td>\n",
       "      <td>NaN</td>\n",
       "      <td>6.0</td>\n",
       "      <td>3.0</td>\n",
       "      <td>20</td>\n",
       "      <td>19448.0</td>\n",
       "      <td>0</td>\n",
       "      <td>0</td>\n",
       "      <td>0</td>\n",
       "      <td>70</td>\n",
       "      <td>0</td>\n",
       "    </tr>\n",
       "    <tr>\n",
       "      <th>50865</th>\n",
       "      <td>50866</td>\n",
       "      <td>21</td>\n",
       "      <td>70.107061</td>\n",
       "      <td>NaN</td>\n",
       "      <td>NaN</td>\n",
       "      <td>NaN</td>\n",
       "      <td>14</td>\n",
       "      <td>19944.0</td>\n",
       "      <td>0</td>\n",
       "      <td>0</td>\n",
       "      <td>0</td>\n",
       "      <td>74</td>\n",
       "      <td>0</td>\n",
       "    </tr>\n",
       "    <tr>\n",
       "      <th>50869</th>\n",
       "      <td>50870</td>\n",
       "      <td>11</td>\n",
       "      <td>42.071368</td>\n",
       "      <td>NaN</td>\n",
       "      <td>1.0</td>\n",
       "      <td>1.0</td>\n",
       "      <td>20</td>\n",
       "      <td>10944.0</td>\n",
       "      <td>0</td>\n",
       "      <td>1</td>\n",
       "      <td>0</td>\n",
       "      <td>45</td>\n",
       "      <td>0</td>\n",
       "    </tr>\n",
       "    <tr>\n",
       "      <th>50871</th>\n",
       "      <td>50872</td>\n",
       "      <td>10</td>\n",
       "      <td>14.966630</td>\n",
       "      <td>NaN</td>\n",
       "      <td>1.0</td>\n",
       "      <td>1.0</td>\n",
       "      <td>13</td>\n",
       "      <td>11840.0</td>\n",
       "      <td>0</td>\n",
       "      <td>1</td>\n",
       "      <td>0</td>\n",
       "      <td>21</td>\n",
       "      <td>0</td>\n",
       "    </tr>\n",
       "    <tr>\n",
       "      <th>50876</th>\n",
       "      <td>50877</td>\n",
       "      <td>26</td>\n",
       "      <td>24.062419</td>\n",
       "      <td>NaN</td>\n",
       "      <td>2.0</td>\n",
       "      <td>1.0</td>\n",
       "      <td>12</td>\n",
       "      <td>13222.0</td>\n",
       "      <td>0</td>\n",
       "      <td>0</td>\n",
       "      <td>0</td>\n",
       "      <td>37</td>\n",
       "      <td>0</td>\n",
       "    </tr>\n",
       "  </tbody>\n",
       "</table>\n",
       "<p>11691 rows × 13 columns</p>\n",
       "</div>"
      ],
      "text/plain": [
       "          ID  City_Code  Region_Code Health Indicator Holding_Policy_Duration  \\\n",
       "2          3          5    61.090097              NaN                     1.0   \n",
       "6          7          3    26.057628              NaN                     NaN   \n",
       "9         10          1    23.021729              NaN                     7.0   \n",
       "12        13          7    58.762233              NaN                     1.0   \n",
       "19        20         20    31.192948              NaN                     NaN   \n",
       "...      ...        ...          ...              ...                     ...   \n",
       "50859  50860          1    14.730920              NaN                     6.0   \n",
       "50865  50866         21    70.107061              NaN                     NaN   \n",
       "50869  50870         11    42.071368              NaN                     1.0   \n",
       "50871  50872         10    14.966630              NaN                     1.0   \n",
       "50876  50877         26    24.062419              NaN                     2.0   \n",
       "\n",
       "       Holding_Policy_Type  Reco_Policy_Cat  Reco_Policy_Premium  Response  \\\n",
       "2                      1.0               19               7450.0         1   \n",
       "6                      NaN               17              10640.0         0   \n",
       "9                      4.0               18              21100.8         1   \n",
       "12                     2.0               20              17192.0         1   \n",
       "19                     NaN                4               8050.0         0   \n",
       "...                    ...              ...                  ...       ...   \n",
       "50859                  3.0               20              19448.0         0   \n",
       "50865                  NaN               14              19944.0         0   \n",
       "50869                  1.0               20              10944.0         0   \n",
       "50871                  1.0               13              11840.0         0   \n",
       "50876                  1.0               12              13222.0         0   \n",
       "\n",
       "       Rented  Joint  Age  Is_Spouse_Yes  \n",
       "2           0      0   32              0  \n",
       "6           0      0   28              0  \n",
       "9           0      1   42              1  \n",
       "12          0      0   66              0  \n",
       "19          0      0   27              0  \n",
       "...       ...    ...  ...            ...  \n",
       "50859       0      0   70              0  \n",
       "50865       0      0   74              0  \n",
       "50869       1      0   45              0  \n",
       "50871       1      0   21              0  \n",
       "50876       0      0   37              0  \n",
       "\n",
       "[11691 rows x 13 columns]"
      ]
     },
     "execution_count": 726,
     "metadata": {},
     "output_type": "execute_result"
    }
   ],
   "source": [
    "df[df['Health Indicator'].isna()]"
   ]
  },
  {
   "cell_type": "code",
   "execution_count": 727,
   "metadata": {},
   "outputs": [
    {
     "data": {
      "text/plain": [
       "(39191, 13)"
      ]
     },
     "execution_count": 727,
     "metadata": {},
     "output_type": "execute_result"
    }
   ],
   "source": [
    "df[~df['Health Indicator'].isna()].shape"
   ]
  },
  {
   "cell_type": "code",
   "execution_count": 728,
   "metadata": {},
   "outputs": [
    {
     "data": {
      "text/plain": [
       "'X1'"
      ]
     },
     "execution_count": 728,
     "metadata": {},
     "output_type": "execute_result"
    }
   ],
   "source": [
    "df2['Health Indicator'].mode()[0]"
   ]
  },
  {
   "cell_type": "code",
   "execution_count": 449,
   "metadata": {},
   "outputs": [],
   "source": [
    "# df2.fillna(df2['Health Indicator'].mode()[0], inplace=True)"
   ]
  },
  {
   "cell_type": "markdown",
   "metadata": {},
   "source": [
    "### Filling this categorical column with the most frequent occurring category"
   ]
  },
  {
   "cell_type": "code",
   "execution_count": 729,
   "metadata": {},
   "outputs": [],
   "source": [
    "df['Health Indicator'].fillna(df['Health Indicator'].mode()[0], inplace=True)"
   ]
  },
  {
   "cell_type": "code",
   "execution_count": 730,
   "metadata": {},
   "outputs": [
    {
     "data": {
      "text/html": [
       "<div>\n",
       "<style scoped>\n",
       "    .dataframe tbody tr th:only-of-type {\n",
       "        vertical-align: middle;\n",
       "    }\n",
       "\n",
       "    .dataframe tbody tr th {\n",
       "        vertical-align: top;\n",
       "    }\n",
       "\n",
       "    .dataframe thead th {\n",
       "        text-align: right;\n",
       "    }\n",
       "</style>\n",
       "<table border=\"1\" class=\"dataframe\">\n",
       "  <thead>\n",
       "    <tr style=\"text-align: right;\">\n",
       "      <th></th>\n",
       "      <th>ID</th>\n",
       "      <th>City_Code</th>\n",
       "      <th>Region_Code</th>\n",
       "      <th>Health Indicator</th>\n",
       "      <th>Holding_Policy_Duration</th>\n",
       "      <th>Holding_Policy_Type</th>\n",
       "      <th>Reco_Policy_Cat</th>\n",
       "      <th>Reco_Policy_Premium</th>\n",
       "      <th>Response</th>\n",
       "      <th>Rented</th>\n",
       "      <th>Joint</th>\n",
       "      <th>Age</th>\n",
       "      <th>Is_Spouse_Yes</th>\n",
       "    </tr>\n",
       "  </thead>\n",
       "  <tbody>\n",
       "    <tr>\n",
       "      <th>0</th>\n",
       "      <td>1</td>\n",
       "      <td>3</td>\n",
       "      <td>56.683331</td>\n",
       "      <td>X1</td>\n",
       "      <td>14+</td>\n",
       "      <td>3.0</td>\n",
       "      <td>22</td>\n",
       "      <td>11628.0</td>\n",
       "      <td>0</td>\n",
       "      <td>1</td>\n",
       "      <td>0</td>\n",
       "      <td>36</td>\n",
       "      <td>0</td>\n",
       "    </tr>\n",
       "    <tr>\n",
       "      <th>1</th>\n",
       "      <td>2</td>\n",
       "      <td>5</td>\n",
       "      <td>33.421550</td>\n",
       "      <td>X2</td>\n",
       "      <td>NaN</td>\n",
       "      <td>NaN</td>\n",
       "      <td>22</td>\n",
       "      <td>30510.0</td>\n",
       "      <td>0</td>\n",
       "      <td>0</td>\n",
       "      <td>1</td>\n",
       "      <td>48</td>\n",
       "      <td>0</td>\n",
       "    </tr>\n",
       "    <tr>\n",
       "      <th>2</th>\n",
       "      <td>3</td>\n",
       "      <td>5</td>\n",
       "      <td>61.090097</td>\n",
       "      <td>X1</td>\n",
       "      <td>1.0</td>\n",
       "      <td>1.0</td>\n",
       "      <td>19</td>\n",
       "      <td>7450.0</td>\n",
       "      <td>1</td>\n",
       "      <td>0</td>\n",
       "      <td>0</td>\n",
       "      <td>32</td>\n",
       "      <td>0</td>\n",
       "    </tr>\n",
       "    <tr>\n",
       "      <th>3</th>\n",
       "      <td>4</td>\n",
       "      <td>24</td>\n",
       "      <td>66.166457</td>\n",
       "      <td>X1</td>\n",
       "      <td>14+</td>\n",
       "      <td>3.0</td>\n",
       "      <td>19</td>\n",
       "      <td>17780.0</td>\n",
       "      <td>0</td>\n",
       "      <td>0</td>\n",
       "      <td>1</td>\n",
       "      <td>50</td>\n",
       "      <td>0</td>\n",
       "    </tr>\n",
       "    <tr>\n",
       "      <th>4</th>\n",
       "      <td>5</td>\n",
       "      <td>8</td>\n",
       "      <td>46.797436</td>\n",
       "      <td>X2</td>\n",
       "      <td>3.0</td>\n",
       "      <td>1.0</td>\n",
       "      <td>16</td>\n",
       "      <td>10404.0</td>\n",
       "      <td>0</td>\n",
       "      <td>1</td>\n",
       "      <td>0</td>\n",
       "      <td>44</td>\n",
       "      <td>0</td>\n",
       "    </tr>\n",
       "  </tbody>\n",
       "</table>\n",
       "</div>"
      ],
      "text/plain": [
       "   ID  City_Code  Region_Code Health Indicator Holding_Policy_Duration  \\\n",
       "0   1          3    56.683331               X1                     14+   \n",
       "1   2          5    33.421550               X2                     NaN   \n",
       "2   3          5    61.090097               X1                     1.0   \n",
       "3   4         24    66.166457               X1                     14+   \n",
       "4   5          8    46.797436               X2                     3.0   \n",
       "\n",
       "   Holding_Policy_Type  Reco_Policy_Cat  Reco_Policy_Premium  Response  \\\n",
       "0                  3.0               22              11628.0         0   \n",
       "1                  NaN               22              30510.0         0   \n",
       "2                  1.0               19               7450.0         1   \n",
       "3                  3.0               19              17780.0         0   \n",
       "4                  1.0               16              10404.0         0   \n",
       "\n",
       "   Rented  Joint  Age  Is_Spouse_Yes  \n",
       "0       1      0   36              0  \n",
       "1       0      1   48              0  \n",
       "2       0      0   32              0  \n",
       "3       0      1   50              0  \n",
       "4       1      0   44              0  "
      ]
     },
     "execution_count": 730,
     "metadata": {},
     "output_type": "execute_result"
    }
   ],
   "source": [
    "df.head()"
   ]
  },
  {
   "cell_type": "code",
   "execution_count": 731,
   "metadata": {},
   "outputs": [
    {
     "data": {
      "text/plain": [
       "X1    13010\n",
       "X2    10332\n",
       "X3     6762\n",
       "X4     5743\n",
       "X5     1727\n",
       "X6     1280\n",
       "X7      196\n",
       "X8       78\n",
       "X9       63\n",
       "Name: Health Indicator, dtype: int64"
      ]
     },
     "execution_count": 731,
     "metadata": {},
     "output_type": "execute_result"
    }
   ],
   "source": [
    "df2['Health Indicator'].value_counts()"
   ]
  },
  {
   "cell_type": "code",
   "execution_count": 732,
   "metadata": {},
   "outputs": [],
   "source": [
    "df['Health Indicator'] = df['Health Indicator'].str.split('X',expand=True)[1]"
   ]
  },
  {
   "cell_type": "code",
   "execution_count": 849,
   "metadata": {},
   "outputs": [],
   "source": [
    "df['Health Indicator'] = df['Health Indicator'].astype(int)"
   ]
  },
  {
   "cell_type": "code",
   "execution_count": 733,
   "metadata": {},
   "outputs": [
    {
     "data": {
      "text/plain": [
       "1    24701\n",
       "2    10332\n",
       "3     6762\n",
       "4     5743\n",
       "5     1727\n",
       "6     1280\n",
       "7      196\n",
       "8       78\n",
       "9       63\n",
       "Name: Health Indicator, dtype: int64"
      ]
     },
     "execution_count": 733,
     "metadata": {},
     "output_type": "execute_result"
    }
   ],
   "source": [
    "df['Health Indicator'].value_counts()"
   ]
  },
  {
   "cell_type": "markdown",
   "metadata": {},
   "source": [
    "### Holding_Policy_Duration"
   ]
  },
  {
   "cell_type": "code",
   "execution_count": 734,
   "metadata": {},
   "outputs": [
    {
     "data": {
      "text/plain": [
       "1.0     4499\n",
       "14+     4335\n",
       "2.0     4260\n",
       "3.0     3586\n",
       "4.0     2771\n",
       "5.0     2362\n",
       "6.0     1894\n",
       "7.0     1645\n",
       "8.0     1316\n",
       "9.0     1114\n",
       "10.0     813\n",
       "11.0     546\n",
       "12.0     513\n",
       "13.0     511\n",
       "14.0     466\n",
       "Name: Holding_Policy_Duration, dtype: int64"
      ]
     },
     "execution_count": 734,
     "metadata": {},
     "output_type": "execute_result"
    }
   ],
   "source": [
    "df['Holding_Policy_Duration'].value_counts()"
   ]
  },
  {
   "cell_type": "code",
   "execution_count": 740,
   "metadata": {},
   "outputs": [
    {
     "data": {
      "text/plain": [
       "Holding_Policy_Duration  Response\n",
       "1.0                      0           3502\n",
       "                         1            997\n",
       "10.0                     0            591\n",
       "                         1            222\n",
       "11.0                     0            409\n",
       "                         1            137\n",
       "12.0                     0            383\n",
       "                         1            130\n",
       "13.0                     0            373\n",
       "                         1            138\n",
       "14+                      0           3248\n",
       "                         1           1087\n",
       "14.0                     0            351\n",
       "                         1            115\n",
       "2.0                      0           3249\n",
       "                         1           1011\n",
       "3.0                      0           2754\n",
       "                         1            832\n",
       "4.0                      0           2104\n",
       "                         1            667\n",
       "5.0                      0           1799\n",
       "                         1            563\n",
       "6.0                      0           1449\n",
       "                         1            445\n",
       "7.0                      0           1222\n",
       "                         1            423\n",
       "8.0                      0            978\n",
       "                         1            338\n",
       "9.0                      0            849\n",
       "                         1            265\n",
       "Name: Response, dtype: int64"
      ]
     },
     "execution_count": 740,
     "metadata": {},
     "output_type": "execute_result"
    }
   ],
   "source": [
    "df.groupby(['Holding_Policy_Duration'])['Response'].value_counts()"
   ]
  },
  {
   "cell_type": "markdown",
   "metadata": {},
   "source": [
    "Taking the most Frequent Category first"
   ]
  },
  {
   "cell_type": "code",
   "execution_count": 741,
   "metadata": {},
   "outputs": [
    {
     "data": {
      "text/plain": [
       "'1.0'"
      ]
     },
     "execution_count": 741,
     "metadata": {},
     "output_type": "execute_result"
    }
   ],
   "source": [
    "df['Holding_Policy_Duration'].mode()[0]"
   ]
  },
  {
   "cell_type": "code",
   "execution_count": 742,
   "metadata": {},
   "outputs": [],
   "source": [
    "df['Holding_Policy_Duration'].fillna(df['Holding_Policy_Duration'].mode()[0], inplace=True)"
   ]
  },
  {
   "cell_type": "code",
   "execution_count": 743,
   "metadata": {},
   "outputs": [],
   "source": [
    "df['Holding_Policy_Duration'].replace({'14+' : 14.0}, inplace=True)"
   ]
  },
  {
   "cell_type": "code",
   "execution_count": 744,
   "metadata": {},
   "outputs": [
    {
     "data": {
      "text/plain": [
       "1.0     24750\n",
       "14.0     4335\n",
       "2.0      4260\n",
       "3.0      3586\n",
       "4.0      2771\n",
       "5.0      2362\n",
       "6.0      1894\n",
       "7.0      1645\n",
       "8.0      1316\n",
       "9.0      1114\n",
       "10.0      813\n",
       "11.0      546\n",
       "12.0      513\n",
       "13.0      511\n",
       "14.0      466\n",
       "Name: Holding_Policy_Duration, dtype: int64"
      ]
     },
     "execution_count": 744,
     "metadata": {},
     "output_type": "execute_result"
    }
   ],
   "source": [
    "df['Holding_Policy_Duration'].value_counts()"
   ]
  },
  {
   "cell_type": "code",
   "execution_count": 746,
   "metadata": {},
   "outputs": [
    {
     "data": {
      "text/plain": [
       "dtype('O')"
      ]
     },
     "execution_count": 746,
     "metadata": {},
     "output_type": "execute_result"
    }
   ],
   "source": [
    "df['Holding_Policy_Duration'].dtype"
   ]
  },
  {
   "cell_type": "code",
   "execution_count": 747,
   "metadata": {},
   "outputs": [
    {
     "ename": "ValueError",
     "evalue": "invalid literal for int() with base 10: '14.0'",
     "output_type": "error",
     "traceback": [
      "\u001b[1;31m---------------------------------------------------------------------------\u001b[0m",
      "\u001b[1;31mValueError\u001b[0m                                Traceback (most recent call last)",
      "\u001b[1;32m<ipython-input-747-2f0c24ca7463>\u001b[0m in \u001b[0;36m<module>\u001b[1;34m\u001b[0m\n\u001b[1;32m----> 1\u001b[1;33m \u001b[0mdf\u001b[0m\u001b[1;33m[\u001b[0m\u001b[1;34m'Holding_Policy_Duration'\u001b[0m\u001b[1;33m]\u001b[0m\u001b[1;33m.\u001b[0m\u001b[0mastype\u001b[0m\u001b[1;33m(\u001b[0m\u001b[0mstr\u001b[0m\u001b[1;33m)\u001b[0m\u001b[1;33m.\u001b[0m\u001b[0mastype\u001b[0m\u001b[1;33m(\u001b[0m\u001b[0mint\u001b[0m\u001b[1;33m)\u001b[0m\u001b[1;33m\u001b[0m\u001b[1;33m\u001b[0m\u001b[0m\n\u001b[0m",
      "\u001b[1;32md:\\anacondafiles\\envs\\deeplearning\\lib\\site-packages\\pandas\\core\\generic.py\u001b[0m in \u001b[0;36mastype\u001b[1;34m(self, dtype, copy, errors)\u001b[0m\n\u001b[0;32m   5872\u001b[0m         \u001b[1;32melse\u001b[0m\u001b[1;33m:\u001b[0m\u001b[1;33m\u001b[0m\u001b[1;33m\u001b[0m\u001b[0m\n\u001b[0;32m   5873\u001b[0m             \u001b[1;31m# else, only a single dtype is given\u001b[0m\u001b[1;33m\u001b[0m\u001b[1;33m\u001b[0m\u001b[1;33m\u001b[0m\u001b[0m\n\u001b[1;32m-> 5874\u001b[1;33m             \u001b[0mnew_data\u001b[0m \u001b[1;33m=\u001b[0m \u001b[0mself\u001b[0m\u001b[1;33m.\u001b[0m\u001b[0m_mgr\u001b[0m\u001b[1;33m.\u001b[0m\u001b[0mastype\u001b[0m\u001b[1;33m(\u001b[0m\u001b[0mdtype\u001b[0m\u001b[1;33m=\u001b[0m\u001b[0mdtype\u001b[0m\u001b[1;33m,\u001b[0m \u001b[0mcopy\u001b[0m\u001b[1;33m=\u001b[0m\u001b[0mcopy\u001b[0m\u001b[1;33m,\u001b[0m \u001b[0merrors\u001b[0m\u001b[1;33m=\u001b[0m\u001b[0merrors\u001b[0m\u001b[1;33m)\u001b[0m\u001b[1;33m\u001b[0m\u001b[1;33m\u001b[0m\u001b[0m\n\u001b[0m\u001b[0;32m   5875\u001b[0m             \u001b[1;32mreturn\u001b[0m \u001b[0mself\u001b[0m\u001b[1;33m.\u001b[0m\u001b[0m_constructor\u001b[0m\u001b[1;33m(\u001b[0m\u001b[0mnew_data\u001b[0m\u001b[1;33m)\u001b[0m\u001b[1;33m.\u001b[0m\u001b[0m__finalize__\u001b[0m\u001b[1;33m(\u001b[0m\u001b[0mself\u001b[0m\u001b[1;33m,\u001b[0m \u001b[0mmethod\u001b[0m\u001b[1;33m=\u001b[0m\u001b[1;34m\"astype\"\u001b[0m\u001b[1;33m)\u001b[0m\u001b[1;33m\u001b[0m\u001b[1;33m\u001b[0m\u001b[0m\n\u001b[0;32m   5876\u001b[0m \u001b[1;33m\u001b[0m\u001b[0m\n",
      "\u001b[1;32md:\\anacondafiles\\envs\\deeplearning\\lib\\site-packages\\pandas\\core\\internals\\managers.py\u001b[0m in \u001b[0;36mastype\u001b[1;34m(self, dtype, copy, errors)\u001b[0m\n\u001b[0;32m    629\u001b[0m         \u001b[0mself\u001b[0m\u001b[1;33m,\u001b[0m \u001b[0mdtype\u001b[0m\u001b[1;33m,\u001b[0m \u001b[0mcopy\u001b[0m\u001b[1;33m:\u001b[0m \u001b[0mbool\u001b[0m \u001b[1;33m=\u001b[0m \u001b[1;32mFalse\u001b[0m\u001b[1;33m,\u001b[0m \u001b[0merrors\u001b[0m\u001b[1;33m:\u001b[0m \u001b[0mstr\u001b[0m \u001b[1;33m=\u001b[0m \u001b[1;34m\"raise\"\u001b[0m\u001b[1;33m\u001b[0m\u001b[1;33m\u001b[0m\u001b[0m\n\u001b[0;32m    630\u001b[0m     ) -> \"BlockManager\":\n\u001b[1;32m--> 631\u001b[1;33m         \u001b[1;32mreturn\u001b[0m \u001b[0mself\u001b[0m\u001b[1;33m.\u001b[0m\u001b[0mapply\u001b[0m\u001b[1;33m(\u001b[0m\u001b[1;34m\"astype\"\u001b[0m\u001b[1;33m,\u001b[0m \u001b[0mdtype\u001b[0m\u001b[1;33m=\u001b[0m\u001b[0mdtype\u001b[0m\u001b[1;33m,\u001b[0m \u001b[0mcopy\u001b[0m\u001b[1;33m=\u001b[0m\u001b[0mcopy\u001b[0m\u001b[1;33m,\u001b[0m \u001b[0merrors\u001b[0m\u001b[1;33m=\u001b[0m\u001b[0merrors\u001b[0m\u001b[1;33m)\u001b[0m\u001b[1;33m\u001b[0m\u001b[1;33m\u001b[0m\u001b[0m\n\u001b[0m\u001b[0;32m    632\u001b[0m \u001b[1;33m\u001b[0m\u001b[0m\n\u001b[0;32m    633\u001b[0m     def convert(\n",
      "\u001b[1;32md:\\anacondafiles\\envs\\deeplearning\\lib\\site-packages\\pandas\\core\\internals\\managers.py\u001b[0m in \u001b[0;36mapply\u001b[1;34m(self, f, align_keys, ignore_failures, **kwargs)\u001b[0m\n\u001b[0;32m    425\u001b[0m                     \u001b[0mapplied\u001b[0m \u001b[1;33m=\u001b[0m \u001b[0mb\u001b[0m\u001b[1;33m.\u001b[0m\u001b[0mapply\u001b[0m\u001b[1;33m(\u001b[0m\u001b[0mf\u001b[0m\u001b[1;33m,\u001b[0m \u001b[1;33m**\u001b[0m\u001b[0mkwargs\u001b[0m\u001b[1;33m)\u001b[0m\u001b[1;33m\u001b[0m\u001b[1;33m\u001b[0m\u001b[0m\n\u001b[0;32m    426\u001b[0m                 \u001b[1;32melse\u001b[0m\u001b[1;33m:\u001b[0m\u001b[1;33m\u001b[0m\u001b[1;33m\u001b[0m\u001b[0m\n\u001b[1;32m--> 427\u001b[1;33m                     \u001b[0mapplied\u001b[0m \u001b[1;33m=\u001b[0m \u001b[0mgetattr\u001b[0m\u001b[1;33m(\u001b[0m\u001b[0mb\u001b[0m\u001b[1;33m,\u001b[0m \u001b[0mf\u001b[0m\u001b[1;33m)\u001b[0m\u001b[1;33m(\u001b[0m\u001b[1;33m**\u001b[0m\u001b[0mkwargs\u001b[0m\u001b[1;33m)\u001b[0m\u001b[1;33m\u001b[0m\u001b[1;33m\u001b[0m\u001b[0m\n\u001b[0m\u001b[0;32m    428\u001b[0m             \u001b[1;32mexcept\u001b[0m \u001b[1;33m(\u001b[0m\u001b[0mTypeError\u001b[0m\u001b[1;33m,\u001b[0m \u001b[0mNotImplementedError\u001b[0m\u001b[1;33m)\u001b[0m\u001b[1;33m:\u001b[0m\u001b[1;33m\u001b[0m\u001b[1;33m\u001b[0m\u001b[0m\n\u001b[0;32m    429\u001b[0m                 \u001b[1;32mif\u001b[0m \u001b[1;32mnot\u001b[0m \u001b[0mignore_failures\u001b[0m\u001b[1;33m:\u001b[0m\u001b[1;33m\u001b[0m\u001b[1;33m\u001b[0m\u001b[0m\n",
      "\u001b[1;32md:\\anacondafiles\\envs\\deeplearning\\lib\\site-packages\\pandas\\core\\internals\\blocks.py\u001b[0m in \u001b[0;36mastype\u001b[1;34m(self, dtype, copy, errors)\u001b[0m\n\u001b[0;32m    671\u001b[0m             \u001b[0mvals1d\u001b[0m \u001b[1;33m=\u001b[0m \u001b[0mvalues\u001b[0m\u001b[1;33m.\u001b[0m\u001b[0mravel\u001b[0m\u001b[1;33m(\u001b[0m\u001b[1;33m)\u001b[0m\u001b[1;33m\u001b[0m\u001b[1;33m\u001b[0m\u001b[0m\n\u001b[0;32m    672\u001b[0m             \u001b[1;32mtry\u001b[0m\u001b[1;33m:\u001b[0m\u001b[1;33m\u001b[0m\u001b[1;33m\u001b[0m\u001b[0m\n\u001b[1;32m--> 673\u001b[1;33m                 \u001b[0mvalues\u001b[0m \u001b[1;33m=\u001b[0m \u001b[0mastype_nansafe\u001b[0m\u001b[1;33m(\u001b[0m\u001b[0mvals1d\u001b[0m\u001b[1;33m,\u001b[0m \u001b[0mdtype\u001b[0m\u001b[1;33m,\u001b[0m \u001b[0mcopy\u001b[0m\u001b[1;33m=\u001b[0m\u001b[1;32mTrue\u001b[0m\u001b[1;33m)\u001b[0m\u001b[1;33m\u001b[0m\u001b[1;33m\u001b[0m\u001b[0m\n\u001b[0m\u001b[0;32m    674\u001b[0m             \u001b[1;32mexcept\u001b[0m \u001b[1;33m(\u001b[0m\u001b[0mValueError\u001b[0m\u001b[1;33m,\u001b[0m \u001b[0mTypeError\u001b[0m\u001b[1;33m)\u001b[0m\u001b[1;33m:\u001b[0m\u001b[1;33m\u001b[0m\u001b[1;33m\u001b[0m\u001b[0m\n\u001b[0;32m    675\u001b[0m                 \u001b[1;31m# e.g. astype_nansafe can fail on object-dtype of strings\u001b[0m\u001b[1;33m\u001b[0m\u001b[1;33m\u001b[0m\u001b[1;33m\u001b[0m\u001b[0m\n",
      "\u001b[1;32md:\\anacondafiles\\envs\\deeplearning\\lib\\site-packages\\pandas\\core\\dtypes\\cast.py\u001b[0m in \u001b[0;36mastype_nansafe\u001b[1;34m(arr, dtype, copy, skipna)\u001b[0m\n\u001b[0;32m   1072\u001b[0m         \u001b[1;31m# work around NumPy brokenness, #1987\u001b[0m\u001b[1;33m\u001b[0m\u001b[1;33m\u001b[0m\u001b[1;33m\u001b[0m\u001b[0m\n\u001b[0;32m   1073\u001b[0m         \u001b[1;32mif\u001b[0m \u001b[0mnp\u001b[0m\u001b[1;33m.\u001b[0m\u001b[0missubdtype\u001b[0m\u001b[1;33m(\u001b[0m\u001b[0mdtype\u001b[0m\u001b[1;33m.\u001b[0m\u001b[0mtype\u001b[0m\u001b[1;33m,\u001b[0m \u001b[0mnp\u001b[0m\u001b[1;33m.\u001b[0m\u001b[0minteger\u001b[0m\u001b[1;33m)\u001b[0m\u001b[1;33m:\u001b[0m\u001b[1;33m\u001b[0m\u001b[1;33m\u001b[0m\u001b[0m\n\u001b[1;32m-> 1074\u001b[1;33m             \u001b[1;32mreturn\u001b[0m \u001b[0mlib\u001b[0m\u001b[1;33m.\u001b[0m\u001b[0mastype_intsafe\u001b[0m\u001b[1;33m(\u001b[0m\u001b[0marr\u001b[0m\u001b[1;33m.\u001b[0m\u001b[0mravel\u001b[0m\u001b[1;33m(\u001b[0m\u001b[1;33m)\u001b[0m\u001b[1;33m,\u001b[0m \u001b[0mdtype\u001b[0m\u001b[1;33m)\u001b[0m\u001b[1;33m.\u001b[0m\u001b[0mreshape\u001b[0m\u001b[1;33m(\u001b[0m\u001b[0marr\u001b[0m\u001b[1;33m.\u001b[0m\u001b[0mshape\u001b[0m\u001b[1;33m)\u001b[0m\u001b[1;33m\u001b[0m\u001b[1;33m\u001b[0m\u001b[0m\n\u001b[0m\u001b[0;32m   1075\u001b[0m \u001b[1;33m\u001b[0m\u001b[0m\n\u001b[0;32m   1076\u001b[0m         \u001b[1;31m# if we have a datetime/timedelta array of objects\u001b[0m\u001b[1;33m\u001b[0m\u001b[1;33m\u001b[0m\u001b[1;33m\u001b[0m\u001b[0m\n",
      "\u001b[1;32mpandas\\_libs\\lib.pyx\u001b[0m in \u001b[0;36mpandas._libs.lib.astype_intsafe\u001b[1;34m()\u001b[0m\n",
      "\u001b[1;31mValueError\u001b[0m: invalid literal for int() with base 10: '14.0'"
     ]
    }
   ],
   "source": [
    "df['Holding_Policy_Duration'].astype(str).astype(int)"
   ]
  },
  {
   "cell_type": "code",
   "execution_count": 748,
   "metadata": {},
   "outputs": [],
   "source": [
    "\n",
    "df['Holding_Policy_Duration'] = pd.to_numeric(df['Holding_Policy_Duration'],downcast='integer')\n"
   ]
  },
  {
   "cell_type": "code",
   "execution_count": 749,
   "metadata": {},
   "outputs": [
    {
     "data": {
      "text/plain": [
       "0        14\n",
       "1         1\n",
       "2         1\n",
       "3        14\n",
       "4         3\n",
       "         ..\n",
       "50877     1\n",
       "50878     7\n",
       "50879    14\n",
       "50880     2\n",
       "50881     2\n",
       "Name: Holding_Policy_Duration, Length: 50882, dtype: int32"
      ]
     },
     "execution_count": 749,
     "metadata": {},
     "output_type": "execute_result"
    }
   ],
   "source": [
    "\n",
    "df['Holding_Policy_Duration'] = df['Holding_Policy_Duration'].astype(int)\n",
    "df['Holding_Policy_Duration']"
   ]
  },
  {
   "cell_type": "code",
   "execution_count": 750,
   "metadata": {},
   "outputs": [
    {
     "data": {
      "text/plain": [
       "dtype('int32')"
      ]
     },
     "execution_count": 750,
     "metadata": {},
     "output_type": "execute_result"
    }
   ],
   "source": [
    "df['Holding_Policy_Duration'].dtype"
   ]
  },
  {
   "cell_type": "code",
   "execution_count": 751,
   "metadata": {},
   "outputs": [
    {
     "data": {
      "text/html": [
       "<div>\n",
       "<style scoped>\n",
       "    .dataframe tbody tr th:only-of-type {\n",
       "        vertical-align: middle;\n",
       "    }\n",
       "\n",
       "    .dataframe tbody tr th {\n",
       "        vertical-align: top;\n",
       "    }\n",
       "\n",
       "    .dataframe thead th {\n",
       "        text-align: right;\n",
       "    }\n",
       "</style>\n",
       "<table border=\"1\" class=\"dataframe\">\n",
       "  <thead>\n",
       "    <tr style=\"text-align: right;\">\n",
       "      <th></th>\n",
       "      <th>ID</th>\n",
       "      <th>City_Code</th>\n",
       "      <th>Region_Code</th>\n",
       "      <th>Health Indicator</th>\n",
       "      <th>Holding_Policy_Duration</th>\n",
       "      <th>Holding_Policy_Type</th>\n",
       "      <th>Reco_Policy_Cat</th>\n",
       "      <th>Reco_Policy_Premium</th>\n",
       "      <th>Response</th>\n",
       "      <th>Rented</th>\n",
       "      <th>Joint</th>\n",
       "      <th>Age</th>\n",
       "      <th>Is_Spouse_Yes</th>\n",
       "    </tr>\n",
       "  </thead>\n",
       "  <tbody>\n",
       "    <tr>\n",
       "      <th>0</th>\n",
       "      <td>1</td>\n",
       "      <td>3</td>\n",
       "      <td>56.683331</td>\n",
       "      <td>1</td>\n",
       "      <td>14</td>\n",
       "      <td>3.0</td>\n",
       "      <td>22</td>\n",
       "      <td>11628.0</td>\n",
       "      <td>0</td>\n",
       "      <td>1</td>\n",
       "      <td>0</td>\n",
       "      <td>36</td>\n",
       "      <td>0</td>\n",
       "    </tr>\n",
       "    <tr>\n",
       "      <th>1</th>\n",
       "      <td>2</td>\n",
       "      <td>5</td>\n",
       "      <td>33.421550</td>\n",
       "      <td>2</td>\n",
       "      <td>1</td>\n",
       "      <td>NaN</td>\n",
       "      <td>22</td>\n",
       "      <td>30510.0</td>\n",
       "      <td>0</td>\n",
       "      <td>0</td>\n",
       "      <td>1</td>\n",
       "      <td>48</td>\n",
       "      <td>0</td>\n",
       "    </tr>\n",
       "    <tr>\n",
       "      <th>2</th>\n",
       "      <td>3</td>\n",
       "      <td>5</td>\n",
       "      <td>61.090097</td>\n",
       "      <td>1</td>\n",
       "      <td>1</td>\n",
       "      <td>1.0</td>\n",
       "      <td>19</td>\n",
       "      <td>7450.0</td>\n",
       "      <td>1</td>\n",
       "      <td>0</td>\n",
       "      <td>0</td>\n",
       "      <td>32</td>\n",
       "      <td>0</td>\n",
       "    </tr>\n",
       "  </tbody>\n",
       "</table>\n",
       "</div>"
      ],
      "text/plain": [
       "   ID  City_Code  Region_Code Health Indicator  Holding_Policy_Duration  \\\n",
       "0   1          3    56.683331                1                       14   \n",
       "1   2          5    33.421550                2                        1   \n",
       "2   3          5    61.090097                1                        1   \n",
       "\n",
       "   Holding_Policy_Type  Reco_Policy_Cat  Reco_Policy_Premium  Response  \\\n",
       "0                  3.0               22              11628.0         0   \n",
       "1                  NaN               22              30510.0         0   \n",
       "2                  1.0               19               7450.0         1   \n",
       "\n",
       "   Rented  Joint  Age  Is_Spouse_Yes  \n",
       "0       1      0   36              0  \n",
       "1       0      1   48              0  \n",
       "2       0      0   32              0  "
      ]
     },
     "execution_count": 751,
     "metadata": {},
     "output_type": "execute_result"
    }
   ],
   "source": [
    "df.head(3)"
   ]
  },
  {
   "cell_type": "markdown",
   "metadata": {},
   "source": [
    "### Holding_Policy_Type\n",
    "\n",
    "This is a Categorical variable with 4 categories"
   ]
  },
  {
   "cell_type": "code",
   "execution_count": 752,
   "metadata": {},
   "outputs": [
    {
     "data": {
      "text/plain": [
       "3.0    13279\n",
       "1.0     8173\n",
       "2.0     5005\n",
       "4.0     4174\n",
       "Name: Holding_Policy_Type, dtype: int64"
      ]
     },
     "execution_count": 752,
     "metadata": {},
     "output_type": "execute_result"
    }
   ],
   "source": [
    "df['Holding_Policy_Type'].value_counts()"
   ]
  },
  {
   "cell_type": "code",
   "execution_count": 753,
   "metadata": {},
   "outputs": [
    {
     "data": {
      "text/plain": [
       "20251"
      ]
     },
     "execution_count": 753,
     "metadata": {},
     "output_type": "execute_result"
    }
   ],
   "source": [
    "df['Holding_Policy_Type'].isna().sum()"
   ]
  },
  {
   "cell_type": "code",
   "execution_count": 754,
   "metadata": {},
   "outputs": [
    {
     "data": {
      "text/plain": [
       "3.0"
      ]
     },
     "execution_count": 754,
     "metadata": {},
     "output_type": "execute_result"
    }
   ],
   "source": [
    "df['Holding_Policy_Type'].mode()[0]"
   ]
  },
  {
   "cell_type": "code",
   "execution_count": 755,
   "metadata": {},
   "outputs": [],
   "source": [
    "#### Filling with the most frequent category in the column ie... 3.0 as observed above\n",
    "\n",
    "df['Holding_Policy_Type'].fillna(df['Holding_Policy_Type'].mode()[0], inplace=True)"
   ]
  },
  {
   "cell_type": "code",
   "execution_count": 756,
   "metadata": {},
   "outputs": [],
   "source": [
    "# df['Holding_Policy_Type'] = pd.to_numeric(df['Holding_Policy_Type'],downcast='integer')"
   ]
  },
  {
   "cell_type": "code",
   "execution_count": 757,
   "metadata": {},
   "outputs": [
    {
     "data": {
      "text/plain": [
       "0        3\n",
       "1        3\n",
       "2        1\n",
       "3        3\n",
       "4        1\n",
       "        ..\n",
       "50877    3\n",
       "50878    3\n",
       "50879    1\n",
       "50880    2\n",
       "50881    3\n",
       "Name: Holding_Policy_Type, Length: 50882, dtype: int32"
      ]
     },
     "execution_count": 757,
     "metadata": {},
     "output_type": "execute_result"
    }
   ],
   "source": [
    "df['Holding_Policy_Type'] = df['Holding_Policy_Type'].astype(int)\n",
    "df['Holding_Policy_Type']"
   ]
  },
  {
   "cell_type": "code",
   "execution_count": 850,
   "metadata": {},
   "outputs": [
    {
     "data": {
      "text/html": [
       "<div>\n",
       "<style scoped>\n",
       "    .dataframe tbody tr th:only-of-type {\n",
       "        vertical-align: middle;\n",
       "    }\n",
       "\n",
       "    .dataframe tbody tr th {\n",
       "        vertical-align: top;\n",
       "    }\n",
       "\n",
       "    .dataframe thead th {\n",
       "        text-align: right;\n",
       "    }\n",
       "</style>\n",
       "<table border=\"1\" class=\"dataframe\">\n",
       "  <thead>\n",
       "    <tr style=\"text-align: right;\">\n",
       "      <th></th>\n",
       "      <th>City_Code</th>\n",
       "      <th>Region_Code</th>\n",
       "      <th>Health Indicator</th>\n",
       "      <th>Holding_Policy_Duration</th>\n",
       "      <th>Holding_Policy_Type</th>\n",
       "      <th>Reco_Policy_Cat</th>\n",
       "      <th>Reco_Policy_Premium</th>\n",
       "      <th>Response</th>\n",
       "      <th>Rented</th>\n",
       "      <th>Joint</th>\n",
       "      <th>Age</th>\n",
       "    </tr>\n",
       "  </thead>\n",
       "  <tbody>\n",
       "    <tr>\n",
       "      <th>0</th>\n",
       "      <td>3</td>\n",
       "      <td>56.683331</td>\n",
       "      <td>1</td>\n",
       "      <td>14</td>\n",
       "      <td>3</td>\n",
       "      <td>22</td>\n",
       "      <td>107.833205</td>\n",
       "      <td>0</td>\n",
       "      <td>1</td>\n",
       "      <td>0</td>\n",
       "      <td>36</td>\n",
       "    </tr>\n",
       "    <tr>\n",
       "      <th>1</th>\n",
       "      <td>5</td>\n",
       "      <td>33.421550</td>\n",
       "      <td>2</td>\n",
       "      <td>1</td>\n",
       "      <td>3</td>\n",
       "      <td>22</td>\n",
       "      <td>174.671120</td>\n",
       "      <td>0</td>\n",
       "      <td>0</td>\n",
       "      <td>1</td>\n",
       "      <td>48</td>\n",
       "    </tr>\n",
       "    <tr>\n",
       "      <th>2</th>\n",
       "      <td>5</td>\n",
       "      <td>61.090097</td>\n",
       "      <td>1</td>\n",
       "      <td>1</td>\n",
       "      <td>1</td>\n",
       "      <td>19</td>\n",
       "      <td>86.313383</td>\n",
       "      <td>1</td>\n",
       "      <td>0</td>\n",
       "      <td>0</td>\n",
       "      <td>32</td>\n",
       "    </tr>\n",
       "    <tr>\n",
       "      <th>3</th>\n",
       "      <td>24</td>\n",
       "      <td>66.166457</td>\n",
       "      <td>1</td>\n",
       "      <td>14</td>\n",
       "      <td>3</td>\n",
       "      <td>19</td>\n",
       "      <td>133.341666</td>\n",
       "      <td>0</td>\n",
       "      <td>0</td>\n",
       "      <td>1</td>\n",
       "      <td>50</td>\n",
       "    </tr>\n",
       "    <tr>\n",
       "      <th>4</th>\n",
       "      <td>8</td>\n",
       "      <td>46.797436</td>\n",
       "      <td>2</td>\n",
       "      <td>3</td>\n",
       "      <td>1</td>\n",
       "      <td>16</td>\n",
       "      <td>102.000000</td>\n",
       "      <td>0</td>\n",
       "      <td>1</td>\n",
       "      <td>0</td>\n",
       "      <td>44</td>\n",
       "    </tr>\n",
       "  </tbody>\n",
       "</table>\n",
       "</div>"
      ],
      "text/plain": [
       "   City_Code  Region_Code  Health Indicator  Holding_Policy_Duration  \\\n",
       "0          3    56.683331                 1                       14   \n",
       "1          5    33.421550                 2                        1   \n",
       "2          5    61.090097                 1                        1   \n",
       "3         24    66.166457                 1                       14   \n",
       "4          8    46.797436                 2                        3   \n",
       "\n",
       "   Holding_Policy_Type  Reco_Policy_Cat  Reco_Policy_Premium  Response  \\\n",
       "0                    3               22           107.833205         0   \n",
       "1                    3               22           174.671120         0   \n",
       "2                    1               19            86.313383         1   \n",
       "3                    3               19           133.341666         0   \n",
       "4                    1               16           102.000000         0   \n",
       "\n",
       "   Rented  Joint  Age  \n",
       "0       1      0   36  \n",
       "1       0      1   48  \n",
       "2       0      0   32  \n",
       "3       0      1   50  \n",
       "4       1      0   44  "
      ]
     },
     "execution_count": 850,
     "metadata": {},
     "output_type": "execute_result"
    }
   ],
   "source": [
    "df.head()"
   ]
  },
  {
   "cell_type": "markdown",
   "metadata": {},
   "source": [
    "### Reco_Policy_Cat"
   ]
  },
  {
   "cell_type": "code",
   "execution_count": 761,
   "metadata": {},
   "outputs": [
    {
     "data": {
      "text/plain": [
       "1     1967\n",
       "2     1917\n",
       "3     1059\n",
       "4     1015\n",
       "5     1007\n",
       "6      851\n",
       "7      834\n",
       "8      776\n",
       "9      789\n",
       "10     770\n",
       "11     781\n",
       "12    2168\n",
       "13    1684\n",
       "14    1742\n",
       "15    1615\n",
       "16    4084\n",
       "17    3756\n",
       "18    5553\n",
       "19    3708\n",
       "20    3177\n",
       "21    5027\n",
       "22    6602\n",
       "Name: Reco_Policy_Cat, dtype: int64"
      ]
     },
     "execution_count": 761,
     "metadata": {},
     "output_type": "execute_result"
    }
   ],
   "source": [
    "df['Reco_Policy_Cat'].value_counts().sort_index()"
   ]
  },
  {
   "cell_type": "code",
   "execution_count": 762,
   "metadata": {},
   "outputs": [
    {
     "name": "stderr",
     "output_type": "stream",
     "text": [
      "d:\\anacondafiles\\envs\\deeplearning\\lib\\site-packages\\seaborn\\distributions.py:2551: FutureWarning: `distplot` is a deprecated function and will be removed in a future version. Please adapt your code to use either `displot` (a figure-level function with similar flexibility) or `histplot` (an axes-level function for histograms).\n",
      "  warnings.warn(msg, FutureWarning)\n"
     ]
    },
    {
     "data": {
      "text/plain": [
       "<AxesSubplot:xlabel='Reco_Policy_Cat', ylabel='Density'>"
      ]
     },
     "execution_count": 762,
     "metadata": {},
     "output_type": "execute_result"
    },
    {
     "data": {
      "image/png": "[encoded data removed]",
      "text/plain": [
       "<Figure size 432x288 with 1 Axes>"
      ]
     },
     "metadata": {
      "needs_background": "light"
     },
     "output_type": "display_data"
    }
   ],
   "source": [
    "sns.distplot((df['Reco_Policy_Cat']))"
   ]
  },
  {
   "cell_type": "code",
   "execution_count": null,
   "metadata": {},
   "outputs": [],
   "source": []
  },
  {
   "cell_type": "markdown",
   "metadata": {},
   "source": [
    "### Reco_Policy_Premium"
   ]
  },
  {
   "cell_type": "code",
   "execution_count": 763,
   "metadata": {},
   "outputs": [
    {
     "data": {
      "text/plain": [
       "10080.0    61\n",
       "11880.0    59\n",
       "12060.0    58\n",
       "9296.0     56\n",
       "11520.0    54\n",
       "           ..\n",
       "30195.2     1\n",
       "26244.0     1\n",
       "18892.8     1\n",
       "34792.8     1\n",
       "9458.4      1\n",
       "Name: Reco_Policy_Premium, Length: 6977, dtype: int64"
      ]
     },
     "execution_count": 763,
     "metadata": {},
     "output_type": "execute_result"
    }
   ],
   "source": [
    "df['Reco_Policy_Premium'].value_counts()"
   ]
  },
  {
   "cell_type": "code",
   "execution_count": 764,
   "metadata": {},
   "outputs": [],
   "source": [
    "df['Reco_Policy_Premium'] = np.sqrt(df['Reco_Policy_Premium'])"
   ]
  },
  {
   "cell_type": "code",
   "execution_count": 765,
   "metadata": {},
   "outputs": [
    {
     "name": "stderr",
     "output_type": "stream",
     "text": [
      "d:\\anacondafiles\\envs\\deeplearning\\lib\\site-packages\\seaborn\\distributions.py:2551: FutureWarning: `distplot` is a deprecated function and will be removed in a future version. Please adapt your code to use either `displot` (a figure-level function with similar flexibility) or `histplot` (an axes-level function for histograms).\n",
      "  warnings.warn(msg, FutureWarning)\n"
     ]
    },
    {
     "data": {
      "text/plain": [
       "<AxesSubplot:xlabel='Reco_Policy_Premium', ylabel='Density'>"
      ]
     },
     "execution_count": 765,
     "metadata": {},
     "output_type": "execute_result"
    },
    {
     "data": {
      "image/png": "[encoded data removed]",
      "text/plain": [
       "<Figure size 432x288 with 1 Axes>"
      ]
     },
     "metadata": {
      "needs_background": "light"
     },
     "output_type": "display_data"
    }
   ],
   "source": [
    "sns.distplot(df['Reco_Policy_Premium'])"
   ]
  },
  {
   "cell_type": "markdown",
   "metadata": {},
   "source": [
    "# Modelling "
   ]
  },
  {
   "cell_type": "code",
   "execution_count": 851,
   "metadata": {},
   "outputs": [
    {
     "data": {
      "text/plain": [
       "<AxesSubplot:>"
      ]
     },
     "execution_count": 851,
     "metadata": {},
     "output_type": "execute_result"
    },
    {
     "data": {
      "image/png": "[encoded data removed]",
      "text/plain": [
       "<Figure size 720x576 with 2 Axes>"
      ]
     },
     "metadata": {
      "needs_background": "light"
     },
     "output_type": "display_data"
    }
   ],
   "source": [
    "plt.figure(figsize=(10,8))\n",
    "sns.heatmap(df.corr(),annot=True)"
   ]
  },
  {
   "cell_type": "code",
   "execution_count": 775,
   "metadata": {},
   "outputs": [],
   "source": [
    "import statsmodels.api as sm\n",
    "XX = df[['Joint', 'Is_Spouse_Yes']]\n",
    "YY = df['Response']\n",
    "x = sm.add_constant(XX)\n",
    "mo = sm.OLS(YY, XX).fit()"
   ]
  },
  {
   "cell_type": "code",
   "execution_count": 776,
   "metadata": {
    "scrolled": true
   },
   "outputs": [
    {
     "data": {
      "text/html": [
       "<table class=\"simpletable\">\n",
       "<caption>OLS Regression Results</caption>\n",
       "<tr>\n",
       "  <th>Dep. Variable:</th>        <td>Response</td>     <th>  R-squared (uncentered):</th>      <td>   0.052</td> \n",
       "</tr>\n",
       "<tr>\n",
       "  <th>Model:</th>                   <td>OLS</td>       <th>  Adj. R-squared (uncentered):</th> <td>   0.052</td> \n",
       "</tr>\n",
       "<tr>\n",
       "  <th>Method:</th>             <td>Least Squares</td>  <th>  F-statistic:       </th>          <td>   1405.</td> \n",
       "</tr>\n",
       "<tr>\n",
       "  <th>Date:</th>             <td>Sun, 28 Feb 2021</td> <th>  Prob (F-statistic):</th>           <td>  0.00</td>  \n",
       "</tr>\n",
       "<tr>\n",
       "  <th>Time:</th>                 <td>08:01:35</td>     <th>  Log-Likelihood:    </th>          <td> -34518.</td> \n",
       "</tr>\n",
       "<tr>\n",
       "  <th>No. Observations:</th>      <td> 50882</td>      <th>  AIC:               </th>          <td>6.904e+04</td>\n",
       "</tr>\n",
       "<tr>\n",
       "  <th>Df Residuals:</th>          <td> 50880</td>      <th>  BIC:               </th>          <td>6.906e+04</td>\n",
       "</tr>\n",
       "<tr>\n",
       "  <th>Df Model:</th>              <td>     2</td>      <th>                     </th>              <td> </td>    \n",
       "</tr>\n",
       "<tr>\n",
       "  <th>Covariance Type:</th>      <td>nonrobust</td>    <th>                     </th>              <td> </td>    \n",
       "</tr>\n",
       "</table>\n",
       "<table class=\"simpletable\">\n",
       "<tr>\n",
       "        <td></td>           <th>coef</th>     <th>std err</th>      <th>t</th>      <th>P>|t|</th>  <th>[0.025</th>    <th>0.975]</th>  \n",
       "</tr>\n",
       "<tr>\n",
       "  <th>Joint</th>         <td>    0.2687</td> <td>    0.011</td> <td>   24.717</td> <td> 0.000</td> <td>    0.247</td> <td>    0.290</td>\n",
       "</tr>\n",
       "<tr>\n",
       "  <th>Is_Spouse_Yes</th> <td>   -0.0251</td> <td>    0.012</td> <td>   -2.080</td> <td> 0.038</td> <td>   -0.049</td> <td>   -0.001</td>\n",
       "</tr>\n",
       "</table>\n",
       "<table class=\"simpletable\">\n",
       "<tr>\n",
       "  <th>Omnibus:</th>       <td>7775.762</td> <th>  Durbin-Watson:     </th> <td>   1.677</td> \n",
       "</tr>\n",
       "<tr>\n",
       "  <th>Prob(Omnibus):</th>  <td> 0.000</td>  <th>  Jarque-Bera (JB):  </th> <td>10864.932</td>\n",
       "</tr>\n",
       "<tr>\n",
       "  <th>Skew:</th>           <td> 1.108</td>  <th>  Prob(JB):          </th> <td>    0.00</td> \n",
       "</tr>\n",
       "<tr>\n",
       "  <th>Kurtosis:</th>       <td> 2.542</td>  <th>  Cond. No.          </th> <td>    4.44</td> \n",
       "</tr>\n",
       "</table><br/><br/>Notes:<br/>[1] R² is computed without centering (uncentered) since the model does not contain a constant.<br/>[2] Standard Errors assume that the covariance matrix of the errors is correctly specified."
      ],
      "text/plain": [
       "<class 'statsmodels.iolib.summary.Summary'>\n",
       "\"\"\"\n",
       "                                 OLS Regression Results                                \n",
       "=======================================================================================\n",
       "Dep. Variable:               Response   R-squared (uncentered):                   0.052\n",
       "Model:                            OLS   Adj. R-squared (uncentered):              0.052\n",
       "Method:                 Least Squares   F-statistic:                              1405.\n",
       "Date:                Sun, 28 Feb 2021   Prob (F-statistic):                        0.00\n",
       "Time:                        08:01:35   Log-Likelihood:                         -34518.\n",
       "No. Observations:               50882   AIC:                                  6.904e+04\n",
       "Df Residuals:                   50880   BIC:                                  6.906e+04\n",
       "Df Model:                           2                                                  \n",
       "Covariance Type:            nonrobust                                                  \n",
       "=================================================================================\n",
       "                    coef    std err          t      P>|t|      [0.025      0.975]\n",
       "---------------------------------------------------------------------------------\n",
       "Joint             0.2687      0.011     24.717      0.000       0.247       0.290\n",
       "Is_Spouse_Yes    -0.0251      0.012     -2.080      0.038      -0.049      -0.001\n",
       "==============================================================================\n",
       "Omnibus:                     7775.762   Durbin-Watson:                   1.677\n",
       "Prob(Omnibus):                  0.000   Jarque-Bera (JB):            10864.932\n",
       "Skew:                           1.108   Prob(JB):                         0.00\n",
       "Kurtosis:                       2.542   Cond. No.                         4.44\n",
       "==============================================================================\n",
       "\n",
       "Notes:\n",
       "[1] R² is computed without centering (uncentered) since the model does not contain a constant.\n",
       "[2] Standard Errors assume that the covariance matrix of the errors is correctly specified.\n",
       "\"\"\""
      ]
     },
     "execution_count": 776,
     "metadata": {},
     "output_type": "execute_result"
    }
   ],
   "source": [
    "mo.summary()"
   ]
  },
  {
   "cell_type": "markdown",
   "metadata": {},
   "source": [
    "### Dropping the Is_Spouse_Yes column"
   ]
  },
  {
   "cell_type": "code",
   "execution_count": 778,
   "metadata": {},
   "outputs": [],
   "source": [
    "df.drop(['Is_Spouse_Yes'], axis=1, inplace=True)"
   ]
  },
  {
   "cell_type": "code",
   "execution_count": 782,
   "metadata": {},
   "outputs": [],
   "source": [
    "df.drop(['ID'], axis=1, inplace=True)"
   ]
  },
  {
   "cell_type": "code",
   "execution_count": 783,
   "metadata": {},
   "outputs": [
    {
     "data": {
      "text/html": [
       "<div>\n",
       "<style scoped>\n",
       "    .dataframe tbody tr th:only-of-type {\n",
       "        vertical-align: middle;\n",
       "    }\n",
       "\n",
       "    .dataframe tbody tr th {\n",
       "        vertical-align: top;\n",
       "    }\n",
       "\n",
       "    .dataframe thead th {\n",
       "        text-align: right;\n",
       "    }\n",
       "</style>\n",
       "<table border=\"1\" class=\"dataframe\">\n",
       "  <thead>\n",
       "    <tr style=\"text-align: right;\">\n",
       "      <th></th>\n",
       "      <th>City_Code</th>\n",
       "      <th>Region_Code</th>\n",
       "      <th>Health Indicator</th>\n",
       "      <th>Holding_Policy_Duration</th>\n",
       "      <th>Holding_Policy_Type</th>\n",
       "      <th>Reco_Policy_Cat</th>\n",
       "      <th>Reco_Policy_Premium</th>\n",
       "      <th>Response</th>\n",
       "      <th>Rented</th>\n",
       "      <th>Joint</th>\n",
       "      <th>Age</th>\n",
       "    </tr>\n",
       "  </thead>\n",
       "  <tbody>\n",
       "    <tr>\n",
       "      <th>0</th>\n",
       "      <td>3</td>\n",
       "      <td>56.683331</td>\n",
       "      <td>1</td>\n",
       "      <td>14</td>\n",
       "      <td>3</td>\n",
       "      <td>22</td>\n",
       "      <td>107.833205</td>\n",
       "      <td>0</td>\n",
       "      <td>1</td>\n",
       "      <td>0</td>\n",
       "      <td>36</td>\n",
       "    </tr>\n",
       "    <tr>\n",
       "      <th>1</th>\n",
       "      <td>5</td>\n",
       "      <td>33.421550</td>\n",
       "      <td>2</td>\n",
       "      <td>1</td>\n",
       "      <td>3</td>\n",
       "      <td>22</td>\n",
       "      <td>174.671120</td>\n",
       "      <td>0</td>\n",
       "      <td>0</td>\n",
       "      <td>1</td>\n",
       "      <td>48</td>\n",
       "    </tr>\n",
       "    <tr>\n",
       "      <th>2</th>\n",
       "      <td>5</td>\n",
       "      <td>61.090097</td>\n",
       "      <td>1</td>\n",
       "      <td>1</td>\n",
       "      <td>1</td>\n",
       "      <td>19</td>\n",
       "      <td>86.313383</td>\n",
       "      <td>1</td>\n",
       "      <td>0</td>\n",
       "      <td>0</td>\n",
       "      <td>32</td>\n",
       "    </tr>\n",
       "    <tr>\n",
       "      <th>3</th>\n",
       "      <td>24</td>\n",
       "      <td>66.166457</td>\n",
       "      <td>1</td>\n",
       "      <td>14</td>\n",
       "      <td>3</td>\n",
       "      <td>19</td>\n",
       "      <td>133.341666</td>\n",
       "      <td>0</td>\n",
       "      <td>0</td>\n",
       "      <td>1</td>\n",
       "      <td>50</td>\n",
       "    </tr>\n",
       "    <tr>\n",
       "      <th>4</th>\n",
       "      <td>8</td>\n",
       "      <td>46.797436</td>\n",
       "      <td>2</td>\n",
       "      <td>3</td>\n",
       "      <td>1</td>\n",
       "      <td>16</td>\n",
       "      <td>102.000000</td>\n",
       "      <td>0</td>\n",
       "      <td>1</td>\n",
       "      <td>0</td>\n",
       "      <td>44</td>\n",
       "    </tr>\n",
       "  </tbody>\n",
       "</table>\n",
       "</div>"
      ],
      "text/plain": [
       "   City_Code  Region_Code Health Indicator  Holding_Policy_Duration  \\\n",
       "0          3    56.683331                1                       14   \n",
       "1          5    33.421550                2                        1   \n",
       "2          5    61.090097                1                        1   \n",
       "3         24    66.166457                1                       14   \n",
       "4          8    46.797436                2                        3   \n",
       "\n",
       "   Holding_Policy_Type  Reco_Policy_Cat  Reco_Policy_Premium  Response  \\\n",
       "0                    3               22           107.833205         0   \n",
       "1                    3               22           174.671120         0   \n",
       "2                    1               19            86.313383         1   \n",
       "3                    3               19           133.341666         0   \n",
       "4                    1               16           102.000000         0   \n",
       "\n",
       "   Rented  Joint  Age  \n",
       "0       1      0   36  \n",
       "1       0      1   48  \n",
       "2       0      0   32  \n",
       "3       0      1   50  \n",
       "4       1      0   44  "
      ]
     },
     "execution_count": 783,
     "metadata": {},
     "output_type": "execute_result"
    }
   ],
   "source": [
    "df.head()"
   ]
  },
  {
   "cell_type": "code",
   "execution_count": 786,
   "metadata": {},
   "outputs": [
    {
     "data": {
      "text/plain": [
       "<AxesSubplot:>"
      ]
     },
     "execution_count": 786,
     "metadata": {},
     "output_type": "execute_result"
    },
    {
     "data": {
      "image/png": "[encoded data removed]",
      "text/plain": [
       "<Figure size 720x432 with 2 Axes>"
      ]
     },
     "metadata": {
      "needs_background": "light"
     },
     "output_type": "display_data"
    }
   ],
   "source": [
    "plt.figure(figsize=(10,6))\n",
    "sns.heatmap(df.corr(),annot=True)"
   ]
  },
  {
   "cell_type": "code",
   "execution_count": 787,
   "metadata": {},
   "outputs": [
    {
     "data": {
      "text/plain": [
       "(50882, 11)"
      ]
     },
     "execution_count": 787,
     "metadata": {},
     "output_type": "execute_result"
    }
   ],
   "source": [
    "df.shape"
   ]
  },
  {
   "cell_type": "code",
   "execution_count": null,
   "metadata": {},
   "outputs": [],
   "source": []
  },
  {
   "cell_type": "code",
   "execution_count": 881,
   "metadata": {},
   "outputs": [],
   "source": [
    "from sklearn.model_selection import train_test_split\n",
    "from sklearn.model_selection import StratifiedKFold, StratifiedShuffleSplit"
   ]
  },
  {
   "cell_type": "code",
   "execution_count": 882,
   "metadata": {},
   "outputs": [],
   "source": [
    "X = df.drop(['Response'], axis=1)\n",
    "y = df['Response']"
   ]
  },
  {
   "cell_type": "code",
   "execution_count": 854,
   "metadata": {},
   "outputs": [
    {
     "data": {
      "text/html": [
       "<div>\n",
       "<style scoped>\n",
       "    .dataframe tbody tr th:only-of-type {\n",
       "        vertical-align: middle;\n",
       "    }\n",
       "\n",
       "    .dataframe tbody tr th {\n",
       "        vertical-align: top;\n",
       "    }\n",
       "\n",
       "    .dataframe thead th {\n",
       "        text-align: right;\n",
       "    }\n",
       "</style>\n",
       "<table border=\"1\" class=\"dataframe\">\n",
       "  <thead>\n",
       "    <tr style=\"text-align: right;\">\n",
       "      <th></th>\n",
       "      <th>City_Code</th>\n",
       "      <th>Region_Code</th>\n",
       "      <th>Health Indicator</th>\n",
       "      <th>Holding_Policy_Duration</th>\n",
       "      <th>Holding_Policy_Type</th>\n",
       "      <th>Reco_Policy_Cat</th>\n",
       "      <th>Reco_Policy_Premium</th>\n",
       "      <th>Rented</th>\n",
       "      <th>Joint</th>\n",
       "      <th>Age</th>\n",
       "    </tr>\n",
       "  </thead>\n",
       "  <tbody>\n",
       "    <tr>\n",
       "      <th>0</th>\n",
       "      <td>3</td>\n",
       "      <td>56.683331</td>\n",
       "      <td>1</td>\n",
       "      <td>14</td>\n",
       "      <td>3</td>\n",
       "      <td>22</td>\n",
       "      <td>107.833205</td>\n",
       "      <td>1</td>\n",
       "      <td>0</td>\n",
       "      <td>36</td>\n",
       "    </tr>\n",
       "    <tr>\n",
       "      <th>1</th>\n",
       "      <td>5</td>\n",
       "      <td>33.421550</td>\n",
       "      <td>2</td>\n",
       "      <td>1</td>\n",
       "      <td>3</td>\n",
       "      <td>22</td>\n",
       "      <td>174.671120</td>\n",
       "      <td>0</td>\n",
       "      <td>1</td>\n",
       "      <td>48</td>\n",
       "    </tr>\n",
       "    <tr>\n",
       "      <th>2</th>\n",
       "      <td>5</td>\n",
       "      <td>61.090097</td>\n",
       "      <td>1</td>\n",
       "      <td>1</td>\n",
       "      <td>1</td>\n",
       "      <td>19</td>\n",
       "      <td>86.313383</td>\n",
       "      <td>0</td>\n",
       "      <td>0</td>\n",
       "      <td>32</td>\n",
       "    </tr>\n",
       "    <tr>\n",
       "      <th>3</th>\n",
       "      <td>24</td>\n",
       "      <td>66.166457</td>\n",
       "      <td>1</td>\n",
       "      <td>14</td>\n",
       "      <td>3</td>\n",
       "      <td>19</td>\n",
       "      <td>133.341666</td>\n",
       "      <td>0</td>\n",
       "      <td>1</td>\n",
       "      <td>50</td>\n",
       "    </tr>\n",
       "    <tr>\n",
       "      <th>4</th>\n",
       "      <td>8</td>\n",
       "      <td>46.797436</td>\n",
       "      <td>2</td>\n",
       "      <td>3</td>\n",
       "      <td>1</td>\n",
       "      <td>16</td>\n",
       "      <td>102.000000</td>\n",
       "      <td>1</td>\n",
       "      <td>0</td>\n",
       "      <td>44</td>\n",
       "    </tr>\n",
       "  </tbody>\n",
       "</table>\n",
       "</div>"
      ],
      "text/plain": [
       "   City_Code  Region_Code  Health Indicator  Holding_Policy_Duration  \\\n",
       "0          3    56.683331                 1                       14   \n",
       "1          5    33.421550                 2                        1   \n",
       "2          5    61.090097                 1                        1   \n",
       "3         24    66.166457                 1                       14   \n",
       "4          8    46.797436                 2                        3   \n",
       "\n",
       "   Holding_Policy_Type  Reco_Policy_Cat  Reco_Policy_Premium  Rented  Joint  \\\n",
       "0                    3               22           107.833205       1      0   \n",
       "1                    3               22           174.671120       0      1   \n",
       "2                    1               19            86.313383       0      0   \n",
       "3                    3               19           133.341666       0      1   \n",
       "4                    1               16           102.000000       1      0   \n",
       "\n",
       "   Age  \n",
       "0   36  \n",
       "1   48  \n",
       "2   32  \n",
       "3   50  \n",
       "4   44  "
      ]
     },
     "execution_count": 854,
     "metadata": {},
     "output_type": "execute_result"
    }
   ],
   "source": [
    "X.head()"
   ]
  },
  {
   "cell_type": "code",
   "execution_count": 855,
   "metadata": {},
   "outputs": [
    {
     "data": {
      "text/plain": [
       "0    0\n",
       "1    0\n",
       "2    1\n",
       "3    0\n",
       "4    0\n",
       "Name: Response, dtype: int64"
      ]
     },
     "execution_count": 855,
     "metadata": {},
     "output_type": "execute_result"
    }
   ],
   "source": [
    "y.head()"
   ]
  },
  {
   "cell_type": "code",
   "execution_count": 856,
   "metadata": {},
   "outputs": [
    {
     "data": {
      "text/plain": [
       "2"
      ]
     },
     "execution_count": 856,
     "metadata": {},
     "output_type": "execute_result"
    }
   ],
   "source": [
    "skf = StratifiedKFold(n_splits=2)\n",
    "skf.get_n_splits(X,y)"
   ]
  },
  {
   "cell_type": "code",
   "execution_count": 857,
   "metadata": {},
   "outputs": [
    {
     "data": {
      "text/plain": [
       "StratifiedKFold(n_splits=2, random_state=None, shuffle=False)"
      ]
     },
     "execution_count": 857,
     "metadata": {},
     "output_type": "execute_result"
    }
   ],
   "source": [
    "skf"
   ]
  },
  {
   "cell_type": "code",
   "execution_count": 858,
   "metadata": {},
   "outputs": [
    {
     "name": "stdout",
     "output_type": "stream",
     "text": [
      "TRAIN: [25367 25368 25369 ... 50879 50880 50881] TEST: [    0     1     2 ... 25723 25736 25740]\n",
      "TRAIN: [    0     1     2 ... 25723 25736 25740] TEST: [25367 25368 25369 ... 50879 50880 50881]\n"
     ]
    }
   ],
   "source": [
    "for train_index, test_index in skf.split(X, y):\n",
    "    print(\"TRAIN:\", train_index, \"TEST:\", test_index)\n",
    "    "
   ]
  },
  {
   "cell_type": "code",
   "execution_count": 859,
   "metadata": {},
   "outputs": [],
   "source": [
    "X_train, X_test = X.loc[train_index], X.loc[test_index]\n",
    "y_train, y_test = y.loc[train_index], y.loc[test_index]"
   ]
  },
  {
   "cell_type": "code",
   "execution_count": 860,
   "metadata": {},
   "outputs": [
    {
     "data": {
      "text/plain": [
       "((25441, 10), (25441, 10), (25441,), (25441,))"
      ]
     },
     "execution_count": 860,
     "metadata": {},
     "output_type": "execute_result"
    }
   ],
   "source": [
    "X_train.shape, X_test.shape, y_train.shape, y_test.shape"
   ]
  },
  {
   "cell_type": "code",
   "execution_count": 861,
   "metadata": {},
   "outputs": [
    {
     "data": {
      "text/plain": [
       "0    19337\n",
       "1     6104\n",
       "Name: Response, dtype: int64"
      ]
     },
     "execution_count": 861,
     "metadata": {},
     "output_type": "execute_result"
    }
   ],
   "source": [
    "y_train.value_counts()"
   ]
  },
  {
   "cell_type": "code",
   "execution_count": 862,
   "metadata": {},
   "outputs": [
    {
     "data": {
      "text/plain": [
       "0    19336\n",
       "1     6105\n",
       "Name: Response, dtype: int64"
      ]
     },
     "execution_count": 862,
     "metadata": {},
     "output_type": "execute_result"
    }
   ],
   "source": [
    "y_test.value_counts()"
   ]
  },
  {
   "cell_type": "code",
   "execution_count": 863,
   "metadata": {},
   "outputs": [],
   "source": [
    "import xgboost\n",
    "from sklearn.ensemble import RandomForestClassifier\n",
    "from xgboost import XGBClassifier"
   ]
  },
  {
   "cell_type": "code",
   "execution_count": 864,
   "metadata": {},
   "outputs": [
    {
     "data": {
      "text/plain": [
       "RandomForestClassifier()"
      ]
     },
     "execution_count": 864,
     "metadata": {},
     "output_type": "execute_result"
    }
   ],
   "source": [
    "rfc = RandomForestClassifier()\n",
    "rfc.fit(X_train, y_train)"
   ]
  },
  {
   "cell_type": "code",
   "execution_count": 865,
   "metadata": {},
   "outputs": [
    {
     "data": {
      "text/plain": [
       "array([0, 0, 0, ..., 0, 0, 0], dtype=int64)"
      ]
     },
     "execution_count": 865,
     "metadata": {},
     "output_type": "execute_result"
    }
   ],
   "source": [
    "y_pred = rfc.predict(X_test)\n",
    "y_pred"
   ]
  },
  {
   "cell_type": "code",
   "execution_count": 866,
   "metadata": {},
   "outputs": [
    {
     "data": {
      "text/plain": [
       "0.5112694826130904"
      ]
     },
     "execution_count": 866,
     "metadata": {},
     "output_type": "execute_result"
    }
   ],
   "source": [
    "from sklearn.metrics import roc_auc_score\n",
    "roc_auc_score(y_test, y_pred)"
   ]
  },
  {
   "cell_type": "code",
   "execution_count": 868,
   "metadata": {},
   "outputs": [
    {
     "data": {
      "text/plain": [
       "XGBClassifier(base_score=0.5, booster='gbtree', colsample_bylevel=1,\n",
       "              colsample_bynode=1, colsample_bytree=1, gamma=0, gpu_id=-1,\n",
       "              importance_type='gain', interaction_constraints='',\n",
       "              learning_rate=0.300000012, max_delta_step=0, max_depth=6,\n",
       "              min_child_weight=1, missing=nan, monotone_constraints='()',\n",
       "              n_estimators=100, n_jobs=0, num_parallel_tree=1, random_state=0,\n",
       "              reg_alpha=0, reg_lambda=1, scale_pos_weight=1, subsample=1,\n",
       "              tree_method='exact', validate_parameters=1, verbosity=None)"
      ]
     },
     "execution_count": 868,
     "metadata": {},
     "output_type": "execute_result"
    }
   ],
   "source": [
    "xgb = XGBClassifier()\n",
    "xgb.fit(X_train, y_train)"
   ]
  },
  {
   "cell_type": "code",
   "execution_count": 869,
   "metadata": {},
   "outputs": [
    {
     "data": {
      "text/plain": [
       "0.5224818562685754"
      ]
     },
     "execution_count": 869,
     "metadata": {},
     "output_type": "execute_result"
    }
   ],
   "source": [
    "y_pred = xgb.predict(X_test)\n",
    "roc_auc_score(y_test, y_pred)"
   ]
  },
  {
   "cell_type": "code",
   "execution_count": 871,
   "metadata": {
    "scrolled": true
   },
   "outputs": [
    {
     "name": "stdout",
     "output_type": "stream",
     "text": [
      "Collecting lightgbm\n",
      "  Downloading lightgbm-3.1.1-py2.py3-none-win_amd64.whl (754 kB)\n",
      "Requirement already satisfied: numpy in d:\\anacondafiles\\envs\\deeplearning\\lib\\site-packages (from lightgbm) (1.19.2)\n",
      "Requirement already satisfied: scikit-learn!=0.22.0 in d:\\anacondafiles\\envs\\deeplearning\\lib\\site-packages (from lightgbm) (0.23.2)\n",
      "Requirement already satisfied: scipy in d:\\anacondafiles\\envs\\deeplearning\\lib\\site-packages (from lightgbm) (1.5.2)\n",
      "Requirement already satisfied: wheel in d:\\anacondafiles\\envs\\deeplearning\\lib\\site-packages (from lightgbm) (0.35.1)\n",
      "Requirement already satisfied: threadpoolctl>=2.0.0 in d:\\anacondafiles\\envs\\deeplearning\\lib\\site-packages (from scikit-learn!=0.22.0->lightgbm) (2.1.0)\n",
      "Requirement already satisfied: joblib>=0.11 in d:\\anacondafiles\\envs\\deeplearning\\lib\\site-packages (from scikit-learn!=0.22.0->lightgbm) (0.17.0)\n",
      "Installing collected packages: lightgbm\n",
      "Successfully installed lightgbm-3.1.1\n"
     ]
    }
   ],
   "source": [
    "!pip install lightgbm"
   ]
  },
  {
   "cell_type": "code",
   "execution_count": 873,
   "metadata": {},
   "outputs": [
    {
     "name": "stdout",
     "output_type": "stream",
     "text": [
      "Collecting catboost\n",
      "  Downloading catboost-0.24.4-cp37-none-win_amd64.whl (65.4 MB)\n",
      "Collecting graphviz\n",
      "  Downloading graphviz-0.16-py2.py3-none-any.whl (19 kB)\n",
      "Requirement already satisfied: numpy>=1.16.0 in d:\\anacondafiles\\envs\\deeplearning\\lib\\site-packages (from catboost) (1.19.2)\n",
      "Requirement already satisfied: scipy in d:\\anacondafiles\\envs\\deeplearning\\lib\\site-packages (from catboost) (1.5.2)\n",
      "Requirement already satisfied: six in d:\\anacondafiles\\envs\\deeplearning\\lib\\site-packages (from catboost) (1.15.0)\n",
      "Collecting plotly\n",
      "  Downloading plotly-4.14.3-py2.py3-none-any.whl (13.2 MB)\n",
      "Requirement already satisfied: pandas>=0.24.0 in d:\\anacondafiles\\envs\\deeplearning\\lib\\site-packages (from catboost) (1.2.1)\n",
      "Requirement already satisfied: matplotlib in d:\\anacondafiles\\envs\\deeplearning\\lib\\site-packages (from catboost) (3.3.2)\n",
      "Collecting retrying>=1.3.3\n",
      "  Downloading retrying-1.3.3.tar.gz (10 kB)\n",
      "Requirement already satisfied: pytz>=2017.3 in d:\\anacondafiles\\envs\\deeplearning\\lib\\site-packages (from pandas>=0.24.0->catboost) (2020.4)\n",
      "Requirement already satisfied: python-dateutil>=2.7.3 in d:\\anacondafiles\\envs\\deeplearning\\lib\\site-packages (from pandas>=0.24.0->catboost) (2.8.1)\n",
      "Requirement already satisfied: pillow>=6.2.0 in d:\\anacondafiles\\envs\\deeplearning\\lib\\site-packages (from matplotlib->catboost) (7.2.0)\n",
      "Requirement already satisfied: cycler>=0.10 in d:\\anacondafiles\\envs\\deeplearning\\lib\\site-packages (from matplotlib->catboost) (0.10.0)\n",
      "Requirement already satisfied: pyparsing!=2.0.4,!=2.1.2,!=2.1.6,>=2.0.3 in d:\\anacondafiles\\envs\\deeplearning\\lib\\site-packages (from matplotlib->catboost) (2.4.7)\n",
      "Requirement already satisfied: kiwisolver>=1.0.1 in d:\\anacondafiles\\envs\\deeplearning\\lib\\site-packages (from matplotlib->catboost) (1.3.1)\n",
      "Requirement already satisfied: certifi>=2020.06.20 in d:\\anacondafiles\\envs\\deeplearning\\lib\\site-packages (from matplotlib->catboost) (2020.6.20)\n",
      "Building wheels for collected packages: retrying\n",
      "  Building wheel for retrying (setup.py): started\n",
      "  Building wheel for retrying (setup.py): finished with status 'done'\n",
      "  Created wheel for retrying: filename=retrying-1.3.3-py3-none-any.whl size=11434 sha256=efbeaad2a9ae8c1c94210bee9bb190f4322d1c3841acf3f57b1dece0c46b1157\n",
      "  Stored in directory: c:\\users\\abhishek maity\\appdata\\local\\pip\\cache\\wheels\\f9\\8d\\8d\\f6af3f7f9eea3553bc2fe6d53e4b287dad18b06a861ac56ddf\n",
      "Successfully built retrying\n",
      "Installing collected packages: graphviz, retrying, plotly, catboost\n",
      "Successfully installed catboost-0.24.4 graphviz-0.16 plotly-4.14.3 retrying-1.3.3\n"
     ]
    }
   ],
   "source": [
    "!pip install catboost\n"
   ]
  },
  {
   "cell_type": "code",
   "execution_count": 874,
   "metadata": {},
   "outputs": [],
   "source": [
    "import lightgbm as lgb\n",
    "from catboost import CatBoostClassifier"
   ]
  },
  {
   "cell_type": "code",
   "execution_count": 875,
   "metadata": {},
   "outputs": [
    {
     "data": {
      "text/plain": [
       "LGBMClassifier()"
      ]
     },
     "execution_count": 875,
     "metadata": {},
     "output_type": "execute_result"
    }
   ],
   "source": [
    "clf = lgb.LGBMClassifier()\n",
    "clf.fit(X_train, y_train)"
   ]
  },
  {
   "cell_type": "code",
   "execution_count": 876,
   "metadata": {},
   "outputs": [
    {
     "data": {
      "text/plain": [
       "0.5064748757860054"
      ]
     },
     "execution_count": 876,
     "metadata": {},
     "output_type": "execute_result"
    }
   ],
   "source": [
    "y_pred = clf.predict(X_test)\n",
    "roc_auc_score(y_test, y_pred)"
   ]
  },
  {
   "cell_type": "code",
   "execution_count": 877,
   "metadata": {},
   "outputs": [
    {
     "name": "stdout",
     "output_type": "stream",
     "text": [
      "Learning rate set to 0.04103\n",
      "0:\tlearn: 0.6798162\ttotal: 172ms\tremaining: 2m 51s\n",
      "1:\tlearn: 0.6672039\ttotal: 183ms\tremaining: 1m 31s\n",
      "2:\tlearn: 0.6547363\ttotal: 194ms\tremaining: 1m 4s\n",
      "3:\tlearn: 0.6445798\ttotal: 205ms\tremaining: 51s\n",
      "4:\tlearn: 0.6347432\ttotal: 216ms\tremaining: 43s\n",
      "5:\tlearn: 0.6263634\ttotal: 227ms\tremaining: 37.6s\n",
      "6:\tlearn: 0.6187587\ttotal: 238ms\tremaining: 33.7s\n",
      "7:\tlearn: 0.6122776\ttotal: 244ms\tremaining: 30.3s\n",
      "8:\tlearn: 0.6055510\ttotal: 254ms\tremaining: 28s\n",
      "9:\tlearn: 0.5997399\ttotal: 267ms\tremaining: 26.5s\n",
      "10:\tlearn: 0.5941902\ttotal: 278ms\tremaining: 25s\n",
      "11:\tlearn: 0.5892369\ttotal: 288ms\tremaining: 23.7s\n",
      "12:\tlearn: 0.5848284\ttotal: 298ms\tremaining: 22.6s\n",
      "13:\tlearn: 0.5809549\ttotal: 308ms\tremaining: 21.7s\n",
      "14:\tlearn: 0.5773024\ttotal: 318ms\tremaining: 20.9s\n",
      "15:\tlearn: 0.5739378\ttotal: 329ms\tremaining: 20.2s\n",
      "16:\tlearn: 0.5709091\ttotal: 339ms\tremaining: 19.6s\n",
      "17:\tlearn: 0.5681774\ttotal: 349ms\tremaining: 19s\n",
      "18:\tlearn: 0.5656898\ttotal: 358ms\tremaining: 18.5s\n",
      "19:\tlearn: 0.5632003\ttotal: 368ms\tremaining: 18s\n",
      "20:\tlearn: 0.5608314\ttotal: 377ms\tremaining: 17.6s\n",
      "21:\tlearn: 0.5587527\ttotal: 383ms\tremaining: 17s\n",
      "22:\tlearn: 0.5571383\ttotal: 396ms\tremaining: 16.8s\n",
      "23:\tlearn: 0.5556032\ttotal: 406ms\tremaining: 16.5s\n",
      "24:\tlearn: 0.5532570\ttotal: 418ms\tremaining: 16.3s\n",
      "25:\tlearn: 0.5511845\ttotal: 429ms\tremaining: 16.1s\n",
      "26:\tlearn: 0.5498258\ttotal: 439ms\tremaining: 15.8s\n",
      "27:\tlearn: 0.5486627\ttotal: 449ms\tremaining: 15.6s\n",
      "28:\tlearn: 0.5475420\ttotal: 459ms\tremaining: 15.4s\n",
      "29:\tlearn: 0.5465097\ttotal: 469ms\tremaining: 15.2s\n",
      "30:\tlearn: 0.5453826\ttotal: 480ms\tremaining: 15s\n",
      "31:\tlearn: 0.5444909\ttotal: 490ms\tremaining: 14.8s\n",
      "32:\tlearn: 0.5438001\ttotal: 499ms\tremaining: 14.6s\n",
      "33:\tlearn: 0.5431192\ttotal: 509ms\tremaining: 14.5s\n",
      "34:\tlearn: 0.5418684\ttotal: 520ms\tremaining: 14.3s\n",
      "35:\tlearn: 0.5411479\ttotal: 528ms\tremaining: 14.1s\n",
      "36:\tlearn: 0.5406568\ttotal: 538ms\tremaining: 14s\n",
      "37:\tlearn: 0.5400099\ttotal: 550ms\tremaining: 13.9s\n",
      "38:\tlearn: 0.5390464\ttotal: 560ms\tremaining: 13.8s\n",
      "39:\tlearn: 0.5385753\ttotal: 571ms\tremaining: 13.7s\n",
      "40:\tlearn: 0.5382543\ttotal: 579ms\tremaining: 13.5s\n",
      "41:\tlearn: 0.5378602\ttotal: 586ms\tremaining: 13.4s\n",
      "42:\tlearn: 0.5375008\ttotal: 597ms\tremaining: 13.3s\n",
      "43:\tlearn: 0.5369802\ttotal: 608ms\tremaining: 13.2s\n",
      "44:\tlearn: 0.5363787\ttotal: 618ms\tremaining: 13.1s\n",
      "45:\tlearn: 0.5360004\ttotal: 628ms\tremaining: 13s\n",
      "46:\tlearn: 0.5356437\ttotal: 640ms\tremaining: 13s\n",
      "47:\tlearn: 0.5353512\ttotal: 649ms\tremaining: 12.9s\n",
      "48:\tlearn: 0.5348832\ttotal: 659ms\tremaining: 12.8s\n",
      "49:\tlearn: 0.5345758\ttotal: 669ms\tremaining: 12.7s\n",
      "50:\tlearn: 0.5344442\ttotal: 675ms\tremaining: 12.6s\n",
      "51:\tlearn: 0.5342400\ttotal: 685ms\tremaining: 12.5s\n",
      "52:\tlearn: 0.5334190\ttotal: 695ms\tremaining: 12.4s\n",
      "53:\tlearn: 0.5331373\ttotal: 706ms\tremaining: 12.4s\n",
      "54:\tlearn: 0.5327048\ttotal: 717ms\tremaining: 12.3s\n",
      "55:\tlearn: 0.5323484\ttotal: 727ms\tremaining: 12.3s\n",
      "56:\tlearn: 0.5319749\ttotal: 739ms\tremaining: 12.2s\n",
      "57:\tlearn: 0.5315725\ttotal: 750ms\tremaining: 12.2s\n",
      "58:\tlearn: 0.5311858\ttotal: 761ms\tremaining: 12.1s\n",
      "59:\tlearn: 0.5310886\ttotal: 771ms\tremaining: 12.1s\n",
      "60:\tlearn: 0.5307271\ttotal: 782ms\tremaining: 12s\n",
      "61:\tlearn: 0.5304401\ttotal: 792ms\tremaining: 12s\n",
      "62:\tlearn: 0.5300017\ttotal: 804ms\tremaining: 12s\n",
      "63:\tlearn: 0.5296429\ttotal: 814ms\tremaining: 11.9s\n",
      "64:\tlearn: 0.5293728\ttotal: 822ms\tremaining: 11.8s\n",
      "65:\tlearn: 0.5291845\ttotal: 834ms\tremaining: 11.8s\n",
      "66:\tlearn: 0.5288582\ttotal: 844ms\tremaining: 11.8s\n",
      "67:\tlearn: 0.5286288\ttotal: 854ms\tremaining: 11.7s\n",
      "68:\tlearn: 0.5284787\ttotal: 866ms\tremaining: 11.7s\n",
      "69:\tlearn: 0.5280853\ttotal: 876ms\tremaining: 11.6s\n",
      "70:\tlearn: 0.5278078\ttotal: 885ms\tremaining: 11.6s\n",
      "71:\tlearn: 0.5274285\ttotal: 895ms\tremaining: 11.5s\n",
      "72:\tlearn: 0.5272250\ttotal: 904ms\tremaining: 11.5s\n",
      "73:\tlearn: 0.5270813\ttotal: 914ms\tremaining: 11.4s\n",
      "74:\tlearn: 0.5269592\ttotal: 924ms\tremaining: 11.4s\n",
      "75:\tlearn: 0.5267655\ttotal: 934ms\tremaining: 11.4s\n",
      "76:\tlearn: 0.5265290\ttotal: 944ms\tremaining: 11.3s\n",
      "77:\tlearn: 0.5262383\ttotal: 955ms\tremaining: 11.3s\n",
      "78:\tlearn: 0.5260374\ttotal: 965ms\tremaining: 11.2s\n",
      "79:\tlearn: 0.5258787\ttotal: 974ms\tremaining: 11.2s\n",
      "80:\tlearn: 0.5257458\ttotal: 984ms\tremaining: 11.2s\n",
      "81:\tlearn: 0.5256118\ttotal: 994ms\tremaining: 11.1s\n",
      "82:\tlearn: 0.5253938\ttotal: 1s\tremaining: 11.1s\n",
      "83:\tlearn: 0.5252023\ttotal: 1.01s\tremaining: 11.1s\n",
      "84:\tlearn: 0.5250652\ttotal: 1.02s\tremaining: 11s\n",
      "85:\tlearn: 0.5247358\ttotal: 1.03s\tremaining: 11s\n",
      "86:\tlearn: 0.5245233\ttotal: 1.04s\tremaining: 10.9s\n",
      "87:\tlearn: 0.5244877\ttotal: 1.05s\tremaining: 10.9s\n",
      "88:\tlearn: 0.5243116\ttotal: 1.06s\tremaining: 10.9s\n",
      "89:\tlearn: 0.5240814\ttotal: 1.07s\tremaining: 10.8s\n",
      "90:\tlearn: 0.5239504\ttotal: 1.08s\tremaining: 10.8s\n",
      "91:\tlearn: 0.5238180\ttotal: 1.09s\tremaining: 10.8s\n",
      "92:\tlearn: 0.5237695\ttotal: 1.1s\tremaining: 10.7s\n",
      "93:\tlearn: 0.5235506\ttotal: 1.11s\tremaining: 10.7s\n",
      "94:\tlearn: 0.5234671\ttotal: 1.12s\tremaining: 10.7s\n",
      "95:\tlearn: 0.5232958\ttotal: 1.13s\tremaining: 10.6s\n",
      "96:\tlearn: 0.5231232\ttotal: 1.14s\tremaining: 10.6s\n",
      "97:\tlearn: 0.5228246\ttotal: 1.15s\tremaining: 10.6s\n",
      "98:\tlearn: 0.5226171\ttotal: 1.16s\tremaining: 10.5s\n",
      "99:\tlearn: 0.5225390\ttotal: 1.17s\tremaining: 10.5s\n",
      "100:\tlearn: 0.5223124\ttotal: 1.18s\tremaining: 10.5s\n",
      "101:\tlearn: 0.5221611\ttotal: 1.19s\tremaining: 10.5s\n",
      "102:\tlearn: 0.5219466\ttotal: 1.2s\tremaining: 10.4s\n",
      "103:\tlearn: 0.5218424\ttotal: 1.21s\tremaining: 10.4s\n",
      "104:\tlearn: 0.5216985\ttotal: 1.22s\tremaining: 10.4s\n",
      "105:\tlearn: 0.5215306\ttotal: 1.23s\tremaining: 10.3s\n",
      "106:\tlearn: 0.5214429\ttotal: 1.24s\tremaining: 10.3s\n",
      "107:\tlearn: 0.5213292\ttotal: 1.25s\tremaining: 10.3s\n",
      "108:\tlearn: 0.5212350\ttotal: 1.26s\tremaining: 10.3s\n",
      "109:\tlearn: 0.5210676\ttotal: 1.27s\tremaining: 10.3s\n",
      "110:\tlearn: 0.5208817\ttotal: 1.28s\tremaining: 10.2s\n",
      "111:\tlearn: 0.5207673\ttotal: 1.29s\tremaining: 10.2s\n",
      "112:\tlearn: 0.5206758\ttotal: 1.3s\tremaining: 10.2s\n",
      "113:\tlearn: 0.5205244\ttotal: 1.31s\tremaining: 10.2s\n",
      "114:\tlearn: 0.5204310\ttotal: 1.32s\tremaining: 10.2s\n",
      "115:\tlearn: 0.5202350\ttotal: 1.33s\tremaining: 10.2s\n",
      "116:\tlearn: 0.5200651\ttotal: 1.34s\tremaining: 10.1s\n",
      "117:\tlearn: 0.5198858\ttotal: 1.35s\tremaining: 10.1s\n",
      "118:\tlearn: 0.5196769\ttotal: 1.36s\tremaining: 10.1s\n",
      "119:\tlearn: 0.5195644\ttotal: 1.38s\tremaining: 10.1s\n",
      "120:\tlearn: 0.5194272\ttotal: 1.39s\tremaining: 10.1s\n",
      "121:\tlearn: 0.5193567\ttotal: 1.4s\tremaining: 10s\n",
      "122:\tlearn: 0.5192599\ttotal: 1.41s\tremaining: 10s\n",
      "123:\tlearn: 0.5190842\ttotal: 1.42s\tremaining: 10s\n",
      "124:\tlearn: 0.5190380\ttotal: 1.42s\tremaining: 9.97s\n",
      "125:\tlearn: 0.5188771\ttotal: 1.43s\tremaining: 9.95s\n",
      "126:\tlearn: 0.5187600\ttotal: 1.44s\tremaining: 9.92s\n",
      "127:\tlearn: 0.5186377\ttotal: 1.45s\tremaining: 9.91s\n",
      "128:\tlearn: 0.5184724\ttotal: 1.47s\tremaining: 9.9s\n",
      "129:\tlearn: 0.5182927\ttotal: 1.47s\tremaining: 9.87s\n",
      "130:\tlearn: 0.5181845\ttotal: 1.49s\tremaining: 9.86s\n",
      "131:\tlearn: 0.5180385\ttotal: 1.5s\tremaining: 9.85s\n",
      "132:\tlearn: 0.5179815\ttotal: 1.51s\tremaining: 9.83s\n",
      "133:\tlearn: 0.5178769\ttotal: 1.52s\tremaining: 9.82s\n",
      "134:\tlearn: 0.5177564\ttotal: 1.53s\tremaining: 9.81s\n",
      "135:\tlearn: 0.5176785\ttotal: 1.54s\tremaining: 9.8s\n",
      "136:\tlearn: 0.5175439\ttotal: 1.55s\tremaining: 9.79s\n",
      "137:\tlearn: 0.5174067\ttotal: 1.56s\tremaining: 9.77s\n",
      "138:\tlearn: 0.5172642\ttotal: 1.57s\tremaining: 9.75s\n",
      "139:\tlearn: 0.5170668\ttotal: 1.59s\tremaining: 9.74s\n",
      "140:\tlearn: 0.5168891\ttotal: 1.6s\tremaining: 9.73s\n",
      "141:\tlearn: 0.5167885\ttotal: 1.61s\tremaining: 9.72s\n",
      "142:\tlearn: 0.5166583\ttotal: 1.62s\tremaining: 9.71s\n",
      "143:\tlearn: 0.5165785\ttotal: 1.63s\tremaining: 9.69s\n",
      "144:\tlearn: 0.5164723\ttotal: 1.64s\tremaining: 9.68s\n",
      "145:\tlearn: 0.5163797\ttotal: 1.65s\tremaining: 9.67s\n",
      "146:\tlearn: 0.5163267\ttotal: 1.66s\tremaining: 9.66s\n",
      "147:\tlearn: 0.5161373\ttotal: 1.67s\tremaining: 9.64s\n",
      "148:\tlearn: 0.5159792\ttotal: 1.69s\tremaining: 9.65s\n",
      "149:\tlearn: 0.5158102\ttotal: 1.7s\tremaining: 9.63s\n",
      "150:\tlearn: 0.5157158\ttotal: 1.71s\tremaining: 9.62s\n",
      "151:\tlearn: 0.5156561\ttotal: 1.72s\tremaining: 9.61s\n",
      "152:\tlearn: 0.5155715\ttotal: 1.73s\tremaining: 9.59s\n",
      "153:\tlearn: 0.5154916\ttotal: 1.74s\tremaining: 9.58s\n",
      "154:\tlearn: 0.5153821\ttotal: 1.75s\tremaining: 9.57s\n",
      "155:\tlearn: 0.5152932\ttotal: 1.77s\tremaining: 9.56s\n",
      "156:\tlearn: 0.5151847\ttotal: 1.78s\tremaining: 9.54s\n",
      "157:\tlearn: 0.5149143\ttotal: 1.79s\tremaining: 9.53s\n",
      "158:\tlearn: 0.5148170\ttotal: 1.8s\tremaining: 9.52s\n",
      "159:\tlearn: 0.5147247\ttotal: 1.81s\tremaining: 9.5s\n",
      "160:\tlearn: 0.5146237\ttotal: 1.82s\tremaining: 9.48s\n"
     ]
    },
    {
     "name": "stdout",
     "output_type": "stream",
     "text": [
      "161:\tlearn: 0.5145567\ttotal: 1.86s\tremaining: 9.63s\n",
      "162:\tlearn: 0.5143516\ttotal: 1.88s\tremaining: 9.67s\n",
      "163:\tlearn: 0.5142895\ttotal: 1.9s\tremaining: 9.67s\n",
      "164:\tlearn: 0.5141357\ttotal: 1.91s\tremaining: 9.65s\n",
      "165:\tlearn: 0.5140278\ttotal: 1.92s\tremaining: 9.64s\n",
      "166:\tlearn: 0.5139266\ttotal: 1.93s\tremaining: 9.62s\n",
      "167:\tlearn: 0.5138601\ttotal: 1.94s\tremaining: 9.61s\n",
      "168:\tlearn: 0.5137599\ttotal: 1.95s\tremaining: 9.59s\n",
      "169:\tlearn: 0.5137045\ttotal: 1.96s\tremaining: 9.58s\n",
      "170:\tlearn: 0.5136377\ttotal: 1.97s\tremaining: 9.56s\n",
      "171:\tlearn: 0.5135143\ttotal: 1.98s\tremaining: 9.54s\n",
      "172:\tlearn: 0.5134386\ttotal: 1.99s\tremaining: 9.52s\n",
      "173:\tlearn: 0.5133663\ttotal: 2s\tremaining: 9.51s\n",
      "174:\tlearn: 0.5132840\ttotal: 2.01s\tremaining: 9.49s\n",
      "175:\tlearn: 0.5131297\ttotal: 2.02s\tremaining: 9.47s\n",
      "176:\tlearn: 0.5130254\ttotal: 2.03s\tremaining: 9.46s\n",
      "177:\tlearn: 0.5129235\ttotal: 2.04s\tremaining: 9.44s\n",
      "178:\tlearn: 0.5128291\ttotal: 2.05s\tremaining: 9.42s\n",
      "179:\tlearn: 0.5127331\ttotal: 2.06s\tremaining: 9.4s\n",
      "180:\tlearn: 0.5126066\ttotal: 2.07s\tremaining: 9.38s\n",
      "181:\tlearn: 0.5125171\ttotal: 2.08s\tremaining: 9.36s\n",
      "182:\tlearn: 0.5124108\ttotal: 2.09s\tremaining: 9.35s\n",
      "183:\tlearn: 0.5123184\ttotal: 2.1s\tremaining: 9.33s\n",
      "184:\tlearn: 0.5122615\ttotal: 2.11s\tremaining: 9.31s\n",
      "185:\tlearn: 0.5121781\ttotal: 2.12s\tremaining: 9.29s\n",
      "186:\tlearn: 0.5121034\ttotal: 2.13s\tremaining: 9.28s\n",
      "187:\tlearn: 0.5119828\ttotal: 2.15s\tremaining: 9.27s\n",
      "188:\tlearn: 0.5119189\ttotal: 2.16s\tremaining: 9.25s\n",
      "189:\tlearn: 0.5117817\ttotal: 2.17s\tremaining: 9.24s\n",
      "190:\tlearn: 0.5117114\ttotal: 2.18s\tremaining: 9.22s\n",
      "191:\tlearn: 0.5116159\ttotal: 2.19s\tremaining: 9.21s\n",
      "192:\tlearn: 0.5115571\ttotal: 2.2s\tremaining: 9.2s\n",
      "193:\tlearn: 0.5114542\ttotal: 2.21s\tremaining: 9.19s\n",
      "194:\tlearn: 0.5112402\ttotal: 2.22s\tremaining: 9.18s\n",
      "195:\tlearn: 0.5111452\ttotal: 2.24s\tremaining: 9.18s\n",
      "196:\tlearn: 0.5110080\ttotal: 2.25s\tremaining: 9.16s\n",
      "197:\tlearn: 0.5109268\ttotal: 2.26s\tremaining: 9.15s\n",
      "198:\tlearn: 0.5108301\ttotal: 2.27s\tremaining: 9.13s\n",
      "199:\tlearn: 0.5106822\ttotal: 2.28s\tremaining: 9.11s\n",
      "200:\tlearn: 0.5106034\ttotal: 2.29s\tremaining: 9.1s\n",
      "201:\tlearn: 0.5105132\ttotal: 2.3s\tremaining: 9.09s\n",
      "202:\tlearn: 0.5103688\ttotal: 2.31s\tremaining: 9.07s\n",
      "203:\tlearn: 0.5102639\ttotal: 2.32s\tremaining: 9.05s\n",
      "204:\tlearn: 0.5101715\ttotal: 2.33s\tremaining: 9.04s\n",
      "205:\tlearn: 0.5101255\ttotal: 2.34s\tremaining: 9.02s\n",
      "206:\tlearn: 0.5100091\ttotal: 2.35s\tremaining: 9s\n",
      "207:\tlearn: 0.5099227\ttotal: 2.36s\tremaining: 8.99s\n",
      "208:\tlearn: 0.5098776\ttotal: 2.37s\tremaining: 8.97s\n",
      "209:\tlearn: 0.5097712\ttotal: 2.38s\tremaining: 8.96s\n",
      "210:\tlearn: 0.5096725\ttotal: 2.39s\tremaining: 8.94s\n",
      "211:\tlearn: 0.5096071\ttotal: 2.4s\tremaining: 8.93s\n",
      "212:\tlearn: 0.5095265\ttotal: 2.41s\tremaining: 8.91s\n",
      "213:\tlearn: 0.5094428\ttotal: 2.42s\tremaining: 8.9s\n",
      "214:\tlearn: 0.5093399\ttotal: 2.43s\tremaining: 8.89s\n",
      "215:\tlearn: 0.5091593\ttotal: 2.44s\tremaining: 8.88s\n",
      "216:\tlearn: 0.5090875\ttotal: 2.46s\tremaining: 8.87s\n",
      "217:\tlearn: 0.5089406\ttotal: 2.47s\tremaining: 8.85s\n",
      "218:\tlearn: 0.5088742\ttotal: 2.48s\tremaining: 8.84s\n",
      "219:\tlearn: 0.5086745\ttotal: 2.49s\tremaining: 8.82s\n",
      "220:\tlearn: 0.5085577\ttotal: 2.5s\tremaining: 8.81s\n",
      "221:\tlearn: 0.5084547\ttotal: 2.51s\tremaining: 8.79s\n",
      "222:\tlearn: 0.5083272\ttotal: 2.52s\tremaining: 8.78s\n",
      "223:\tlearn: 0.5081823\ttotal: 2.53s\tremaining: 8.77s\n",
      "224:\tlearn: 0.5080679\ttotal: 2.54s\tremaining: 8.75s\n",
      "225:\tlearn: 0.5079707\ttotal: 2.55s\tremaining: 8.75s\n",
      "226:\tlearn: 0.5078932\ttotal: 2.56s\tremaining: 8.73s\n",
      "227:\tlearn: 0.5078203\ttotal: 2.58s\tremaining: 8.72s\n",
      "228:\tlearn: 0.5077035\ttotal: 2.59s\tremaining: 8.71s\n",
      "229:\tlearn: 0.5076075\ttotal: 2.6s\tremaining: 8.69s\n",
      "230:\tlearn: 0.5075244\ttotal: 2.61s\tremaining: 8.68s\n",
      "231:\tlearn: 0.5073877\ttotal: 2.62s\tremaining: 8.67s\n",
      "232:\tlearn: 0.5073216\ttotal: 2.63s\tremaining: 8.65s\n",
      "233:\tlearn: 0.5072543\ttotal: 2.64s\tremaining: 8.64s\n",
      "234:\tlearn: 0.5071729\ttotal: 2.65s\tremaining: 8.63s\n",
      "235:\tlearn: 0.5070674\ttotal: 2.66s\tremaining: 8.62s\n",
      "236:\tlearn: 0.5068682\ttotal: 2.67s\tremaining: 8.6s\n",
      "237:\tlearn: 0.5067232\ttotal: 2.68s\tremaining: 8.59s\n",
      "238:\tlearn: 0.5066012\ttotal: 2.69s\tremaining: 8.58s\n",
      "239:\tlearn: 0.5065320\ttotal: 2.71s\tremaining: 8.57s\n",
      "240:\tlearn: 0.5064516\ttotal: 2.72s\tremaining: 8.55s\n",
      "241:\tlearn: 0.5063457\ttotal: 2.73s\tremaining: 8.54s\n",
      "242:\tlearn: 0.5062731\ttotal: 2.74s\tremaining: 8.53s\n",
      "243:\tlearn: 0.5062017\ttotal: 2.75s\tremaining: 8.52s\n",
      "244:\tlearn: 0.5060824\ttotal: 2.76s\tremaining: 8.5s\n",
      "245:\tlearn: 0.5059490\ttotal: 2.77s\tremaining: 8.49s\n",
      "246:\tlearn: 0.5058594\ttotal: 2.78s\tremaining: 8.48s\n",
      "247:\tlearn: 0.5057233\ttotal: 2.79s\tremaining: 8.47s\n",
      "248:\tlearn: 0.5056400\ttotal: 2.8s\tremaining: 8.45s\n",
      "249:\tlearn: 0.5055423\ttotal: 2.81s\tremaining: 8.44s\n",
      "250:\tlearn: 0.5054937\ttotal: 2.82s\tremaining: 8.43s\n",
      "251:\tlearn: 0.5054012\ttotal: 2.83s\tremaining: 8.42s\n",
      "252:\tlearn: 0.5052606\ttotal: 2.85s\tremaining: 8.4s\n",
      "253:\tlearn: 0.5051964\ttotal: 2.86s\tremaining: 8.39s\n",
      "254:\tlearn: 0.5050357\ttotal: 2.87s\tremaining: 8.37s\n",
      "255:\tlearn: 0.5049310\ttotal: 2.88s\tremaining: 8.36s\n",
      "256:\tlearn: 0.5047585\ttotal: 2.89s\tremaining: 8.35s\n",
      "257:\tlearn: 0.5046827\ttotal: 2.9s\tremaining: 8.34s\n",
      "258:\tlearn: 0.5045953\ttotal: 2.91s\tremaining: 8.32s\n",
      "259:\tlearn: 0.5045215\ttotal: 2.92s\tremaining: 8.31s\n",
      "260:\tlearn: 0.5044403\ttotal: 2.93s\tremaining: 8.29s\n",
      "261:\tlearn: 0.5043372\ttotal: 2.94s\tremaining: 8.28s\n",
      "262:\tlearn: 0.5042348\ttotal: 2.95s\tremaining: 8.27s\n",
      "263:\tlearn: 0.5041455\ttotal: 2.96s\tremaining: 8.26s\n",
      "264:\tlearn: 0.5040323\ttotal: 2.97s\tremaining: 8.25s\n",
      "265:\tlearn: 0.5039598\ttotal: 2.98s\tremaining: 8.23s\n",
      "266:\tlearn: 0.5038108\ttotal: 2.99s\tremaining: 8.22s\n",
      "267:\tlearn: 0.5037493\ttotal: 3s\tremaining: 8.21s\n",
      "268:\tlearn: 0.5035610\ttotal: 3.02s\tremaining: 8.19s\n",
      "269:\tlearn: 0.5034699\ttotal: 3.02s\tremaining: 8.18s\n",
      "270:\tlearn: 0.5033489\ttotal: 3.04s\tremaining: 8.17s\n",
      "271:\tlearn: 0.5032204\ttotal: 3.05s\tremaining: 8.15s\n",
      "272:\tlearn: 0.5031351\ttotal: 3.06s\tremaining: 8.14s\n",
      "273:\tlearn: 0.5030415\ttotal: 3.07s\tremaining: 8.12s\n",
      "274:\tlearn: 0.5029520\ttotal: 3.08s\tremaining: 8.11s\n",
      "275:\tlearn: 0.5028786\ttotal: 3.08s\tremaining: 8.1s\n",
      "276:\tlearn: 0.5028131\ttotal: 3.1s\tremaining: 8.08s\n",
      "277:\tlearn: 0.5027509\ttotal: 3.11s\tremaining: 8.08s\n",
      "278:\tlearn: 0.5026679\ttotal: 3.12s\tremaining: 8.06s\n",
      "279:\tlearn: 0.5025505\ttotal: 3.13s\tremaining: 8.05s\n",
      "280:\tlearn: 0.5024357\ttotal: 3.14s\tremaining: 8.04s\n",
      "281:\tlearn: 0.5023609\ttotal: 3.15s\tremaining: 8.02s\n",
      "282:\tlearn: 0.5021918\ttotal: 3.16s\tremaining: 8.01s\n",
      "283:\tlearn: 0.5020999\ttotal: 3.17s\tremaining: 8s\n",
      "284:\tlearn: 0.5020229\ttotal: 3.18s\tremaining: 7.98s\n",
      "285:\tlearn: 0.5019424\ttotal: 3.19s\tremaining: 7.97s\n",
      "286:\tlearn: 0.5018825\ttotal: 3.2s\tremaining: 7.96s\n",
      "287:\tlearn: 0.5017767\ttotal: 3.21s\tremaining: 7.94s\n",
      "288:\tlearn: 0.5016876\ttotal: 3.22s\tremaining: 7.93s\n",
      "289:\tlearn: 0.5014981\ttotal: 3.23s\tremaining: 7.91s\n",
      "290:\tlearn: 0.5014259\ttotal: 3.24s\tremaining: 7.9s\n",
      "291:\tlearn: 0.5013221\ttotal: 3.25s\tremaining: 7.89s\n",
      "292:\tlearn: 0.5012103\ttotal: 3.26s\tremaining: 7.87s\n",
      "293:\tlearn: 0.5011220\ttotal: 3.27s\tremaining: 7.86s\n",
      "294:\tlearn: 0.5009591\ttotal: 3.29s\tremaining: 7.85s\n",
      "295:\tlearn: 0.5008705\ttotal: 3.3s\tremaining: 7.85s\n",
      "296:\tlearn: 0.5007819\ttotal: 3.31s\tremaining: 7.83s\n",
      "297:\tlearn: 0.5006779\ttotal: 3.32s\tremaining: 7.82s\n",
      "298:\tlearn: 0.5005370\ttotal: 3.33s\tremaining: 7.81s\n",
      "299:\tlearn: 0.5004111\ttotal: 3.34s\tremaining: 7.8s\n",
      "300:\tlearn: 0.5003529\ttotal: 3.35s\tremaining: 7.78s\n",
      "301:\tlearn: 0.5001920\ttotal: 3.36s\tremaining: 7.77s\n",
      "302:\tlearn: 0.5000725\ttotal: 3.37s\tremaining: 7.75s\n",
      "303:\tlearn: 0.4999429\ttotal: 3.38s\tremaining: 7.74s\n",
      "304:\tlearn: 0.4998271\ttotal: 3.39s\tremaining: 7.72s\n",
      "305:\tlearn: 0.4997055\ttotal: 3.4s\tremaining: 7.71s\n",
      "306:\tlearn: 0.4995067\ttotal: 3.41s\tremaining: 7.7s\n",
      "307:\tlearn: 0.4993962\ttotal: 3.42s\tremaining: 7.68s\n",
      "308:\tlearn: 0.4993405\ttotal: 3.43s\tremaining: 7.66s\n",
      "309:\tlearn: 0.4991939\ttotal: 3.44s\tremaining: 7.65s\n",
      "310:\tlearn: 0.4991122\ttotal: 3.45s\tremaining: 7.64s\n",
      "311:\tlearn: 0.4990179\ttotal: 3.46s\tremaining: 7.63s\n",
      "312:\tlearn: 0.4989375\ttotal: 3.47s\tremaining: 7.61s\n",
      "313:\tlearn: 0.4988184\ttotal: 3.48s\tremaining: 7.6s\n",
      "314:\tlearn: 0.4986795\ttotal: 3.49s\tremaining: 7.6s\n",
      "315:\tlearn: 0.4985817\ttotal: 3.5s\tremaining: 7.58s\n",
      "316:\tlearn: 0.4984686\ttotal: 3.51s\tremaining: 7.57s\n",
      "317:\tlearn: 0.4983642\ttotal: 3.52s\tremaining: 7.56s\n",
      "318:\tlearn: 0.4982752\ttotal: 3.53s\tremaining: 7.54s\n",
      "319:\tlearn: 0.4981709\ttotal: 3.54s\tremaining: 7.53s\n",
      "320:\tlearn: 0.4980901\ttotal: 3.56s\tremaining: 7.52s\n",
      "321:\tlearn: 0.4979710\ttotal: 3.57s\tremaining: 7.51s\n",
      "322:\tlearn: 0.4978700\ttotal: 3.58s\tremaining: 7.5s\n",
      "323:\tlearn: 0.4977624\ttotal: 3.59s\tremaining: 7.5s\n",
      "324:\tlearn: 0.4976855\ttotal: 3.6s\tremaining: 7.49s\n",
      "325:\tlearn: 0.4976094\ttotal: 3.62s\tremaining: 7.47s\n"
     ]
    },
    {
     "name": "stdout",
     "output_type": "stream",
     "text": [
      "326:\tlearn: 0.4974804\ttotal: 3.63s\tremaining: 7.46s\n",
      "327:\tlearn: 0.4973918\ttotal: 3.64s\tremaining: 7.45s\n",
      "328:\tlearn: 0.4972744\ttotal: 3.65s\tremaining: 7.44s\n",
      "329:\tlearn: 0.4972058\ttotal: 3.66s\tremaining: 7.43s\n",
      "330:\tlearn: 0.4971009\ttotal: 3.67s\tremaining: 7.41s\n",
      "331:\tlearn: 0.4970232\ttotal: 3.68s\tremaining: 7.4s\n",
      "332:\tlearn: 0.4968819\ttotal: 3.69s\tremaining: 7.39s\n",
      "333:\tlearn: 0.4967909\ttotal: 3.7s\tremaining: 7.38s\n",
      "334:\tlearn: 0.4966493\ttotal: 3.71s\tremaining: 7.37s\n",
      "335:\tlearn: 0.4965674\ttotal: 3.73s\tremaining: 7.37s\n",
      "336:\tlearn: 0.4964684\ttotal: 3.74s\tremaining: 7.35s\n",
      "337:\tlearn: 0.4964053\ttotal: 3.75s\tremaining: 7.34s\n",
      "338:\tlearn: 0.4963141\ttotal: 3.76s\tremaining: 7.33s\n",
      "339:\tlearn: 0.4962344\ttotal: 3.77s\tremaining: 7.32s\n",
      "340:\tlearn: 0.4961623\ttotal: 3.78s\tremaining: 7.3s\n",
      "341:\tlearn: 0.4960621\ttotal: 3.79s\tremaining: 7.29s\n",
      "342:\tlearn: 0.4959356\ttotal: 3.8s\tremaining: 7.28s\n",
      "343:\tlearn: 0.4958401\ttotal: 3.81s\tremaining: 7.27s\n",
      "344:\tlearn: 0.4957518\ttotal: 3.82s\tremaining: 7.26s\n",
      "345:\tlearn: 0.4956826\ttotal: 3.83s\tremaining: 7.25s\n",
      "346:\tlearn: 0.4956303\ttotal: 3.84s\tremaining: 7.23s\n",
      "347:\tlearn: 0.4954917\ttotal: 3.85s\tremaining: 7.22s\n",
      "348:\tlearn: 0.4954139\ttotal: 3.86s\tremaining: 7.21s\n",
      "349:\tlearn: 0.4953149\ttotal: 3.87s\tremaining: 7.19s\n",
      "350:\tlearn: 0.4952154\ttotal: 3.88s\tremaining: 7.18s\n",
      "351:\tlearn: 0.4951461\ttotal: 3.89s\tremaining: 7.16s\n",
      "352:\tlearn: 0.4950603\ttotal: 3.9s\tremaining: 7.15s\n",
      "353:\tlearn: 0.4949478\ttotal: 3.91s\tremaining: 7.14s\n",
      "354:\tlearn: 0.4948614\ttotal: 3.92s\tremaining: 7.13s\n",
      "355:\tlearn: 0.4947711\ttotal: 3.93s\tremaining: 7.12s\n",
      "356:\tlearn: 0.4946974\ttotal: 3.94s\tremaining: 7.1s\n",
      "357:\tlearn: 0.4946125\ttotal: 3.95s\tremaining: 7.09s\n",
      "358:\tlearn: 0.4944798\ttotal: 3.96s\tremaining: 7.08s\n",
      "359:\tlearn: 0.4943824\ttotal: 3.97s\tremaining: 7.06s\n",
      "360:\tlearn: 0.4942529\ttotal: 3.98s\tremaining: 7.05s\n",
      "361:\tlearn: 0.4942051\ttotal: 3.99s\tremaining: 7.04s\n",
      "362:\tlearn: 0.4941356\ttotal: 4s\tremaining: 7.02s\n",
      "363:\tlearn: 0.4940394\ttotal: 4.01s\tremaining: 7.01s\n",
      "364:\tlearn: 0.4939366\ttotal: 4.02s\tremaining: 7s\n",
      "365:\tlearn: 0.4937936\ttotal: 4.03s\tremaining: 6.99s\n",
      "366:\tlearn: 0.4937066\ttotal: 4.04s\tremaining: 6.97s\n",
      "367:\tlearn: 0.4936052\ttotal: 4.05s\tremaining: 6.96s\n",
      "368:\tlearn: 0.4935196\ttotal: 4.06s\tremaining: 6.95s\n",
      "369:\tlearn: 0.4934269\ttotal: 4.07s\tremaining: 6.94s\n",
      "370:\tlearn: 0.4933411\ttotal: 4.08s\tremaining: 6.92s\n",
      "371:\tlearn: 0.4932238\ttotal: 4.09s\tremaining: 6.91s\n",
      "372:\tlearn: 0.4931292\ttotal: 4.1s\tremaining: 6.9s\n",
      "373:\tlearn: 0.4930257\ttotal: 4.11s\tremaining: 6.89s\n",
      "374:\tlearn: 0.4929439\ttotal: 4.12s\tremaining: 6.87s\n",
      "375:\tlearn: 0.4928638\ttotal: 4.13s\tremaining: 6.86s\n",
      "376:\tlearn: 0.4928098\ttotal: 4.15s\tremaining: 6.85s\n",
      "377:\tlearn: 0.4927357\ttotal: 4.16s\tremaining: 6.84s\n",
      "378:\tlearn: 0.4926633\ttotal: 4.17s\tremaining: 6.83s\n",
      "379:\tlearn: 0.4925677\ttotal: 4.18s\tremaining: 6.83s\n",
      "380:\tlearn: 0.4924481\ttotal: 4.2s\tremaining: 6.82s\n",
      "381:\tlearn: 0.4923338\ttotal: 4.21s\tremaining: 6.81s\n",
      "382:\tlearn: 0.4922318\ttotal: 4.22s\tremaining: 6.8s\n",
      "383:\tlearn: 0.4921288\ttotal: 4.23s\tremaining: 6.79s\n",
      "384:\tlearn: 0.4920533\ttotal: 4.24s\tremaining: 6.78s\n",
      "385:\tlearn: 0.4919864\ttotal: 4.25s\tremaining: 6.77s\n",
      "386:\tlearn: 0.4918884\ttotal: 4.26s\tremaining: 6.75s\n",
      "387:\tlearn: 0.4917664\ttotal: 4.28s\tremaining: 6.75s\n",
      "388:\tlearn: 0.4916140\ttotal: 4.29s\tremaining: 6.73s\n",
      "389:\tlearn: 0.4915001\ttotal: 4.3s\tremaining: 6.72s\n",
      "390:\tlearn: 0.4914020\ttotal: 4.31s\tremaining: 6.71s\n",
      "391:\tlearn: 0.4912543\ttotal: 4.32s\tremaining: 6.7s\n",
      "392:\tlearn: 0.4911746\ttotal: 4.33s\tremaining: 6.69s\n",
      "393:\tlearn: 0.4910633\ttotal: 4.35s\tremaining: 6.69s\n",
      "394:\tlearn: 0.4909938\ttotal: 4.36s\tremaining: 6.68s\n",
      "395:\tlearn: 0.4908917\ttotal: 4.37s\tremaining: 6.67s\n",
      "396:\tlearn: 0.4907908\ttotal: 4.38s\tremaining: 6.66s\n",
      "397:\tlearn: 0.4906644\ttotal: 4.39s\tremaining: 6.64s\n",
      "398:\tlearn: 0.4905527\ttotal: 4.4s\tremaining: 6.63s\n",
      "399:\tlearn: 0.4904913\ttotal: 4.42s\tremaining: 6.63s\n",
      "400:\tlearn: 0.4903887\ttotal: 4.43s\tremaining: 6.61s\n",
      "401:\tlearn: 0.4903058\ttotal: 4.44s\tremaining: 6.6s\n",
      "402:\tlearn: 0.4902243\ttotal: 4.45s\tremaining: 6.59s\n",
      "403:\tlearn: 0.4901489\ttotal: 4.46s\tremaining: 6.58s\n",
      "404:\tlearn: 0.4900832\ttotal: 4.47s\tremaining: 6.57s\n",
      "405:\tlearn: 0.4900118\ttotal: 4.48s\tremaining: 6.55s\n",
      "406:\tlearn: 0.4899238\ttotal: 4.49s\tremaining: 6.54s\n",
      "407:\tlearn: 0.4898381\ttotal: 4.5s\tremaining: 6.53s\n",
      "408:\tlearn: 0.4897391\ttotal: 4.51s\tremaining: 6.52s\n",
      "409:\tlearn: 0.4896626\ttotal: 4.52s\tremaining: 6.51s\n",
      "410:\tlearn: 0.4896045\ttotal: 4.53s\tremaining: 6.5s\n",
      "411:\tlearn: 0.4895222\ttotal: 4.54s\tremaining: 6.48s\n",
      "412:\tlearn: 0.4894383\ttotal: 4.55s\tremaining: 6.47s\n",
      "413:\tlearn: 0.4893461\ttotal: 4.56s\tremaining: 6.46s\n",
      "414:\tlearn: 0.4892664\ttotal: 4.58s\tremaining: 6.45s\n",
      "415:\tlearn: 0.4892016\ttotal: 4.58s\tremaining: 6.44s\n",
      "416:\tlearn: 0.4890387\ttotal: 4.6s\tremaining: 6.43s\n",
      "417:\tlearn: 0.4889725\ttotal: 4.61s\tremaining: 6.42s\n",
      "418:\tlearn: 0.4888940\ttotal: 4.62s\tremaining: 6.4s\n",
      "419:\tlearn: 0.4887589\ttotal: 4.63s\tremaining: 6.39s\n",
      "420:\tlearn: 0.4886897\ttotal: 4.64s\tremaining: 6.38s\n",
      "421:\tlearn: 0.4886094\ttotal: 4.65s\tremaining: 6.37s\n",
      "422:\tlearn: 0.4885222\ttotal: 4.66s\tremaining: 6.36s\n",
      "423:\tlearn: 0.4884286\ttotal: 4.67s\tremaining: 6.35s\n",
      "424:\tlearn: 0.4883268\ttotal: 4.68s\tremaining: 6.33s\n",
      "425:\tlearn: 0.4882383\ttotal: 4.69s\tremaining: 6.32s\n",
      "426:\tlearn: 0.4881454\ttotal: 4.71s\tremaining: 6.32s\n",
      "427:\tlearn: 0.4880309\ttotal: 4.72s\tremaining: 6.3s\n",
      "428:\tlearn: 0.4879558\ttotal: 4.73s\tremaining: 6.29s\n",
      "429:\tlearn: 0.4878990\ttotal: 4.74s\tremaining: 6.28s\n",
      "430:\tlearn: 0.4878224\ttotal: 4.75s\tremaining: 6.27s\n",
      "431:\tlearn: 0.4877537\ttotal: 4.76s\tremaining: 6.25s\n",
      "432:\tlearn: 0.4876828\ttotal: 4.77s\tremaining: 6.24s\n",
      "433:\tlearn: 0.4875798\ttotal: 4.78s\tremaining: 6.23s\n",
      "434:\tlearn: 0.4875168\ttotal: 4.79s\tremaining: 6.22s\n",
      "435:\tlearn: 0.4874585\ttotal: 4.8s\tremaining: 6.21s\n",
      "436:\tlearn: 0.4873614\ttotal: 4.81s\tremaining: 6.2s\n",
      "437:\tlearn: 0.4872634\ttotal: 4.82s\tremaining: 6.18s\n",
      "438:\tlearn: 0.4872099\ttotal: 4.83s\tremaining: 6.17s\n",
      "439:\tlearn: 0.4871145\ttotal: 4.84s\tremaining: 6.16s\n",
      "440:\tlearn: 0.4869888\ttotal: 4.85s\tremaining: 6.14s\n",
      "441:\tlearn: 0.4868859\ttotal: 4.86s\tremaining: 6.13s\n",
      "442:\tlearn: 0.4868121\ttotal: 4.87s\tremaining: 6.12s\n",
      "443:\tlearn: 0.4867306\ttotal: 4.88s\tremaining: 6.11s\n",
      "444:\tlearn: 0.4866336\ttotal: 4.88s\tremaining: 6.09s\n",
      "445:\tlearn: 0.4865530\ttotal: 4.89s\tremaining: 6.08s\n",
      "446:\tlearn: 0.4864604\ttotal: 4.91s\tremaining: 6.07s\n",
      "447:\tlearn: 0.4863503\ttotal: 4.92s\tremaining: 6.06s\n",
      "448:\tlearn: 0.4862601\ttotal: 4.93s\tremaining: 6.04s\n",
      "449:\tlearn: 0.4861690\ttotal: 4.94s\tremaining: 6.03s\n",
      "450:\tlearn: 0.4860641\ttotal: 4.95s\tremaining: 6.02s\n",
      "451:\tlearn: 0.4859701\ttotal: 4.96s\tremaining: 6.01s\n",
      "452:\tlearn: 0.4858782\ttotal: 4.97s\tremaining: 6s\n",
      "453:\tlearn: 0.4857896\ttotal: 4.98s\tremaining: 5.99s\n",
      "454:\tlearn: 0.4857253\ttotal: 4.99s\tremaining: 5.97s\n",
      "455:\tlearn: 0.4856402\ttotal: 5s\tremaining: 5.96s\n",
      "456:\tlearn: 0.4855276\ttotal: 5s\tremaining: 5.95s\n",
      "457:\tlearn: 0.4854597\ttotal: 5.01s\tremaining: 5.93s\n",
      "458:\tlearn: 0.4853554\ttotal: 5.02s\tremaining: 5.92s\n",
      "459:\tlearn: 0.4852816\ttotal: 5.04s\tremaining: 5.91s\n",
      "460:\tlearn: 0.4851387\ttotal: 5.04s\tremaining: 5.9s\n",
      "461:\tlearn: 0.4850393\ttotal: 5.05s\tremaining: 5.89s\n",
      "462:\tlearn: 0.4849362\ttotal: 5.07s\tremaining: 5.87s\n",
      "463:\tlearn: 0.4848292\ttotal: 5.07s\tremaining: 5.86s\n",
      "464:\tlearn: 0.4847573\ttotal: 5.08s\tremaining: 5.85s\n",
      "465:\tlearn: 0.4846755\ttotal: 5.09s\tremaining: 5.84s\n",
      "466:\tlearn: 0.4845367\ttotal: 5.1s\tremaining: 5.83s\n",
      "467:\tlearn: 0.4844550\ttotal: 5.11s\tremaining: 5.81s\n",
      "468:\tlearn: 0.4843803\ttotal: 5.12s\tremaining: 5.8s\n",
      "469:\tlearn: 0.4842695\ttotal: 5.13s\tremaining: 5.79s\n",
      "470:\tlearn: 0.4842142\ttotal: 5.14s\tremaining: 5.78s\n",
      "471:\tlearn: 0.4841425\ttotal: 5.15s\tremaining: 5.77s\n",
      "472:\tlearn: 0.4840805\ttotal: 5.17s\tremaining: 5.76s\n",
      "473:\tlearn: 0.4840019\ttotal: 5.18s\tremaining: 5.74s\n",
      "474:\tlearn: 0.4839251\ttotal: 5.18s\tremaining: 5.73s\n",
      "475:\tlearn: 0.4837935\ttotal: 5.2s\tremaining: 5.72s\n",
      "476:\tlearn: 0.4836889\ttotal: 5.21s\tremaining: 5.71s\n",
      "477:\tlearn: 0.4836172\ttotal: 5.22s\tremaining: 5.7s\n",
      "478:\tlearn: 0.4835329\ttotal: 5.23s\tremaining: 5.69s\n",
      "479:\tlearn: 0.4834441\ttotal: 5.24s\tremaining: 5.67s\n",
      "480:\tlearn: 0.4833345\ttotal: 5.25s\tremaining: 5.66s\n",
      "481:\tlearn: 0.4832222\ttotal: 5.26s\tremaining: 5.65s\n",
      "482:\tlearn: 0.4831331\ttotal: 5.27s\tremaining: 5.64s\n",
      "483:\tlearn: 0.4830769\ttotal: 5.28s\tremaining: 5.63s\n",
      "484:\tlearn: 0.4829953\ttotal: 5.29s\tremaining: 5.62s\n",
      "485:\tlearn: 0.4829219\ttotal: 5.3s\tremaining: 5.61s\n",
      "486:\tlearn: 0.4828422\ttotal: 5.31s\tremaining: 5.59s\n",
      "487:\tlearn: 0.4827752\ttotal: 5.32s\tremaining: 5.58s\n",
      "488:\tlearn: 0.4827005\ttotal: 5.33s\tremaining: 5.57s\n",
      "489:\tlearn: 0.4826205\ttotal: 5.34s\tremaining: 5.56s\n",
      "490:\tlearn: 0.4825273\ttotal: 5.35s\tremaining: 5.54s\n",
      "491:\tlearn: 0.4824389\ttotal: 5.36s\tremaining: 5.53s\n",
      "492:\tlearn: 0.4823815\ttotal: 5.37s\tremaining: 5.52s\n",
      "493:\tlearn: 0.4822749\ttotal: 5.38s\tremaining: 5.51s\n",
      "494:\tlearn: 0.4822033\ttotal: 5.39s\tremaining: 5.5s\n",
      "495:\tlearn: 0.4821195\ttotal: 5.4s\tremaining: 5.49s\n",
      "496:\tlearn: 0.4820463\ttotal: 5.41s\tremaining: 5.47s\n",
      "497:\tlearn: 0.4819560\ttotal: 5.42s\tremaining: 5.46s\n",
      "498:\tlearn: 0.4818811\ttotal: 5.43s\tremaining: 5.45s\n"
     ]
    },
    {
     "name": "stdout",
     "output_type": "stream",
     "text": [
      "499:\tlearn: 0.4818033\ttotal: 5.44s\tremaining: 5.44s\n",
      "500:\tlearn: 0.4817010\ttotal: 5.45s\tremaining: 5.43s\n",
      "501:\tlearn: 0.4816285\ttotal: 5.46s\tremaining: 5.42s\n",
      "502:\tlearn: 0.4815464\ttotal: 5.48s\tremaining: 5.41s\n",
      "503:\tlearn: 0.4814883\ttotal: 5.49s\tremaining: 5.4s\n",
      "504:\tlearn: 0.4814228\ttotal: 5.5s\tremaining: 5.39s\n",
      "505:\tlearn: 0.4813232\ttotal: 5.52s\tremaining: 5.39s\n",
      "506:\tlearn: 0.4812400\ttotal: 5.53s\tremaining: 5.38s\n",
      "507:\tlearn: 0.4811549\ttotal: 5.54s\tremaining: 5.37s\n",
      "508:\tlearn: 0.4811028\ttotal: 5.55s\tremaining: 5.36s\n",
      "509:\tlearn: 0.4810274\ttotal: 5.57s\tremaining: 5.35s\n",
      "510:\tlearn: 0.4809608\ttotal: 5.58s\tremaining: 5.34s\n",
      "511:\tlearn: 0.4808577\ttotal: 5.59s\tremaining: 5.33s\n",
      "512:\tlearn: 0.4807981\ttotal: 5.6s\tremaining: 5.32s\n",
      "513:\tlearn: 0.4807243\ttotal: 5.61s\tremaining: 5.31s\n",
      "514:\tlearn: 0.4806520\ttotal: 5.62s\tremaining: 5.29s\n",
      "515:\tlearn: 0.4805701\ttotal: 5.63s\tremaining: 5.28s\n",
      "516:\tlearn: 0.4805074\ttotal: 5.65s\tremaining: 5.28s\n",
      "517:\tlearn: 0.4804002\ttotal: 5.66s\tremaining: 5.26s\n",
      "518:\tlearn: 0.4803022\ttotal: 5.67s\tremaining: 5.25s\n",
      "519:\tlearn: 0.4802018\ttotal: 5.68s\tremaining: 5.25s\n",
      "520:\tlearn: 0.4801351\ttotal: 5.7s\tremaining: 5.24s\n",
      "521:\tlearn: 0.4800532\ttotal: 5.71s\tremaining: 5.23s\n",
      "522:\tlearn: 0.4799888\ttotal: 5.72s\tremaining: 5.22s\n",
      "523:\tlearn: 0.4799034\ttotal: 5.73s\tremaining: 5.21s\n",
      "524:\tlearn: 0.4798137\ttotal: 5.74s\tremaining: 5.2s\n",
      "525:\tlearn: 0.4797570\ttotal: 5.76s\tremaining: 5.19s\n",
      "526:\tlearn: 0.4796812\ttotal: 5.77s\tremaining: 5.18s\n",
      "527:\tlearn: 0.4795951\ttotal: 5.78s\tremaining: 5.17s\n",
      "528:\tlearn: 0.4794993\ttotal: 5.79s\tremaining: 5.16s\n",
      "529:\tlearn: 0.4793996\ttotal: 5.81s\tremaining: 5.15s\n",
      "530:\tlearn: 0.4793105\ttotal: 5.82s\tremaining: 5.14s\n",
      "531:\tlearn: 0.4792136\ttotal: 5.83s\tremaining: 5.13s\n",
      "532:\tlearn: 0.4791310\ttotal: 5.84s\tremaining: 5.12s\n",
      "533:\tlearn: 0.4790833\ttotal: 5.85s\tremaining: 5.11s\n",
      "534:\tlearn: 0.4789960\ttotal: 5.86s\tremaining: 5.1s\n",
      "535:\tlearn: 0.4789151\ttotal: 5.88s\tremaining: 5.09s\n",
      "536:\tlearn: 0.4788020\ttotal: 5.89s\tremaining: 5.08s\n",
      "537:\tlearn: 0.4787400\ttotal: 5.9s\tremaining: 5.07s\n",
      "538:\tlearn: 0.4786613\ttotal: 5.91s\tremaining: 5.05s\n",
      "539:\tlearn: 0.4785957\ttotal: 5.92s\tremaining: 5.04s\n",
      "540:\tlearn: 0.4785201\ttotal: 5.93s\tremaining: 5.04s\n",
      "541:\tlearn: 0.4784898\ttotal: 5.94s\tremaining: 5.02s\n",
      "542:\tlearn: 0.4784184\ttotal: 5.95s\tremaining: 5.01s\n",
      "543:\tlearn: 0.4783248\ttotal: 5.96s\tremaining: 5s\n",
      "544:\tlearn: 0.4782313\ttotal: 5.97s\tremaining: 4.99s\n",
      "545:\tlearn: 0.4780985\ttotal: 5.99s\tremaining: 4.98s\n",
      "546:\tlearn: 0.4780146\ttotal: 6s\tremaining: 4.97s\n",
      "547:\tlearn: 0.4779748\ttotal: 6.01s\tremaining: 4.96s\n",
      "548:\tlearn: 0.4779134\ttotal: 6.02s\tremaining: 4.95s\n",
      "549:\tlearn: 0.4778128\ttotal: 6.03s\tremaining: 4.93s\n",
      "550:\tlearn: 0.4777122\ttotal: 6.04s\tremaining: 4.92s\n",
      "551:\tlearn: 0.4776427\ttotal: 6.05s\tremaining: 4.91s\n",
      "552:\tlearn: 0.4775713\ttotal: 6.06s\tremaining: 4.9s\n",
      "553:\tlearn: 0.4774956\ttotal: 6.07s\tremaining: 4.89s\n",
      "554:\tlearn: 0.4774054\ttotal: 6.08s\tremaining: 4.88s\n",
      "555:\tlearn: 0.4773103\ttotal: 6.09s\tremaining: 4.87s\n",
      "556:\tlearn: 0.4772572\ttotal: 6.1s\tremaining: 4.85s\n",
      "557:\tlearn: 0.4771857\ttotal: 6.11s\tremaining: 4.84s\n",
      "558:\tlearn: 0.4771193\ttotal: 6.13s\tremaining: 4.83s\n",
      "559:\tlearn: 0.4770454\ttotal: 6.13s\tremaining: 4.82s\n",
      "560:\tlearn: 0.4769460\ttotal: 6.15s\tremaining: 4.81s\n",
      "561:\tlearn: 0.4768365\ttotal: 6.16s\tremaining: 4.8s\n",
      "562:\tlearn: 0.4767741\ttotal: 6.17s\tremaining: 4.79s\n",
      "563:\tlearn: 0.4766593\ttotal: 6.18s\tremaining: 4.78s\n",
      "564:\tlearn: 0.4765717\ttotal: 6.19s\tremaining: 4.76s\n",
      "565:\tlearn: 0.4764705\ttotal: 6.2s\tremaining: 4.75s\n",
      "566:\tlearn: 0.4764181\ttotal: 6.21s\tremaining: 4.74s\n",
      "567:\tlearn: 0.4763609\ttotal: 6.22s\tremaining: 4.73s\n",
      "568:\tlearn: 0.4762952\ttotal: 6.23s\tremaining: 4.72s\n",
      "569:\tlearn: 0.4762218\ttotal: 6.24s\tremaining: 4.71s\n",
      "570:\tlearn: 0.4761357\ttotal: 6.25s\tremaining: 4.69s\n",
      "571:\tlearn: 0.4760404\ttotal: 6.26s\tremaining: 4.68s\n",
      "572:\tlearn: 0.4759840\ttotal: 6.27s\tremaining: 4.67s\n",
      "573:\tlearn: 0.4759354\ttotal: 6.28s\tremaining: 4.66s\n",
      "574:\tlearn: 0.4758578\ttotal: 6.29s\tremaining: 4.64s\n",
      "575:\tlearn: 0.4758016\ttotal: 6.29s\tremaining: 4.63s\n",
      "576:\tlearn: 0.4756801\ttotal: 6.3s\tremaining: 4.62s\n",
      "577:\tlearn: 0.4756216\ttotal: 6.31s\tremaining: 4.61s\n",
      "578:\tlearn: 0.4755220\ttotal: 6.32s\tremaining: 4.6s\n",
      "579:\tlearn: 0.4754562\ttotal: 6.33s\tremaining: 4.58s\n",
      "580:\tlearn: 0.4754023\ttotal: 6.34s\tremaining: 4.57s\n",
      "581:\tlearn: 0.4753262\ttotal: 6.35s\tremaining: 4.56s\n",
      "582:\tlearn: 0.4752535\ttotal: 6.36s\tremaining: 4.55s\n",
      "583:\tlearn: 0.4751854\ttotal: 6.37s\tremaining: 4.54s\n",
      "584:\tlearn: 0.4751444\ttotal: 6.38s\tremaining: 4.53s\n",
      "585:\tlearn: 0.4750883\ttotal: 6.39s\tremaining: 4.52s\n",
      "586:\tlearn: 0.4750504\ttotal: 6.4s\tremaining: 4.5s\n",
      "587:\tlearn: 0.4749623\ttotal: 6.41s\tremaining: 4.49s\n",
      "588:\tlearn: 0.4748854\ttotal: 6.42s\tremaining: 4.48s\n",
      "589:\tlearn: 0.4748316\ttotal: 6.43s\tremaining: 4.47s\n",
      "590:\tlearn: 0.4748047\ttotal: 6.44s\tremaining: 4.46s\n",
      "591:\tlearn: 0.4747322\ttotal: 6.45s\tremaining: 4.44s\n",
      "592:\tlearn: 0.4746476\ttotal: 6.46s\tremaining: 4.43s\n",
      "593:\tlearn: 0.4746059\ttotal: 6.47s\tremaining: 4.42s\n",
      "594:\tlearn: 0.4745489\ttotal: 6.48s\tremaining: 4.41s\n",
      "595:\tlearn: 0.4744333\ttotal: 6.49s\tremaining: 4.4s\n",
      "596:\tlearn: 0.4743657\ttotal: 6.5s\tremaining: 4.38s\n",
      "597:\tlearn: 0.4742722\ttotal: 6.51s\tremaining: 4.37s\n",
      "598:\tlearn: 0.4741766\ttotal: 6.52s\tremaining: 4.36s\n",
      "599:\tlearn: 0.4741155\ttotal: 6.53s\tremaining: 4.35s\n",
      "600:\tlearn: 0.4740699\ttotal: 6.54s\tremaining: 4.34s\n",
      "601:\tlearn: 0.4739883\ttotal: 6.55s\tremaining: 4.33s\n",
      "602:\tlearn: 0.4739062\ttotal: 6.56s\tremaining: 4.32s\n",
      "603:\tlearn: 0.4738231\ttotal: 6.57s\tremaining: 4.31s\n",
      "604:\tlearn: 0.4737647\ttotal: 6.58s\tremaining: 4.29s\n",
      "605:\tlearn: 0.4737000\ttotal: 6.59s\tremaining: 4.28s\n",
      "606:\tlearn: 0.4736188\ttotal: 6.6s\tremaining: 4.27s\n",
      "607:\tlearn: 0.4735373\ttotal: 6.61s\tremaining: 4.26s\n",
      "608:\tlearn: 0.4734500\ttotal: 6.62s\tremaining: 4.25s\n",
      "609:\tlearn: 0.4733597\ttotal: 6.63s\tremaining: 4.24s\n",
      "610:\tlearn: 0.4732852\ttotal: 6.63s\tremaining: 4.22s\n",
      "611:\tlearn: 0.4732293\ttotal: 6.64s\tremaining: 4.21s\n",
      "612:\tlearn: 0.4731657\ttotal: 6.65s\tremaining: 4.2s\n",
      "613:\tlearn: 0.4730709\ttotal: 6.66s\tremaining: 4.19s\n",
      "614:\tlearn: 0.4729915\ttotal: 6.67s\tremaining: 4.18s\n",
      "615:\tlearn: 0.4728992\ttotal: 6.68s\tremaining: 4.17s\n",
      "616:\tlearn: 0.4728143\ttotal: 6.69s\tremaining: 4.16s\n",
      "617:\tlearn: 0.4727322\ttotal: 6.7s\tremaining: 4.14s\n",
      "618:\tlearn: 0.4726787\ttotal: 6.71s\tremaining: 4.13s\n",
      "619:\tlearn: 0.4725881\ttotal: 6.72s\tremaining: 4.12s\n",
      "620:\tlearn: 0.4725022\ttotal: 6.73s\tremaining: 4.11s\n",
      "621:\tlearn: 0.4724427\ttotal: 6.75s\tremaining: 4.1s\n",
      "622:\tlearn: 0.4723725\ttotal: 6.75s\tremaining: 4.09s\n",
      "623:\tlearn: 0.4722796\ttotal: 6.76s\tremaining: 4.08s\n",
      "624:\tlearn: 0.4721993\ttotal: 6.77s\tremaining: 4.06s\n",
      "625:\tlearn: 0.4721369\ttotal: 6.78s\tremaining: 4.05s\n",
      "626:\tlearn: 0.4720524\ttotal: 6.79s\tremaining: 4.04s\n",
      "627:\tlearn: 0.4719989\ttotal: 6.8s\tremaining: 4.03s\n",
      "628:\tlearn: 0.4719371\ttotal: 6.81s\tremaining: 4.02s\n",
      "629:\tlearn: 0.4718730\ttotal: 6.82s\tremaining: 4.01s\n",
      "630:\tlearn: 0.4717837\ttotal: 6.83s\tremaining: 3.99s\n",
      "631:\tlearn: 0.4717007\ttotal: 6.84s\tremaining: 3.98s\n",
      "632:\tlearn: 0.4716286\ttotal: 6.85s\tremaining: 3.97s\n",
      "633:\tlearn: 0.4715717\ttotal: 6.86s\tremaining: 3.96s\n",
      "634:\tlearn: 0.4715132\ttotal: 6.87s\tremaining: 3.95s\n",
      "635:\tlearn: 0.4714786\ttotal: 6.88s\tremaining: 3.94s\n",
      "636:\tlearn: 0.4714109\ttotal: 6.89s\tremaining: 3.93s\n",
      "637:\tlearn: 0.4713673\ttotal: 6.9s\tremaining: 3.92s\n",
      "638:\tlearn: 0.4713177\ttotal: 6.91s\tremaining: 3.9s\n",
      "639:\tlearn: 0.4712735\ttotal: 6.92s\tremaining: 3.89s\n",
      "640:\tlearn: 0.4712014\ttotal: 6.93s\tremaining: 3.88s\n",
      "641:\tlearn: 0.4711218\ttotal: 6.94s\tremaining: 3.87s\n",
      "642:\tlearn: 0.4710290\ttotal: 6.95s\tremaining: 3.86s\n",
      "643:\tlearn: 0.4709293\ttotal: 6.96s\tremaining: 3.85s\n",
      "644:\tlearn: 0.4708652\ttotal: 6.97s\tremaining: 3.84s\n",
      "645:\tlearn: 0.4707934\ttotal: 6.98s\tremaining: 3.82s\n",
      "646:\tlearn: 0.4707086\ttotal: 6.99s\tremaining: 3.81s\n",
      "647:\tlearn: 0.4706286\ttotal: 7s\tremaining: 3.8s\n",
      "648:\tlearn: 0.4705648\ttotal: 7.01s\tremaining: 3.79s\n",
      "649:\tlearn: 0.4705040\ttotal: 7.02s\tremaining: 3.78s\n",
      "650:\tlearn: 0.4703915\ttotal: 7.03s\tremaining: 3.77s\n",
      "651:\tlearn: 0.4702914\ttotal: 7.04s\tremaining: 3.76s\n",
      "652:\tlearn: 0.4702195\ttotal: 7.05s\tremaining: 3.75s\n",
      "653:\tlearn: 0.4701248\ttotal: 7.06s\tremaining: 3.74s\n",
      "654:\tlearn: 0.4700568\ttotal: 7.07s\tremaining: 3.73s\n",
      "655:\tlearn: 0.4699825\ttotal: 7.08s\tremaining: 3.71s\n",
      "656:\tlearn: 0.4698776\ttotal: 7.09s\tremaining: 3.7s\n",
      "657:\tlearn: 0.4697776\ttotal: 7.11s\tremaining: 3.69s\n",
      "658:\tlearn: 0.4697296\ttotal: 7.11s\tremaining: 3.68s\n",
      "659:\tlearn: 0.4696718\ttotal: 7.12s\tremaining: 3.67s\n",
      "660:\tlearn: 0.4696084\ttotal: 7.13s\tremaining: 3.66s\n",
      "661:\tlearn: 0.4695261\ttotal: 7.14s\tremaining: 3.65s\n",
      "662:\tlearn: 0.4694623\ttotal: 7.15s\tremaining: 3.64s\n",
      "663:\tlearn: 0.4693773\ttotal: 7.16s\tremaining: 3.62s\n",
      "664:\tlearn: 0.4693041\ttotal: 7.17s\tremaining: 3.61s\n",
      "665:\tlearn: 0.4692375\ttotal: 7.18s\tremaining: 3.6s\n",
      "666:\tlearn: 0.4691582\ttotal: 7.19s\tremaining: 3.59s\n",
      "667:\tlearn: 0.4690803\ttotal: 7.2s\tremaining: 3.58s\n",
      "668:\tlearn: 0.4690051\ttotal: 7.21s\tremaining: 3.57s\n",
      "669:\tlearn: 0.4688827\ttotal: 7.22s\tremaining: 3.56s\n"
     ]
    },
    {
     "name": "stdout",
     "output_type": "stream",
     "text": [
      "670:\tlearn: 0.4688144\ttotal: 7.23s\tremaining: 3.54s\n",
      "671:\tlearn: 0.4687814\ttotal: 7.24s\tremaining: 3.53s\n",
      "672:\tlearn: 0.4687320\ttotal: 7.26s\tremaining: 3.53s\n",
      "673:\tlearn: 0.4686309\ttotal: 7.27s\tremaining: 3.52s\n",
      "674:\tlearn: 0.4685625\ttotal: 7.28s\tremaining: 3.5s\n",
      "675:\tlearn: 0.4685159\ttotal: 7.29s\tremaining: 3.49s\n",
      "676:\tlearn: 0.4684662\ttotal: 7.3s\tremaining: 3.48s\n",
      "677:\tlearn: 0.4683942\ttotal: 7.31s\tremaining: 3.47s\n",
      "678:\tlearn: 0.4682967\ttotal: 7.32s\tremaining: 3.46s\n",
      "679:\tlearn: 0.4682153\ttotal: 7.33s\tremaining: 3.45s\n",
      "680:\tlearn: 0.4681621\ttotal: 7.34s\tremaining: 3.44s\n",
      "681:\tlearn: 0.4680667\ttotal: 7.34s\tremaining: 3.42s\n",
      "682:\tlearn: 0.4679967\ttotal: 7.36s\tremaining: 3.41s\n",
      "683:\tlearn: 0.4679106\ttotal: 7.37s\tremaining: 3.4s\n",
      "684:\tlearn: 0.4678372\ttotal: 7.38s\tremaining: 3.39s\n",
      "685:\tlearn: 0.4677821\ttotal: 7.38s\tremaining: 3.38s\n",
      "686:\tlearn: 0.4676876\ttotal: 7.39s\tremaining: 3.37s\n",
      "687:\tlearn: 0.4676217\ttotal: 7.4s\tremaining: 3.36s\n",
      "688:\tlearn: 0.4675731\ttotal: 7.42s\tremaining: 3.35s\n",
      "689:\tlearn: 0.4675000\ttotal: 7.43s\tremaining: 3.34s\n",
      "690:\tlearn: 0.4674589\ttotal: 7.44s\tremaining: 3.33s\n",
      "691:\tlearn: 0.4673977\ttotal: 7.45s\tremaining: 3.31s\n",
      "692:\tlearn: 0.4673547\ttotal: 7.46s\tremaining: 3.3s\n",
      "693:\tlearn: 0.4673068\ttotal: 7.47s\tremaining: 3.29s\n",
      "694:\tlearn: 0.4672507\ttotal: 7.48s\tremaining: 3.28s\n",
      "695:\tlearn: 0.4671842\ttotal: 7.49s\tremaining: 3.27s\n",
      "696:\tlearn: 0.4671218\ttotal: 7.5s\tremaining: 3.26s\n",
      "697:\tlearn: 0.4670565\ttotal: 7.51s\tremaining: 3.25s\n",
      "698:\tlearn: 0.4669953\ttotal: 7.52s\tremaining: 3.24s\n",
      "699:\tlearn: 0.4668854\ttotal: 7.53s\tremaining: 3.23s\n",
      "700:\tlearn: 0.4668067\ttotal: 7.54s\tremaining: 3.21s\n",
      "701:\tlearn: 0.4667418\ttotal: 7.55s\tremaining: 3.2s\n",
      "702:\tlearn: 0.4666712\ttotal: 7.56s\tremaining: 3.19s\n",
      "703:\tlearn: 0.4666142\ttotal: 7.57s\tremaining: 3.18s\n",
      "704:\tlearn: 0.4665633\ttotal: 7.58s\tremaining: 3.17s\n",
      "705:\tlearn: 0.4665125\ttotal: 7.59s\tremaining: 3.16s\n",
      "706:\tlearn: 0.4664556\ttotal: 7.6s\tremaining: 3.15s\n",
      "707:\tlearn: 0.4663554\ttotal: 7.61s\tremaining: 3.14s\n",
      "708:\tlearn: 0.4662761\ttotal: 7.63s\tremaining: 3.13s\n",
      "709:\tlearn: 0.4662135\ttotal: 7.64s\tremaining: 3.12s\n",
      "710:\tlearn: 0.4661750\ttotal: 7.65s\tremaining: 3.11s\n",
      "711:\tlearn: 0.4661053\ttotal: 7.66s\tremaining: 3.1s\n",
      "712:\tlearn: 0.4660496\ttotal: 7.67s\tremaining: 3.09s\n",
      "713:\tlearn: 0.4659562\ttotal: 7.68s\tremaining: 3.08s\n",
      "714:\tlearn: 0.4658555\ttotal: 7.69s\tremaining: 3.06s\n",
      "715:\tlearn: 0.4658221\ttotal: 7.7s\tremaining: 3.05s\n",
      "716:\tlearn: 0.4657417\ttotal: 7.71s\tremaining: 3.04s\n",
      "717:\tlearn: 0.4656604\ttotal: 7.72s\tremaining: 3.03s\n",
      "718:\tlearn: 0.4655899\ttotal: 7.73s\tremaining: 3.02s\n",
      "719:\tlearn: 0.4655427\ttotal: 7.74s\tremaining: 3.01s\n",
      "720:\tlearn: 0.4654610\ttotal: 7.75s\tremaining: 3s\n",
      "721:\tlearn: 0.4653924\ttotal: 7.75s\tremaining: 2.99s\n",
      "722:\tlearn: 0.4653588\ttotal: 7.76s\tremaining: 2.98s\n",
      "723:\tlearn: 0.4652929\ttotal: 7.78s\tremaining: 2.96s\n",
      "724:\tlearn: 0.4651929\ttotal: 7.79s\tremaining: 2.95s\n",
      "725:\tlearn: 0.4651372\ttotal: 7.8s\tremaining: 2.94s\n",
      "726:\tlearn: 0.4650827\ttotal: 7.81s\tremaining: 2.93s\n",
      "727:\tlearn: 0.4650054\ttotal: 7.82s\tremaining: 2.92s\n",
      "728:\tlearn: 0.4649421\ttotal: 7.83s\tremaining: 2.91s\n",
      "729:\tlearn: 0.4648698\ttotal: 7.84s\tremaining: 2.9s\n",
      "730:\tlearn: 0.4647961\ttotal: 7.85s\tremaining: 2.89s\n",
      "731:\tlearn: 0.4647147\ttotal: 7.86s\tremaining: 2.88s\n",
      "732:\tlearn: 0.4646463\ttotal: 7.87s\tremaining: 2.87s\n",
      "733:\tlearn: 0.4645821\ttotal: 7.88s\tremaining: 2.85s\n",
      "734:\tlearn: 0.4645141\ttotal: 7.89s\tremaining: 2.84s\n",
      "735:\tlearn: 0.4644251\ttotal: 7.89s\tremaining: 2.83s\n",
      "736:\tlearn: 0.4643615\ttotal: 7.91s\tremaining: 2.82s\n",
      "737:\tlearn: 0.4642845\ttotal: 7.92s\tremaining: 2.81s\n",
      "738:\tlearn: 0.4641862\ttotal: 7.93s\tremaining: 2.8s\n",
      "739:\tlearn: 0.4641250\ttotal: 7.94s\tremaining: 2.79s\n",
      "740:\tlearn: 0.4640638\ttotal: 7.95s\tremaining: 2.78s\n",
      "741:\tlearn: 0.4639898\ttotal: 7.96s\tremaining: 2.77s\n",
      "742:\tlearn: 0.4638921\ttotal: 7.97s\tremaining: 2.76s\n",
      "743:\tlearn: 0.4638158\ttotal: 7.98s\tremaining: 2.75s\n",
      "744:\tlearn: 0.4637269\ttotal: 7.99s\tremaining: 2.74s\n",
      "745:\tlearn: 0.4636503\ttotal: 8s\tremaining: 2.73s\n",
      "746:\tlearn: 0.4635932\ttotal: 8.02s\tremaining: 2.71s\n",
      "747:\tlearn: 0.4635339\ttotal: 8.03s\tremaining: 2.7s\n",
      "748:\tlearn: 0.4634872\ttotal: 8.04s\tremaining: 2.69s\n",
      "749:\tlearn: 0.4633951\ttotal: 8.05s\tremaining: 2.68s\n",
      "750:\tlearn: 0.4633265\ttotal: 8.06s\tremaining: 2.67s\n",
      "751:\tlearn: 0.4632671\ttotal: 8.07s\tremaining: 2.66s\n",
      "752:\tlearn: 0.4631779\ttotal: 8.08s\tremaining: 2.65s\n",
      "753:\tlearn: 0.4631352\ttotal: 8.09s\tremaining: 2.64s\n",
      "754:\tlearn: 0.4630687\ttotal: 8.1s\tremaining: 2.63s\n",
      "755:\tlearn: 0.4629937\ttotal: 8.11s\tremaining: 2.62s\n",
      "756:\tlearn: 0.4629173\ttotal: 8.12s\tremaining: 2.61s\n",
      "757:\tlearn: 0.4628408\ttotal: 8.13s\tremaining: 2.6s\n",
      "758:\tlearn: 0.4627648\ttotal: 8.14s\tremaining: 2.58s\n",
      "759:\tlearn: 0.4627198\ttotal: 8.15s\tremaining: 2.57s\n",
      "760:\tlearn: 0.4626339\ttotal: 8.16s\tremaining: 2.56s\n",
      "761:\tlearn: 0.4625635\ttotal: 8.17s\tremaining: 2.55s\n",
      "762:\tlearn: 0.4625203\ttotal: 8.19s\tremaining: 2.54s\n",
      "763:\tlearn: 0.4624205\ttotal: 8.2s\tremaining: 2.53s\n",
      "764:\tlearn: 0.4623593\ttotal: 8.2s\tremaining: 2.52s\n",
      "765:\tlearn: 0.4622730\ttotal: 8.21s\tremaining: 2.51s\n",
      "766:\tlearn: 0.4622013\ttotal: 8.22s\tremaining: 2.5s\n",
      "767:\tlearn: 0.4621419\ttotal: 8.24s\tremaining: 2.49s\n",
      "768:\tlearn: 0.4620478\ttotal: 8.25s\tremaining: 2.48s\n",
      "769:\tlearn: 0.4619863\ttotal: 8.26s\tremaining: 2.47s\n",
      "770:\tlearn: 0.4619162\ttotal: 8.27s\tremaining: 2.46s\n",
      "771:\tlearn: 0.4618190\ttotal: 8.28s\tremaining: 2.45s\n",
      "772:\tlearn: 0.4617488\ttotal: 8.3s\tremaining: 2.44s\n",
      "773:\tlearn: 0.4616844\ttotal: 8.31s\tremaining: 2.42s\n",
      "774:\tlearn: 0.4616057\ttotal: 8.32s\tremaining: 2.41s\n",
      "775:\tlearn: 0.4615370\ttotal: 8.33s\tremaining: 2.4s\n",
      "776:\tlearn: 0.4614704\ttotal: 8.34s\tremaining: 2.39s\n",
      "777:\tlearn: 0.4613911\ttotal: 8.35s\tremaining: 2.38s\n",
      "778:\tlearn: 0.4612985\ttotal: 8.37s\tremaining: 2.37s\n",
      "779:\tlearn: 0.4612323\ttotal: 8.38s\tremaining: 2.36s\n",
      "780:\tlearn: 0.4611338\ttotal: 8.39s\tremaining: 2.35s\n",
      "781:\tlearn: 0.4610797\ttotal: 8.4s\tremaining: 2.34s\n",
      "782:\tlearn: 0.4610103\ttotal: 8.41s\tremaining: 2.33s\n",
      "783:\tlearn: 0.4609013\ttotal: 8.43s\tremaining: 2.32s\n",
      "784:\tlearn: 0.4608067\ttotal: 8.44s\tremaining: 2.31s\n",
      "785:\tlearn: 0.4607542\ttotal: 8.45s\tremaining: 2.3s\n",
      "786:\tlearn: 0.4607133\ttotal: 8.46s\tremaining: 2.29s\n",
      "787:\tlearn: 0.4606164\ttotal: 8.47s\tremaining: 2.28s\n",
      "788:\tlearn: 0.4605540\ttotal: 8.49s\tremaining: 2.27s\n",
      "789:\tlearn: 0.4604863\ttotal: 8.5s\tremaining: 2.26s\n",
      "790:\tlearn: 0.4604407\ttotal: 8.51s\tremaining: 2.25s\n",
      "791:\tlearn: 0.4603939\ttotal: 8.52s\tremaining: 2.24s\n",
      "792:\tlearn: 0.4603491\ttotal: 8.53s\tremaining: 2.23s\n",
      "793:\tlearn: 0.4602998\ttotal: 8.54s\tremaining: 2.22s\n",
      "794:\tlearn: 0.4602428\ttotal: 8.55s\tremaining: 2.21s\n",
      "795:\tlearn: 0.4601824\ttotal: 8.57s\tremaining: 2.19s\n",
      "796:\tlearn: 0.4601174\ttotal: 8.58s\tremaining: 2.18s\n",
      "797:\tlearn: 0.4600700\ttotal: 8.59s\tremaining: 2.17s\n",
      "798:\tlearn: 0.4600143\ttotal: 8.6s\tremaining: 2.16s\n",
      "799:\tlearn: 0.4599405\ttotal: 8.61s\tremaining: 2.15s\n",
      "800:\tlearn: 0.4598828\ttotal: 8.63s\tremaining: 2.14s\n",
      "801:\tlearn: 0.4598033\ttotal: 8.64s\tremaining: 2.13s\n",
      "802:\tlearn: 0.4597455\ttotal: 8.65s\tremaining: 2.12s\n",
      "803:\tlearn: 0.4596629\ttotal: 8.66s\tremaining: 2.11s\n",
      "804:\tlearn: 0.4595791\ttotal: 8.68s\tremaining: 2.1s\n",
      "805:\tlearn: 0.4595097\ttotal: 8.69s\tremaining: 2.09s\n",
      "806:\tlearn: 0.4594665\ttotal: 8.7s\tremaining: 2.08s\n",
      "807:\tlearn: 0.4594282\ttotal: 8.71s\tremaining: 2.07s\n",
      "808:\tlearn: 0.4593749\ttotal: 8.73s\tremaining: 2.06s\n",
      "809:\tlearn: 0.4593129\ttotal: 8.74s\tremaining: 2.05s\n",
      "810:\tlearn: 0.4592516\ttotal: 8.75s\tremaining: 2.04s\n",
      "811:\tlearn: 0.4591681\ttotal: 8.76s\tremaining: 2.03s\n",
      "812:\tlearn: 0.4591206\ttotal: 8.77s\tremaining: 2.02s\n",
      "813:\tlearn: 0.4590616\ttotal: 8.78s\tremaining: 2.01s\n",
      "814:\tlearn: 0.4589787\ttotal: 8.79s\tremaining: 2s\n",
      "815:\tlearn: 0.4589019\ttotal: 8.81s\tremaining: 1.99s\n",
      "816:\tlearn: 0.4588313\ttotal: 8.82s\tremaining: 1.98s\n",
      "817:\tlearn: 0.4587830\ttotal: 8.83s\tremaining: 1.97s\n",
      "818:\tlearn: 0.4587048\ttotal: 8.85s\tremaining: 1.96s\n",
      "819:\tlearn: 0.4586471\ttotal: 8.86s\tremaining: 1.94s\n",
      "820:\tlearn: 0.4586026\ttotal: 8.87s\tremaining: 1.93s\n",
      "821:\tlearn: 0.4585426\ttotal: 8.88s\tremaining: 1.92s\n",
      "822:\tlearn: 0.4584981\ttotal: 8.89s\tremaining: 1.91s\n",
      "823:\tlearn: 0.4583955\ttotal: 8.91s\tremaining: 1.9s\n",
      "824:\tlearn: 0.4583114\ttotal: 8.92s\tremaining: 1.89s\n",
      "825:\tlearn: 0.4582400\ttotal: 8.93s\tremaining: 1.88s\n",
      "826:\tlearn: 0.4581838\ttotal: 8.94s\tremaining: 1.87s\n",
      "827:\tlearn: 0.4581310\ttotal: 8.95s\tremaining: 1.86s\n",
      "828:\tlearn: 0.4580620\ttotal: 8.96s\tremaining: 1.85s\n",
      "829:\tlearn: 0.4580054\ttotal: 8.98s\tremaining: 1.84s\n",
      "830:\tlearn: 0.4579495\ttotal: 8.99s\tremaining: 1.83s\n",
      "831:\tlearn: 0.4578914\ttotal: 9s\tremaining: 1.82s\n",
      "832:\tlearn: 0.4578299\ttotal: 9.01s\tremaining: 1.81s\n",
      "833:\tlearn: 0.4577458\ttotal: 9.03s\tremaining: 1.8s\n",
      "834:\tlearn: 0.4577199\ttotal: 9.04s\tremaining: 1.78s\n",
      "835:\tlearn: 0.4576493\ttotal: 9.05s\tremaining: 1.78s\n",
      "836:\tlearn: 0.4575953\ttotal: 9.07s\tremaining: 1.77s\n",
      "837:\tlearn: 0.4575260\ttotal: 9.08s\tremaining: 1.75s\n",
      "838:\tlearn: 0.4574639\ttotal: 9.09s\tremaining: 1.74s\n",
      "839:\tlearn: 0.4574051\ttotal: 9.1s\tremaining: 1.73s\n"
     ]
    },
    {
     "name": "stdout",
     "output_type": "stream",
     "text": [
      "840:\tlearn: 0.4573421\ttotal: 9.12s\tremaining: 1.72s\n",
      "841:\tlearn: 0.4572753\ttotal: 9.13s\tremaining: 1.71s\n",
      "842:\tlearn: 0.4572211\ttotal: 9.14s\tremaining: 1.7s\n",
      "843:\tlearn: 0.4571749\ttotal: 9.15s\tremaining: 1.69s\n",
      "844:\tlearn: 0.4571251\ttotal: 9.16s\tremaining: 1.68s\n",
      "845:\tlearn: 0.4570610\ttotal: 9.18s\tremaining: 1.67s\n",
      "846:\tlearn: 0.4569997\ttotal: 9.19s\tremaining: 1.66s\n",
      "847:\tlearn: 0.4569007\ttotal: 9.2s\tremaining: 1.65s\n",
      "848:\tlearn: 0.4568613\ttotal: 9.21s\tremaining: 1.64s\n",
      "849:\tlearn: 0.4567628\ttotal: 9.22s\tremaining: 1.63s\n",
      "850:\tlearn: 0.4567186\ttotal: 9.23s\tremaining: 1.62s\n",
      "851:\tlearn: 0.4566470\ttotal: 9.24s\tremaining: 1.6s\n",
      "852:\tlearn: 0.4565850\ttotal: 9.25s\tremaining: 1.59s\n",
      "853:\tlearn: 0.4565193\ttotal: 9.26s\tremaining: 1.58s\n",
      "854:\tlearn: 0.4564809\ttotal: 9.27s\tremaining: 1.57s\n",
      "855:\tlearn: 0.4564207\ttotal: 9.28s\tremaining: 1.56s\n",
      "856:\tlearn: 0.4563810\ttotal: 9.29s\tremaining: 1.55s\n",
      "857:\tlearn: 0.4563284\ttotal: 9.3s\tremaining: 1.54s\n",
      "858:\tlearn: 0.4562629\ttotal: 9.32s\tremaining: 1.53s\n",
      "859:\tlearn: 0.4561875\ttotal: 9.33s\tremaining: 1.52s\n",
      "860:\tlearn: 0.4561188\ttotal: 9.34s\tremaining: 1.51s\n",
      "861:\tlearn: 0.4560760\ttotal: 9.36s\tremaining: 1.5s\n",
      "862:\tlearn: 0.4560222\ttotal: 9.37s\tremaining: 1.49s\n",
      "863:\tlearn: 0.4559606\ttotal: 9.38s\tremaining: 1.48s\n",
      "864:\tlearn: 0.4558935\ttotal: 9.39s\tremaining: 1.47s\n",
      "865:\tlearn: 0.4558016\ttotal: 9.4s\tremaining: 1.45s\n",
      "866:\tlearn: 0.4557209\ttotal: 9.41s\tremaining: 1.44s\n",
      "867:\tlearn: 0.4556898\ttotal: 9.42s\tremaining: 1.43s\n",
      "868:\tlearn: 0.4556517\ttotal: 9.43s\tremaining: 1.42s\n",
      "869:\tlearn: 0.4555771\ttotal: 9.45s\tremaining: 1.41s\n",
      "870:\tlearn: 0.4554876\ttotal: 9.46s\tremaining: 1.4s\n",
      "871:\tlearn: 0.4554174\ttotal: 9.46s\tremaining: 1.39s\n",
      "872:\tlearn: 0.4553822\ttotal: 9.47s\tremaining: 1.38s\n",
      "873:\tlearn: 0.4553334\ttotal: 9.48s\tremaining: 1.37s\n",
      "874:\tlearn: 0.4552650\ttotal: 9.5s\tremaining: 1.36s\n",
      "875:\tlearn: 0.4551971\ttotal: 9.51s\tremaining: 1.34s\n",
      "876:\tlearn: 0.4551380\ttotal: 9.52s\tremaining: 1.33s\n",
      "877:\tlearn: 0.4550676\ttotal: 9.53s\tremaining: 1.32s\n",
      "878:\tlearn: 0.4549973\ttotal: 9.53s\tremaining: 1.31s\n",
      "879:\tlearn: 0.4549462\ttotal: 9.54s\tremaining: 1.3s\n",
      "880:\tlearn: 0.4548637\ttotal: 9.55s\tremaining: 1.29s\n",
      "881:\tlearn: 0.4548089\ttotal: 9.56s\tremaining: 1.28s\n",
      "882:\tlearn: 0.4547408\ttotal: 9.57s\tremaining: 1.27s\n",
      "883:\tlearn: 0.4546687\ttotal: 9.58s\tremaining: 1.26s\n",
      "884:\tlearn: 0.4545671\ttotal: 9.59s\tremaining: 1.25s\n",
      "885:\tlearn: 0.4544809\ttotal: 9.6s\tremaining: 1.24s\n",
      "886:\tlearn: 0.4544322\ttotal: 9.62s\tremaining: 1.22s\n",
      "887:\tlearn: 0.4543817\ttotal: 9.63s\tremaining: 1.21s\n",
      "888:\tlearn: 0.4543270\ttotal: 9.64s\tremaining: 1.2s\n",
      "889:\tlearn: 0.4542497\ttotal: 9.65s\tremaining: 1.19s\n",
      "890:\tlearn: 0.4542101\ttotal: 9.66s\tremaining: 1.18s\n",
      "891:\tlearn: 0.4541657\ttotal: 9.67s\tremaining: 1.17s\n",
      "892:\tlearn: 0.4540919\ttotal: 9.68s\tremaining: 1.16s\n",
      "893:\tlearn: 0.4540310\ttotal: 9.69s\tremaining: 1.15s\n",
      "894:\tlearn: 0.4539698\ttotal: 9.7s\tremaining: 1.14s\n",
      "895:\tlearn: 0.4539040\ttotal: 9.71s\tremaining: 1.13s\n",
      "896:\tlearn: 0.4538586\ttotal: 9.72s\tremaining: 1.12s\n",
      "897:\tlearn: 0.4537651\ttotal: 9.74s\tremaining: 1.11s\n",
      "898:\tlearn: 0.4537197\ttotal: 9.75s\tremaining: 1.09s\n",
      "899:\tlearn: 0.4536710\ttotal: 9.76s\tremaining: 1.08s\n",
      "900:\tlearn: 0.4536275\ttotal: 9.77s\tremaining: 1.07s\n",
      "901:\tlearn: 0.4535466\ttotal: 9.78s\tremaining: 1.06s\n",
      "902:\tlearn: 0.4534728\ttotal: 9.79s\tremaining: 1.05s\n",
      "903:\tlearn: 0.4534031\ttotal: 9.8s\tremaining: 1.04s\n",
      "904:\tlearn: 0.4533611\ttotal: 9.81s\tremaining: 1.03s\n",
      "905:\tlearn: 0.4533278\ttotal: 9.82s\tremaining: 1.02s\n",
      "906:\tlearn: 0.4532711\ttotal: 9.83s\tremaining: 1.01s\n",
      "907:\tlearn: 0.4531798\ttotal: 9.84s\tremaining: 997ms\n",
      "908:\tlearn: 0.4531209\ttotal: 9.85s\tremaining: 986ms\n",
      "909:\tlearn: 0.4530597\ttotal: 9.86s\tremaining: 975ms\n",
      "910:\tlearn: 0.4529764\ttotal: 9.87s\tremaining: 964ms\n",
      "911:\tlearn: 0.4529195\ttotal: 9.88s\tremaining: 953ms\n",
      "912:\tlearn: 0.4528944\ttotal: 9.89s\tremaining: 942ms\n",
      "913:\tlearn: 0.4528301\ttotal: 9.9s\tremaining: 931ms\n",
      "914:\tlearn: 0.4527303\ttotal: 9.91s\tremaining: 920ms\n",
      "915:\tlearn: 0.4526914\ttotal: 9.92s\tremaining: 909ms\n",
      "916:\tlearn: 0.4526547\ttotal: 9.93s\tremaining: 898ms\n",
      "917:\tlearn: 0.4526118\ttotal: 9.94s\tremaining: 888ms\n",
      "918:\tlearn: 0.4525410\ttotal: 9.95s\tremaining: 877ms\n",
      "919:\tlearn: 0.4525027\ttotal: 9.96s\tremaining: 866ms\n",
      "920:\tlearn: 0.4524405\ttotal: 9.97s\tremaining: 855ms\n",
      "921:\tlearn: 0.4523970\ttotal: 9.97s\tremaining: 844ms\n",
      "922:\tlearn: 0.4523018\ttotal: 9.98s\tremaining: 833ms\n",
      "923:\tlearn: 0.4522624\ttotal: 9.99s\tremaining: 822ms\n",
      "924:\tlearn: 0.4521795\ttotal: 10s\tremaining: 811ms\n",
      "925:\tlearn: 0.4521299\ttotal: 10s\tremaining: 801ms\n",
      "926:\tlearn: 0.4520322\ttotal: 10s\tremaining: 790ms\n",
      "927:\tlearn: 0.4519777\ttotal: 10s\tremaining: 779ms\n",
      "928:\tlearn: 0.4519271\ttotal: 10s\tremaining: 768ms\n",
      "929:\tlearn: 0.4518397\ttotal: 10.1s\tremaining: 757ms\n",
      "930:\tlearn: 0.4517981\ttotal: 10.1s\tremaining: 746ms\n",
      "931:\tlearn: 0.4517608\ttotal: 10.1s\tremaining: 735ms\n",
      "932:\tlearn: 0.4517149\ttotal: 10.1s\tremaining: 724ms\n",
      "933:\tlearn: 0.4516412\ttotal: 10.1s\tremaining: 714ms\n",
      "934:\tlearn: 0.4515559\ttotal: 10.1s\tremaining: 703ms\n",
      "935:\tlearn: 0.4514678\ttotal: 10.1s\tremaining: 692ms\n",
      "936:\tlearn: 0.4514010\ttotal: 10.1s\tremaining: 681ms\n",
      "937:\tlearn: 0.4513324\ttotal: 10.1s\tremaining: 670ms\n",
      "938:\tlearn: 0.4513029\ttotal: 10.2s\tremaining: 659ms\n",
      "939:\tlearn: 0.4512519\ttotal: 10.2s\tremaining: 649ms\n",
      "940:\tlearn: 0.4511994\ttotal: 10.2s\tremaining: 638ms\n",
      "941:\tlearn: 0.4511548\ttotal: 10.2s\tremaining: 627ms\n",
      "942:\tlearn: 0.4510801\ttotal: 10.2s\tremaining: 616ms\n",
      "943:\tlearn: 0.4509952\ttotal: 10.2s\tremaining: 605ms\n",
      "944:\tlearn: 0.4509123\ttotal: 10.2s\tremaining: 594ms\n",
      "945:\tlearn: 0.4508313\ttotal: 10.2s\tremaining: 584ms\n",
      "946:\tlearn: 0.4507828\ttotal: 10.2s\tremaining: 573ms\n",
      "947:\tlearn: 0.4507457\ttotal: 10.2s\tremaining: 562ms\n",
      "948:\tlearn: 0.4506898\ttotal: 10.3s\tremaining: 551ms\n",
      "949:\tlearn: 0.4506568\ttotal: 10.3s\tremaining: 540ms\n",
      "950:\tlearn: 0.4506083\ttotal: 10.3s\tremaining: 529ms\n",
      "951:\tlearn: 0.4505487\ttotal: 10.3s\tremaining: 519ms\n",
      "952:\tlearn: 0.4504942\ttotal: 10.3s\tremaining: 508ms\n",
      "953:\tlearn: 0.4504349\ttotal: 10.3s\tremaining: 497ms\n",
      "954:\tlearn: 0.4503610\ttotal: 10.3s\tremaining: 486ms\n",
      "955:\tlearn: 0.4503058\ttotal: 10.3s\tremaining: 475ms\n",
      "956:\tlearn: 0.4502225\ttotal: 10.3s\tremaining: 465ms\n",
      "957:\tlearn: 0.4501396\ttotal: 10.3s\tremaining: 454ms\n",
      "958:\tlearn: 0.4500696\ttotal: 10.4s\tremaining: 443ms\n",
      "959:\tlearn: 0.4500151\ttotal: 10.4s\tremaining: 432ms\n",
      "960:\tlearn: 0.4499638\ttotal: 10.4s\tremaining: 421ms\n",
      "961:\tlearn: 0.4499009\ttotal: 10.4s\tremaining: 411ms\n",
      "962:\tlearn: 0.4498736\ttotal: 10.4s\tremaining: 400ms\n",
      "963:\tlearn: 0.4498400\ttotal: 10.4s\tremaining: 389ms\n",
      "964:\tlearn: 0.4497637\ttotal: 10.4s\tremaining: 378ms\n",
      "965:\tlearn: 0.4496914\ttotal: 10.4s\tremaining: 367ms\n",
      "966:\tlearn: 0.4496406\ttotal: 10.4s\tremaining: 356ms\n",
      "967:\tlearn: 0.4495924\ttotal: 10.5s\tremaining: 346ms\n",
      "968:\tlearn: 0.4495330\ttotal: 10.5s\tremaining: 335ms\n",
      "969:\tlearn: 0.4494898\ttotal: 10.5s\tremaining: 324ms\n",
      "970:\tlearn: 0.4494380\ttotal: 10.5s\tremaining: 313ms\n",
      "971:\tlearn: 0.4493670\ttotal: 10.5s\tremaining: 302ms\n",
      "972:\tlearn: 0.4492954\ttotal: 10.5s\tremaining: 292ms\n",
      "973:\tlearn: 0.4492511\ttotal: 10.5s\tremaining: 281ms\n",
      "974:\tlearn: 0.4491806\ttotal: 10.5s\tremaining: 270ms\n",
      "975:\tlearn: 0.4490990\ttotal: 10.5s\tremaining: 259ms\n",
      "976:\tlearn: 0.4490615\ttotal: 10.5s\tremaining: 248ms\n",
      "977:\tlearn: 0.4490149\ttotal: 10.6s\tremaining: 237ms\n",
      "978:\tlearn: 0.4489516\ttotal: 10.6s\tremaining: 227ms\n",
      "979:\tlearn: 0.4488954\ttotal: 10.6s\tremaining: 216ms\n",
      "980:\tlearn: 0.4488213\ttotal: 10.6s\tremaining: 205ms\n",
      "981:\tlearn: 0.4487700\ttotal: 10.6s\tremaining: 194ms\n",
      "982:\tlearn: 0.4487036\ttotal: 10.6s\tremaining: 183ms\n",
      "983:\tlearn: 0.4486205\ttotal: 10.6s\tremaining: 173ms\n",
      "984:\tlearn: 0.4485377\ttotal: 10.6s\tremaining: 162ms\n",
      "985:\tlearn: 0.4484820\ttotal: 10.6s\tremaining: 151ms\n",
      "986:\tlearn: 0.4484211\ttotal: 10.6s\tremaining: 140ms\n",
      "987:\tlearn: 0.4483490\ttotal: 10.7s\tremaining: 129ms\n",
      "988:\tlearn: 0.4482857\ttotal: 10.7s\tremaining: 119ms\n",
      "989:\tlearn: 0.4482221\ttotal: 10.7s\tremaining: 108ms\n",
      "990:\tlearn: 0.4481474\ttotal: 10.7s\tremaining: 97.1ms\n",
      "991:\tlearn: 0.4481151\ttotal: 10.7s\tremaining: 86.3ms\n",
      "992:\tlearn: 0.4480458\ttotal: 10.7s\tremaining: 75.5ms\n",
      "993:\tlearn: 0.4480026\ttotal: 10.7s\tremaining: 64.7ms\n",
      "994:\tlearn: 0.4478943\ttotal: 10.7s\tremaining: 53.9ms\n",
      "995:\tlearn: 0.4478351\ttotal: 10.7s\tremaining: 43.1ms\n",
      "996:\tlearn: 0.4477646\ttotal: 10.8s\tremaining: 32.4ms\n",
      "997:\tlearn: 0.4477269\ttotal: 10.8s\tremaining: 21.6ms\n",
      "998:\tlearn: 0.4476671\ttotal: 10.8s\tremaining: 10.8ms\n",
      "999:\tlearn: 0.4476232\ttotal: 10.8s\tremaining: 0us\n"
     ]
    },
    {
     "data": {
      "text/plain": [
       "<catboost.core.CatBoostClassifier at 0x1bd27c39b48>"
      ]
     },
     "execution_count": 877,
     "metadata": {},
     "output_type": "execute_result"
    }
   ],
   "source": [
    "ctb = CatBoostClassifier()\n",
    "ctb.fit(X_train, y_train)\n"
   ]
  },
  {
   "cell_type": "code",
   "execution_count": 878,
   "metadata": {},
   "outputs": [
    {
     "data": {
      "text/plain": [
       "0.5111265047911717"
      ]
     },
     "execution_count": 878,
     "metadata": {},
     "output_type": "execute_result"
    }
   ],
   "source": [
    "y_pred = ctb.predict(X_test)\n",
    "roc_auc_score(y_test, y_pred)"
   ]
  },
  {
   "cell_type": "code",
   "execution_count": 894,
   "metadata": {},
   "outputs": [
    {
     "data": {
      "text/plain": [
       "1"
      ]
     },
     "execution_count": 894,
     "metadata": {},
     "output_type": "execute_result"
    }
   ],
   "source": [
    "len([1])"
   ]
  },
  {
   "cell_type": "code",
   "execution_count": null,
   "metadata": {},
   "outputs": [],
   "source": [
    "for i in range(len([1]))"
   ]
  },
  {
   "cell_type": "code",
   "execution_count": 885,
   "metadata": {
    "scrolled": false
   },
   "outputs": [
    {
     "name": "stdout",
     "output_type": "stream",
     "text": [
      " \n",
      "####################################################################################################\n",
      "Seed 1\n",
      "Fold 0\n",
      " rows of train = 40705 rows of holdout = 10177\n",
      "[LightGBM] [Warning] Accuracy may be bad since you didn't explicitly set num_leaves OR 2^max_depth > num_leaves. (num_leaves=31).\n",
      "Training until validation scores don't improve for 100 rounds\n",
      "[100]\tvalid_0's binary_logloss: 0.524087\tvalid_0's auc: 0.656881\n",
      "[200]\tvalid_0's binary_logloss: 0.518595\tvalid_0's auc: 0.6647\n",
      "[300]\tvalid_0's binary_logloss: 0.516548\tvalid_0's auc: 0.667208\n",
      "[400]\tvalid_0's binary_logloss: 0.515199\tvalid_0's auc: 0.66928\n",
      "[500]\tvalid_0's binary_logloss: 0.514554\tvalid_0's auc: 0.670052\n",
      "[600]\tvalid_0's binary_logloss: 0.514106\tvalid_0's auc: 0.670546\n",
      "[700]\tvalid_0's binary_logloss: 0.513546\tvalid_0's auc: 0.671642\n",
      "[800]\tvalid_0's binary_logloss: 0.512904\tvalid_0's auc: 0.673075\n",
      "[900]\tvalid_0's binary_logloss: 0.512701\tvalid_0's auc: 0.673307\n",
      "[1000]\tvalid_0's binary_logloss: 0.512165\tvalid_0's auc: 0.674405\n",
      "[1100]\tvalid_0's binary_logloss: 0.511694\tvalid_0's auc: 0.675459\n",
      "[1200]\tvalid_0's binary_logloss: 0.511141\tvalid_0's auc: 0.676662\n",
      "[1300]\tvalid_0's binary_logloss: 0.511045\tvalid_0's auc: 0.676804\n",
      "[1400]\tvalid_0's binary_logloss: 0.510819\tvalid_0's auc: 0.677268\n",
      "[1500]\tvalid_0's binary_logloss: 0.510732\tvalid_0's auc: 0.677373\n",
      "[1600]\tvalid_0's binary_logloss: 0.510569\tvalid_0's auc: 0.677838\n",
      "[1700]\tvalid_0's binary_logloss: 0.510196\tvalid_0's auc: 0.678787\n",
      "[1800]\tvalid_0's binary_logloss: 0.510095\tvalid_0's auc: 0.678919\n",
      "Early stopping, best iteration is:\n",
      "[1769]\tvalid_0's binary_logloss: 0.510054\tvalid_0's auc: 0.679108\n",
      "LGB Val OOF AUC= 0.6791075908722968\n",
      "####################################################################################################\n",
      "Fold 1\n",
      " rows of train = 40705 rows of holdout = 10177\n",
      "[LightGBM] [Warning] Accuracy may be bad since you didn't explicitly set num_leaves OR 2^max_depth > num_leaves. (num_leaves=31).\n",
      "Training until validation scores don't improve for 100 rounds\n",
      "[100]\tvalid_0's binary_logloss: 0.52503\tvalid_0's auc: 0.652272\n",
      "[200]\tvalid_0's binary_logloss: 0.519688\tvalid_0's auc: 0.660018\n",
      "[300]\tvalid_0's binary_logloss: 0.517938\tvalid_0's auc: 0.663027\n",
      "[400]\tvalid_0's binary_logloss: 0.517023\tvalid_0's auc: 0.664515\n",
      "[500]\tvalid_0's binary_logloss: 0.516305\tvalid_0's auc: 0.665538\n",
      "[600]\tvalid_0's binary_logloss: 0.515739\tvalid_0's auc: 0.666096\n",
      "[700]\tvalid_0's binary_logloss: 0.515136\tvalid_0's auc: 0.66709\n",
      "[800]\tvalid_0's binary_logloss: 0.514398\tvalid_0's auc: 0.668623\n",
      "[900]\tvalid_0's binary_logloss: 0.513963\tvalid_0's auc: 0.669582\n",
      "[1000]\tvalid_0's binary_logloss: 0.513562\tvalid_0's auc: 0.670459\n",
      "[1100]\tvalid_0's binary_logloss: 0.513134\tvalid_0's auc: 0.671292\n",
      "[1200]\tvalid_0's binary_logloss: 0.512822\tvalid_0's auc: 0.672033\n",
      "[1300]\tvalid_0's binary_logloss: 0.512643\tvalid_0's auc: 0.672284\n",
      "[1400]\tvalid_0's binary_logloss: 0.512434\tvalid_0's auc: 0.672918\n",
      "Early stopping, best iteration is:\n",
      "[1362]\tvalid_0's binary_logloss: 0.512414\tvalid_0's auc: 0.673047\n",
      "LGB Val OOF AUC= 0.6730465612818554\n",
      "####################################################################################################\n",
      "Fold 2\n",
      " rows of train = 40705 rows of holdout = 10177\n",
      "[LightGBM] [Warning] Accuracy may be bad since you didn't explicitly set num_leaves OR 2^max_depth > num_leaves. (num_leaves=31).\n",
      "Training until validation scores don't improve for 100 rounds\n",
      "[100]\tvalid_0's binary_logloss: 0.524864\tvalid_0's auc: 0.654058\n",
      "[200]\tvalid_0's binary_logloss: 0.519182\tvalid_0's auc: 0.662055\n",
      "[300]\tvalid_0's binary_logloss: 0.517111\tvalid_0's auc: 0.665355\n",
      "[400]\tvalid_0's binary_logloss: 0.515482\tvalid_0's auc: 0.669103\n",
      "[500]\tvalid_0's binary_logloss: 0.514535\tvalid_0's auc: 0.670539\n",
      "[600]\tvalid_0's binary_logloss: 0.513724\tvalid_0's auc: 0.67269\n",
      "[700]\tvalid_0's binary_logloss: 0.512615\tvalid_0's auc: 0.67574\n",
      "[800]\tvalid_0's binary_logloss: 0.512003\tvalid_0's auc: 0.676879\n",
      "[900]\tvalid_0's binary_logloss: 0.511062\tvalid_0's auc: 0.678971\n",
      "[1000]\tvalid_0's binary_logloss: 0.510694\tvalid_0's auc: 0.679647\n",
      "[1100]\tvalid_0's binary_logloss: 0.510437\tvalid_0's auc: 0.679992\n",
      "[1200]\tvalid_0's binary_logloss: 0.509792\tvalid_0's auc: 0.681349\n",
      "[1300]\tvalid_0's binary_logloss: 0.509639\tvalid_0's auc: 0.681428\n",
      "Early stopping, best iteration is:\n",
      "[1289]\tvalid_0's binary_logloss: 0.509619\tvalid_0's auc: 0.681534\n",
      "LGB Val OOF AUC= 0.6815342844754609\n",
      "####################################################################################################\n",
      "Fold 3\n",
      " rows of train = 40705 rows of holdout = 10177\n",
      "[LightGBM] [Warning] Accuracy may be bad since you didn't explicitly set num_leaves OR 2^max_depth > num_leaves. (num_leaves=31).\n",
      "Training until validation scores don't improve for 100 rounds\n",
      "[100]\tvalid_0's binary_logloss: 0.525883\tvalid_0's auc: 0.651175\n",
      "[200]\tvalid_0's binary_logloss: 0.520694\tvalid_0's auc: 0.658398\n",
      "[300]\tvalid_0's binary_logloss: 0.518282\tvalid_0's auc: 0.662814\n",
      "[400]\tvalid_0's binary_logloss: 0.516597\tvalid_0's auc: 0.666154\n",
      "[500]\tvalid_0's binary_logloss: 0.515744\tvalid_0's auc: 0.667911\n",
      "[600]\tvalid_0's binary_logloss: 0.515155\tvalid_0's auc: 0.669129\n",
      "[700]\tvalid_0's binary_logloss: 0.514384\tvalid_0's auc: 0.670673\n",
      "[800]\tvalid_0's binary_logloss: 0.513801\tvalid_0's auc: 0.671896\n",
      "[900]\tvalid_0's binary_logloss: 0.513534\tvalid_0's auc: 0.672647\n",
      "Early stopping, best iteration is:\n",
      "[885]\tvalid_0's binary_logloss: 0.513521\tvalid_0's auc: 0.67284\n",
      "LGB Val OOF AUC= 0.6728403551932965\n",
      "####################################################################################################\n",
      "Fold 4\n",
      " rows of train = 40705 rows of holdout = 10177\n",
      "[LightGBM] [Warning] Accuracy may be bad since you didn't explicitly set num_leaves OR 2^max_depth > num_leaves. (num_leaves=31).\n",
      "Training until validation scores don't improve for 100 rounds\n",
      "[100]\tvalid_0's binary_logloss: 0.52657\tvalid_0's auc: 0.648606\n",
      "[200]\tvalid_0's binary_logloss: 0.520903\tvalid_0's auc: 0.657538\n",
      "[300]\tvalid_0's binary_logloss: 0.518842\tvalid_0's auc: 0.660811\n",
      "[400]\tvalid_0's binary_logloss: 0.517596\tvalid_0's auc: 0.663223\n",
      "[500]\tvalid_0's binary_logloss: 0.51675\tvalid_0's auc: 0.665349\n",
      "[600]\tvalid_0's binary_logloss: 0.515798\tvalid_0's auc: 0.668048\n",
      "[700]\tvalid_0's binary_logloss: 0.515345\tvalid_0's auc: 0.669027\n",
      "[800]\tvalid_0's binary_logloss: 0.514723\tvalid_0's auc: 0.670524\n",
      "[900]\tvalid_0's binary_logloss: 0.514279\tvalid_0's auc: 0.671296\n",
      "[1000]\tvalid_0's binary_logloss: 0.513964\tvalid_0's auc: 0.671826\n",
      "[1100]\tvalid_0's binary_logloss: 0.513757\tvalid_0's auc: 0.672261\n",
      "[1200]\tvalid_0's binary_logloss: 0.513268\tvalid_0's auc: 0.673376\n",
      "[1300]\tvalid_0's binary_logloss: 0.512952\tvalid_0's auc: 0.674114\n",
      "[1400]\tvalid_0's binary_logloss: 0.512775\tvalid_0's auc: 0.674429\n",
      "[1500]\tvalid_0's binary_logloss: 0.512483\tvalid_0's auc: 0.675203\n",
      "[1600]\tvalid_0's binary_logloss: 0.512164\tvalid_0's auc: 0.676259\n",
      "[1700]\tvalid_0's binary_logloss: 0.511808\tvalid_0's auc: 0.677112\n",
      "[1800]\tvalid_0's binary_logloss: 0.511733\tvalid_0's auc: 0.677328\n",
      "[1900]\tvalid_0's binary_logloss: 0.511698\tvalid_0's auc: 0.677278\n",
      "Early stopping, best iteration is:\n",
      "[1841]\tvalid_0's binary_logloss: 0.511677\tvalid_0's auc: 0.677472\n",
      "LGB Val OOF AUC= 0.6774718127659305\n",
      "####################################################################################################\n",
      "Log Loss Stats 0.51145717,0.00145394\n",
      "0.67680012 (0.00340461)\n"
     ]
    }
   ],
   "source": [
    "scores = []\n",
    "\n",
    "avg_loss = []\n",
    "\n",
    "seeds = [1]\n",
    "\n",
    "for seed in range(len(seeds)):\n",
    "    \n",
    "    print(' ')\n",
    "    \n",
    "    print('#'*100)\n",
    "    \n",
    "    print('Seed',seeds[seed])\n",
    "\n",
    "    X_train_cv,y_train_cv = X.copy(), y.copy()\n",
    "\n",
    "    sssf = StratifiedShuffleSplit(n_splits=5, test_size = 0.20 ,random_state=seed)\n",
    "    \n",
    "    for i, (idxT, idxV) in enumerate(sssf.split(X_train_cv, y_train_cv)):\n",
    "\n",
    "        print('Fold',i)\n",
    "\n",
    "        print(' rows of train =',len(idxT),'rows of holdout =',len(idxV))\n",
    "\n",
    "        clf = lgb.LGBMClassifier(boosting_type='gbdt',\n",
    "                                 n_estimators=10000,\n",
    "                                 max_depth=10,\n",
    "                                 learning_rate=0.02,\n",
    "                                 subsample=0.9,\n",
    "                                 colsample_bytree=0.4,\n",
    "                                 objective ='binary',\n",
    "                                 random_state = 1,\n",
    "                                 importance_type='gain',\n",
    "                                 reg_alpha=2,\n",
    "                                 reg_lambda=2\n",
    "                                 #cat_features=cat_features\n",
    "                                )        \n",
    "        \n",
    "        h = clf.fit(X_train_cv.iloc[idxT], y_train_cv.iloc[idxT], \n",
    "                    eval_set=[(X_train_cv.iloc[idxV],y_train_cv.iloc[idxV])],\n",
    "                    verbose=100,eval_metric=['binary_logloss','auc'],\n",
    "                    early_stopping_rounds=100)\n",
    "        probs_oof = clf.predict_proba(X_train_cv.iloc[idxV])[:,1]\n",
    "        \n",
    "#         probs_lgb +=clf.predict_proba(test_df)[:,1]\n",
    "        \n",
    "        roc = roc_auc_score(y_train_cv.iloc[idxV],probs_oof)\n",
    "\n",
    "        scores.append(roc)\n",
    "\n",
    "        avg_loss.append(clf.best_score_['valid_0']['binary_logloss'])\n",
    "\n",
    "        print ('LGB Val OOF AUC=',roc)\n",
    "\n",
    "        print('#'*100)\n",
    "        \n",
    "        \n",
    "print(\"Log Loss Stats {0:.8f},{1:.8f}\".format(np.array(avg_loss).mean(), np.array(avg_loss).std()))\n",
    "\n",
    "print('%.8f (%.8f)' % (np.array(scores).mean(), np.array(scores).std()))"
   ]
  },
  {
   "cell_type": "code",
   "execution_count": 889,
   "metadata": {},
   "outputs": [
    {
     "data": {
      "text/plain": [
       "[0.6791075908722968,\n",
       " 0.6730465612818554,\n",
       " 0.6815342844754609,\n",
       " 0.6728403551932965,\n",
       " 0.6774718127659305]"
      ]
     },
     "execution_count": 889,
     "metadata": {},
     "output_type": "execute_result"
    }
   ],
   "source": [
    "scores"
   ]
  },
  {
   "cell_type": "code",
   "execution_count": 892,
   "metadata": {},
   "outputs": [
    {
     "data": {
      "text/plain": [
       "0.676800120917768"
      ]
     },
     "execution_count": 892,
     "metadata": {},
     "output_type": "execute_result"
    }
   ],
   "source": [
    "np.array(scores).mean()"
   ]
  },
  {
   "cell_type": "markdown",
   "metadata": {},
   "source": [
    "# Test Data"
   ]
  },
  {
   "cell_type": "code",
   "execution_count": 932,
   "metadata": {},
   "outputs": [],
   "source": [
    "df2 = pd.read_csv('test_YCcRUnU.csv')"
   ]
  },
  {
   "cell_type": "code",
   "execution_count": 933,
   "metadata": {},
   "outputs": [
    {
     "data": {
      "text/html": [
       "<div>\n",
       "<style scoped>\n",
       "    .dataframe tbody tr th:only-of-type {\n",
       "        vertical-align: middle;\n",
       "    }\n",
       "\n",
       "    .dataframe tbody tr th {\n",
       "        vertical-align: top;\n",
       "    }\n",
       "\n",
       "    .dataframe thead th {\n",
       "        text-align: right;\n",
       "    }\n",
       "</style>\n",
       "<table border=\"1\" class=\"dataframe\">\n",
       "  <thead>\n",
       "    <tr style=\"text-align: right;\">\n",
       "      <th></th>\n",
       "      <th>ID</th>\n",
       "      <th>City_Code</th>\n",
       "      <th>Region_Code</th>\n",
       "      <th>Accomodation_Type</th>\n",
       "      <th>Reco_Insurance_Type</th>\n",
       "      <th>Upper_Age</th>\n",
       "      <th>Lower_Age</th>\n",
       "      <th>Is_Spouse</th>\n",
       "      <th>Health Indicator</th>\n",
       "      <th>Holding_Policy_Duration</th>\n",
       "      <th>Holding_Policy_Type</th>\n",
       "      <th>Reco_Policy_Cat</th>\n",
       "      <th>Reco_Policy_Premium</th>\n",
       "    </tr>\n",
       "  </thead>\n",
       "  <tbody>\n",
       "    <tr>\n",
       "      <th>0</th>\n",
       "      <td>50883</td>\n",
       "      <td>C1</td>\n",
       "      <td>156</td>\n",
       "      <td>Owned</td>\n",
       "      <td>Individual</td>\n",
       "      <td>30</td>\n",
       "      <td>30</td>\n",
       "      <td>No</td>\n",
       "      <td>NaN</td>\n",
       "      <td>6.0</td>\n",
       "      <td>3.0</td>\n",
       "      <td>5</td>\n",
       "      <td>11934.0</td>\n",
       "    </tr>\n",
       "    <tr>\n",
       "      <th>1</th>\n",
       "      <td>50884</td>\n",
       "      <td>C4</td>\n",
       "      <td>7</td>\n",
       "      <td>Owned</td>\n",
       "      <td>Joint</td>\n",
       "      <td>69</td>\n",
       "      <td>68</td>\n",
       "      <td>Yes</td>\n",
       "      <td>X1</td>\n",
       "      <td>3.0</td>\n",
       "      <td>3.0</td>\n",
       "      <td>18</td>\n",
       "      <td>32204.8</td>\n",
       "    </tr>\n",
       "    <tr>\n",
       "      <th>2</th>\n",
       "      <td>50885</td>\n",
       "      <td>C1</td>\n",
       "      <td>564</td>\n",
       "      <td>Rented</td>\n",
       "      <td>Individual</td>\n",
       "      <td>28</td>\n",
       "      <td>28</td>\n",
       "      <td>No</td>\n",
       "      <td>X3</td>\n",
       "      <td>2.0</td>\n",
       "      <td>4.0</td>\n",
       "      <td>17</td>\n",
       "      <td>9240.0</td>\n",
       "    </tr>\n",
       "    <tr>\n",
       "      <th>3</th>\n",
       "      <td>50886</td>\n",
       "      <td>C3</td>\n",
       "      <td>1177</td>\n",
       "      <td>Rented</td>\n",
       "      <td>Individual</td>\n",
       "      <td>23</td>\n",
       "      <td>23</td>\n",
       "      <td>No</td>\n",
       "      <td>X3</td>\n",
       "      <td>3.0</td>\n",
       "      <td>3.0</td>\n",
       "      <td>18</td>\n",
       "      <td>9086.0</td>\n",
       "    </tr>\n",
       "    <tr>\n",
       "      <th>4</th>\n",
       "      <td>50887</td>\n",
       "      <td>C1</td>\n",
       "      <td>951</td>\n",
       "      <td>Owned</td>\n",
       "      <td>Individual</td>\n",
       "      <td>75</td>\n",
       "      <td>75</td>\n",
       "      <td>No</td>\n",
       "      <td>X3</td>\n",
       "      <td>NaN</td>\n",
       "      <td>NaN</td>\n",
       "      <td>5</td>\n",
       "      <td>22534.0</td>\n",
       "    </tr>\n",
       "  </tbody>\n",
       "</table>\n",
       "</div>"
      ],
      "text/plain": [
       "      ID City_Code  Region_Code Accomodation_Type Reco_Insurance_Type  \\\n",
       "0  50883        C1          156             Owned          Individual   \n",
       "1  50884        C4            7             Owned               Joint   \n",
       "2  50885        C1          564            Rented          Individual   \n",
       "3  50886        C3         1177            Rented          Individual   \n",
       "4  50887        C1          951             Owned          Individual   \n",
       "\n",
       "   Upper_Age  Lower_Age Is_Spouse Health Indicator Holding_Policy_Duration  \\\n",
       "0         30         30        No              NaN                     6.0   \n",
       "1         69         68       Yes               X1                     3.0   \n",
       "2         28         28        No               X3                     2.0   \n",
       "3         23         23        No               X3                     3.0   \n",
       "4         75         75        No               X3                     NaN   \n",
       "\n",
       "   Holding_Policy_Type  Reco_Policy_Cat  Reco_Policy_Premium  \n",
       "0                  3.0                5              11934.0  \n",
       "1                  3.0               18              32204.8  \n",
       "2                  4.0               17               9240.0  \n",
       "3                  3.0               18               9086.0  \n",
       "4                  NaN                5              22534.0  "
      ]
     },
     "execution_count": 933,
     "metadata": {},
     "output_type": "execute_result"
    }
   ],
   "source": [
    "df2.head()"
   ]
  },
  {
   "cell_type": "code",
   "execution_count": 934,
   "metadata": {},
   "outputs": [],
   "source": [
    "def clean_data(df):\n",
    "    \n",
    "    df['City_Code'] = df['City_Code'].str.split('C', expand=True)[1]\n",
    "    df['City_Code'] = df['City_Code'].astype(int)\n",
    "    df['Region_Code']=np.sqrt(df['Region_Code'])\n",
    "    df = pd.concat([df, pd.get_dummies(df['Accomodation_Type'], drop_first=True) ], axis=1)\n",
    "    df = df.drop(['Accomodation_Type'], axis=1)\n",
    "    df = pd.concat([df, pd.get_dummies(df['Reco_Insurance_Type'], drop_first=True)], axis=1)\n",
    "    df.drop(['Reco_Insurance_Type'],axis=1, inplace=True)\n",
    "    df['Age'] = (df['Upper_Age'] + df['Lower_Age'])//2\n",
    "    df.drop(['Upper_Age','Lower_Age'], axis=1, inplace=True)\n",
    "    df = pd.concat([df, pd.get_dummies(df['Is_Spouse'], drop_first=True)], axis=1)\n",
    "    df.rename(columns={'Yes' : 'Is_Spouse_Yes'}, inplace=True)\n",
    "    df.drop(['Is_Spouse'], axis=1, inplace=True)\n",
    "    \n",
    "    df['Health Indicator'].fillna(df['Health Indicator'].mode()[0], inplace=True)\n",
    "    df['Health Indicator'] = df['Health Indicator'].str.split('X',expand=True)[1]\n",
    "    df['Health Indicator'] = df['Health Indicator'].astype(int)\n",
    "    \n",
    "    df['Holding_Policy_Duration'].fillna(df['Holding_Policy_Duration'].mode()[0], inplace=True)\n",
    "    df['Holding_Policy_Duration'].replace({'14+' : 14.0}, inplace=True)\n",
    "    df['Holding_Policy_Duration'] = pd.to_numeric(df['Holding_Policy_Duration'],downcast='integer')\n",
    "    df['Holding_Policy_Duration'] = df['Holding_Policy_Duration'].astype(int)\n",
    "    \n",
    "    df['Holding_Policy_Type'].fillna(df['Holding_Policy_Type'].mode()[0], inplace=True)\n",
    "    df['Holding_Policy_Type'] = df['Holding_Policy_Type'].astype(int)\n",
    "    \n",
    "    df['Reco_Policy_Premium'] = np.sqrt(df['Reco_Policy_Premium'])\n",
    "    df.drop(['Is_Spouse_Yes','ID'], axis=1, inplace=True)\n",
    "    X = df\n",
    "    \n",
    "    return X\n",
    "    "
   ]
  },
  {
   "cell_type": "code",
   "execution_count": 935,
   "metadata": {},
   "outputs": [],
   "source": [
    "X = clean_data(df2)"
   ]
  },
  {
   "cell_type": "code",
   "execution_count": 936,
   "metadata": {},
   "outputs": [
    {
     "data": {
      "text/html": [
       "<div>\n",
       "<style scoped>\n",
       "    .dataframe tbody tr th:only-of-type {\n",
       "        vertical-align: middle;\n",
       "    }\n",
       "\n",
       "    .dataframe tbody tr th {\n",
       "        vertical-align: top;\n",
       "    }\n",
       "\n",
       "    .dataframe thead th {\n",
       "        text-align: right;\n",
       "    }\n",
       "</style>\n",
       "<table border=\"1\" class=\"dataframe\">\n",
       "  <thead>\n",
       "    <tr style=\"text-align: right;\">\n",
       "      <th></th>\n",
       "      <th>City_Code</th>\n",
       "      <th>Region_Code</th>\n",
       "      <th>Health Indicator</th>\n",
       "      <th>Holding_Policy_Duration</th>\n",
       "      <th>Holding_Policy_Type</th>\n",
       "      <th>Reco_Policy_Cat</th>\n",
       "      <th>Reco_Policy_Premium</th>\n",
       "      <th>Rented</th>\n",
       "      <th>Joint</th>\n",
       "      <th>Age</th>\n",
       "    </tr>\n",
       "  </thead>\n",
       "  <tbody>\n",
       "    <tr>\n",
       "      <th>0</th>\n",
       "      <td>1</td>\n",
       "      <td>12.489996</td>\n",
       "      <td>1</td>\n",
       "      <td>6</td>\n",
       "      <td>3</td>\n",
       "      <td>5</td>\n",
       "      <td>109.242849</td>\n",
       "      <td>0</td>\n",
       "      <td>0</td>\n",
       "      <td>30</td>\n",
       "    </tr>\n",
       "    <tr>\n",
       "      <th>1</th>\n",
       "      <td>4</td>\n",
       "      <td>2.645751</td>\n",
       "      <td>1</td>\n",
       "      <td>3</td>\n",
       "      <td>3</td>\n",
       "      <td>18</td>\n",
       "      <td>179.456959</td>\n",
       "      <td>0</td>\n",
       "      <td>1</td>\n",
       "      <td>68</td>\n",
       "    </tr>\n",
       "    <tr>\n",
       "      <th>2</th>\n",
       "      <td>1</td>\n",
       "      <td>23.748684</td>\n",
       "      <td>3</td>\n",
       "      <td>2</td>\n",
       "      <td>4</td>\n",
       "      <td>17</td>\n",
       "      <td>96.124919</td>\n",
       "      <td>1</td>\n",
       "      <td>0</td>\n",
       "      <td>28</td>\n",
       "    </tr>\n",
       "    <tr>\n",
       "      <th>3</th>\n",
       "      <td>3</td>\n",
       "      <td>34.307434</td>\n",
       "      <td>3</td>\n",
       "      <td>3</td>\n",
       "      <td>3</td>\n",
       "      <td>18</td>\n",
       "      <td>95.320512</td>\n",
       "      <td>1</td>\n",
       "      <td>0</td>\n",
       "      <td>23</td>\n",
       "    </tr>\n",
       "    <tr>\n",
       "      <th>4</th>\n",
       "      <td>1</td>\n",
       "      <td>30.838288</td>\n",
       "      <td>3</td>\n",
       "      <td>14</td>\n",
       "      <td>3</td>\n",
       "      <td>5</td>\n",
       "      <td>150.113291</td>\n",
       "      <td>0</td>\n",
       "      <td>0</td>\n",
       "      <td>75</td>\n",
       "    </tr>\n",
       "    <tr>\n",
       "      <th>...</th>\n",
       "      <td>...</td>\n",
       "      <td>...</td>\n",
       "      <td>...</td>\n",
       "      <td>...</td>\n",
       "      <td>...</td>\n",
       "      <td>...</td>\n",
       "      <td>...</td>\n",
       "      <td>...</td>\n",
       "      <td>...</td>\n",
       "      <td>...</td>\n",
       "    </tr>\n",
       "    <tr>\n",
       "      <th>21800</th>\n",
       "      <td>3</td>\n",
       "      <td>32.310989</td>\n",
       "      <td>1</td>\n",
       "      <td>4</td>\n",
       "      <td>1</td>\n",
       "      <td>18</td>\n",
       "      <td>126.031742</td>\n",
       "      <td>0</td>\n",
       "      <td>0</td>\n",
       "      <td>45</td>\n",
       "    </tr>\n",
       "    <tr>\n",
       "      <th>21801</th>\n",
       "      <td>4</td>\n",
       "      <td>16.309506</td>\n",
       "      <td>5</td>\n",
       "      <td>6</td>\n",
       "      <td>3</td>\n",
       "      <td>18</td>\n",
       "      <td>146.253205</td>\n",
       "      <td>0</td>\n",
       "      <td>0</td>\n",
       "      <td>59</td>\n",
       "    </tr>\n",
       "    <tr>\n",
       "      <th>21802</th>\n",
       "      <td>12</td>\n",
       "      <td>49.699095</td>\n",
       "      <td>3</td>\n",
       "      <td>14</td>\n",
       "      <td>3</td>\n",
       "      <td>1</td>\n",
       "      <td>133.551488</td>\n",
       "      <td>0</td>\n",
       "      <td>0</td>\n",
       "      <td>74</td>\n",
       "    </tr>\n",
       "    <tr>\n",
       "      <th>21803</th>\n",
       "      <td>10</td>\n",
       "      <td>40.938979</td>\n",
       "      <td>4</td>\n",
       "      <td>3</td>\n",
       "      <td>1</td>\n",
       "      <td>19</td>\n",
       "      <td>107.554637</td>\n",
       "      <td>1</td>\n",
       "      <td>0</td>\n",
       "      <td>25</td>\n",
       "    </tr>\n",
       "    <tr>\n",
       "      <th>21804</th>\n",
       "      <td>2</td>\n",
       "      <td>60.141500</td>\n",
       "      <td>2</td>\n",
       "      <td>14</td>\n",
       "      <td>2</td>\n",
       "      <td>3</td>\n",
       "      <td>151.789328</td>\n",
       "      <td>0</td>\n",
       "      <td>0</td>\n",
       "      <td>73</td>\n",
       "    </tr>\n",
       "  </tbody>\n",
       "</table>\n",
       "<p>21805 rows × 10 columns</p>\n",
       "</div>"
      ],
      "text/plain": [
       "       City_Code  Region_Code  Health Indicator  Holding_Policy_Duration  \\\n",
       "0              1    12.489996                 1                        6   \n",
       "1              4     2.645751                 1                        3   \n",
       "2              1    23.748684                 3                        2   \n",
       "3              3    34.307434                 3                        3   \n",
       "4              1    30.838288                 3                       14   \n",
       "...          ...          ...               ...                      ...   \n",
       "21800          3    32.310989                 1                        4   \n",
       "21801          4    16.309506                 5                        6   \n",
       "21802         12    49.699095                 3                       14   \n",
       "21803         10    40.938979                 4                        3   \n",
       "21804          2    60.141500                 2                       14   \n",
       "\n",
       "       Holding_Policy_Type  Reco_Policy_Cat  Reco_Policy_Premium  Rented  \\\n",
       "0                        3                5           109.242849       0   \n",
       "1                        3               18           179.456959       0   \n",
       "2                        4               17            96.124919       1   \n",
       "3                        3               18            95.320512       1   \n",
       "4                        3                5           150.113291       0   \n",
       "...                    ...              ...                  ...     ...   \n",
       "21800                    1               18           126.031742       0   \n",
       "21801                    3               18           146.253205       0   \n",
       "21802                    3                1           133.551488       0   \n",
       "21803                    1               19           107.554637       1   \n",
       "21804                    2                3           151.789328       0   \n",
       "\n",
       "       Joint  Age  \n",
       "0          0   30  \n",
       "1          1   68  \n",
       "2          0   28  \n",
       "3          0   23  \n",
       "4          0   75  \n",
       "...      ...  ...  \n",
       "21800      0   45  \n",
       "21801      0   59  \n",
       "21802      0   74  \n",
       "21803      0   25  \n",
       "21804      0   73  \n",
       "\n",
       "[21805 rows x 10 columns]"
      ]
     },
     "execution_count": 936,
     "metadata": {},
     "output_type": "execute_result"
    }
   ],
   "source": [
    "X"
   ]
  },
  {
   "cell_type": "code",
   "execution_count": 937,
   "metadata": {},
   "outputs": [
    {
     "data": {
      "text/plain": [
       "(21805, 10)"
      ]
     },
     "execution_count": 937,
     "metadata": {},
     "output_type": "execute_result"
    }
   ],
   "source": [
    "X.shape"
   ]
  },
  {
   "cell_type": "code",
   "execution_count": 948,
   "metadata": {},
   "outputs": [],
   "source": [
    "ans = clf.predict(X)"
   ]
  },
  {
   "cell_type": "code",
   "execution_count": 949,
   "metadata": {},
   "outputs": [
    {
     "data": {
      "text/plain": [
       "array([0, 0, 0, ..., 0, 0, 0], dtype=int64)"
      ]
     },
     "execution_count": 949,
     "metadata": {},
     "output_type": "execute_result"
    }
   ],
   "source": [
    "ans"
   ]
  },
  {
   "cell_type": "code",
   "execution_count": 951,
   "metadata": {},
   "outputs": [
    {
     "data": {
      "text/plain": [
       "(21805,)"
      ]
     },
     "execution_count": 951,
     "metadata": {},
     "output_type": "execute_result"
    }
   ],
   "source": [
    "ans.shape"
   ]
  },
  {
   "cell_type": "code",
   "execution_count": 952,
   "metadata": {},
   "outputs": [
    {
     "data": {
      "text/plain": [
       "(21805, 2)"
      ]
     },
     "execution_count": 952,
     "metadata": {},
     "output_type": "execute_result"
    }
   ],
   "source": [
    "df3.shape"
   ]
  },
  {
   "cell_type": "code",
   "execution_count": 953,
   "metadata": {},
   "outputs": [
    {
     "data": {
      "text/html": [
       "<div>\n",
       "<style scoped>\n",
       "    .dataframe tbody tr th:only-of-type {\n",
       "        vertical-align: middle;\n",
       "    }\n",
       "\n",
       "    .dataframe tbody tr th {\n",
       "        vertical-align: top;\n",
       "    }\n",
       "\n",
       "    .dataframe thead th {\n",
       "        text-align: right;\n",
       "    }\n",
       "</style>\n",
       "<table border=\"1\" class=\"dataframe\">\n",
       "  <thead>\n",
       "    <tr style=\"text-align: right;\">\n",
       "      <th></th>\n",
       "      <th>ID</th>\n",
       "      <th>Response</th>\n",
       "    </tr>\n",
       "  </thead>\n",
       "  <tbody>\n",
       "    <tr>\n",
       "      <th>0</th>\n",
       "      <td>50883</td>\n",
       "      <td>0</td>\n",
       "    </tr>\n",
       "    <tr>\n",
       "      <th>1</th>\n",
       "      <td>50884</td>\n",
       "      <td>0</td>\n",
       "    </tr>\n",
       "    <tr>\n",
       "      <th>2</th>\n",
       "      <td>50885</td>\n",
       "      <td>0</td>\n",
       "    </tr>\n",
       "    <tr>\n",
       "      <th>3</th>\n",
       "      <td>50886</td>\n",
       "      <td>0</td>\n",
       "    </tr>\n",
       "    <tr>\n",
       "      <th>4</th>\n",
       "      <td>50887</td>\n",
       "      <td>0</td>\n",
       "    </tr>\n",
       "  </tbody>\n",
       "</table>\n",
       "</div>"
      ],
      "text/plain": [
       "      ID  Response\n",
       "0  50883         0\n",
       "1  50884         0\n",
       "2  50885         0\n",
       "3  50886         0\n",
       "4  50887         0"
      ]
     },
     "execution_count": 953,
     "metadata": {},
     "output_type": "execute_result"
    }
   ],
   "source": [
    "df3.head()"
   ]
  },
  {
   "cell_type": "code",
   "execution_count": 954,
   "metadata": {},
   "outputs": [],
   "source": [
    "df3['Response'] = ans"
   ]
  },
  {
   "cell_type": "code",
   "execution_count": 957,
   "metadata": {},
   "outputs": [
    {
     "data": {
      "text/plain": [
       "0    21373\n",
       "1      432\n",
       "Name: Response, dtype: int64"
      ]
     },
     "execution_count": 957,
     "metadata": {},
     "output_type": "execute_result"
    }
   ],
   "source": [
    "df3['Response'].value_counts()"
   ]
  },
  {
   "cell_type": "code",
   "execution_count": 976,
   "metadata": {},
   "outputs": [],
   "source": [
    "df3['Response']= ans"
   ]
  },
  {
   "cell_type": "code",
   "execution_count": 978,
   "metadata": {},
   "outputs": [],
   "source": [
    "df3.to_csv('firstsubmission.csv')"
   ]
  },
  {
   "cell_type": "code",
   "execution_count": 980,
   "metadata": {},
   "outputs": [
    {
     "data": {
      "text/plain": [
       "0    21373\n",
       "1      432\n",
       "Name: Response, dtype: int64"
      ]
     },
     "execution_count": 980,
     "metadata": {},
     "output_type": "execute_result"
    }
   ],
   "source": [
    "ff = pd.read_csv('firstsubmissionlightgbm.csv')\n",
    "ff['Response'].value_counts()"
   ]
  },
  {
   "cell_type": "code",
   "execution_count": null,
   "metadata": {},
   "outputs": [],
   "source": []
  },
  {
   "cell_type": "code",
   "execution_count": null,
   "metadata": {},
   "outputs": [],
   "source": []
  },
  {
   "cell_type": "code",
   "execution_count": null,
   "metadata": {},
   "outputs": [],
   "source": []
  },
  {
   "cell_type": "code",
   "execution_count": null,
   "metadata": {},
   "outputs": [],
   "source": []
  },
  {
   "cell_type": "code",
   "execution_count": null,
   "metadata": {},
   "outputs": [],
   "source": []
  },
  {
   "cell_type": "code",
   "execution_count": null,
   "metadata": {},
   "outputs": [],
   "source": []
  },
  {
   "cell_type": "code",
   "execution_count": null,
   "metadata": {},
   "outputs": [],
   "source": []
  },
  {
   "cell_type": "code",
   "execution_count": null,
   "metadata": {},
   "outputs": [],
   "source": []
  },
  {
   "cell_type": "code",
   "execution_count": null,
   "metadata": {},
   "outputs": [],
   "source": []
  },
  {
   "cell_type": "code",
   "execution_count": null,
   "metadata": {},
   "outputs": [],
   "source": []
  },
  {
   "cell_type": "code",
   "execution_count": null,
   "metadata": {},
   "outputs": [],
   "source": []
  },
  {
   "cell_type": "code",
   "execution_count": null,
   "metadata": {},
   "outputs": [],
   "source": []
  },
  {
   "cell_type": "code",
   "execution_count": 826,
   "metadata": {},
   "outputs": [
    {
     "data": {
      "text/html": [
       "<div>\n",
       "<style scoped>\n",
       "    .dataframe tbody tr th:only-of-type {\n",
       "        vertical-align: middle;\n",
       "    }\n",
       "\n",
       "    .dataframe tbody tr th {\n",
       "        vertical-align: top;\n",
       "    }\n",
       "\n",
       "    .dataframe thead th {\n",
       "        text-align: right;\n",
       "    }\n",
       "</style>\n",
       "<table border=\"1\" class=\"dataframe\">\n",
       "  <thead>\n",
       "    <tr style=\"text-align: right;\">\n",
       "      <th></th>\n",
       "      <th>City_Code</th>\n",
       "      <th>Region_Code</th>\n",
       "      <th>Health Indicator</th>\n",
       "      <th>Holding_Policy_Duration</th>\n",
       "      <th>Holding_Policy_Type</th>\n",
       "      <th>Reco_Policy_Cat</th>\n",
       "      <th>Reco_Policy_Premium</th>\n",
       "      <th>Response</th>\n",
       "      <th>Rented</th>\n",
       "      <th>Joint</th>\n",
       "      <th>Age</th>\n",
       "    </tr>\n",
       "  </thead>\n",
       "  <tbody>\n",
       "    <tr>\n",
       "      <th>0</th>\n",
       "      <td>3</td>\n",
       "      <td>56.683331</td>\n",
       "      <td>1</td>\n",
       "      <td>14</td>\n",
       "      <td>3</td>\n",
       "      <td>22</td>\n",
       "      <td>107.833205</td>\n",
       "      <td>0</td>\n",
       "      <td>1</td>\n",
       "      <td>0</td>\n",
       "      <td>36</td>\n",
       "    </tr>\n",
       "    <tr>\n",
       "      <th>1</th>\n",
       "      <td>5</td>\n",
       "      <td>33.421550</td>\n",
       "      <td>2</td>\n",
       "      <td>1</td>\n",
       "      <td>3</td>\n",
       "      <td>22</td>\n",
       "      <td>174.671120</td>\n",
       "      <td>0</td>\n",
       "      <td>0</td>\n",
       "      <td>1</td>\n",
       "      <td>48</td>\n",
       "    </tr>\n",
       "    <tr>\n",
       "      <th>2</th>\n",
       "      <td>5</td>\n",
       "      <td>61.090097</td>\n",
       "      <td>1</td>\n",
       "      <td>1</td>\n",
       "      <td>1</td>\n",
       "      <td>19</td>\n",
       "      <td>86.313383</td>\n",
       "      <td>1</td>\n",
       "      <td>0</td>\n",
       "      <td>0</td>\n",
       "      <td>32</td>\n",
       "    </tr>\n",
       "    <tr>\n",
       "      <th>3</th>\n",
       "      <td>24</td>\n",
       "      <td>66.166457</td>\n",
       "      <td>1</td>\n",
       "      <td>14</td>\n",
       "      <td>3</td>\n",
       "      <td>19</td>\n",
       "      <td>133.341666</td>\n",
       "      <td>0</td>\n",
       "      <td>0</td>\n",
       "      <td>1</td>\n",
       "      <td>50</td>\n",
       "    </tr>\n",
       "    <tr>\n",
       "      <th>4</th>\n",
       "      <td>8</td>\n",
       "      <td>46.797436</td>\n",
       "      <td>2</td>\n",
       "      <td>3</td>\n",
       "      <td>1</td>\n",
       "      <td>16</td>\n",
       "      <td>102.000000</td>\n",
       "      <td>0</td>\n",
       "      <td>1</td>\n",
       "      <td>0</td>\n",
       "      <td>44</td>\n",
       "    </tr>\n",
       "  </tbody>\n",
       "</table>\n",
       "</div>"
      ],
      "text/plain": [
       "   City_Code  Region_Code Health Indicator  Holding_Policy_Duration  \\\n",
       "0          3    56.683331                1                       14   \n",
       "1          5    33.421550                2                        1   \n",
       "2          5    61.090097                1                        1   \n",
       "3         24    66.166457                1                       14   \n",
       "4          8    46.797436                2                        3   \n",
       "\n",
       "   Holding_Policy_Type  Reco_Policy_Cat  Reco_Policy_Premium  Response  \\\n",
       "0                    3               22           107.833205         0   \n",
       "1                    3               22           174.671120         0   \n",
       "2                    1               19            86.313383         1   \n",
       "3                    3               19           133.341666         0   \n",
       "4                    1               16           102.000000         0   \n",
       "\n",
       "   Rented  Joint  Age  \n",
       "0       1      0   36  \n",
       "1       0      1   48  \n",
       "2       0      0   32  \n",
       "3       0      1   50  \n",
       "4       1      0   44  "
      ]
     },
     "execution_count": 826,
     "metadata": {},
     "output_type": "execute_result"
    }
   ],
   "source": [
    "df.head()"
   ]
  },
  {
   "cell_type": "code",
   "execution_count": 545,
   "metadata": {},
   "outputs": [],
   "source": [
    "X_train, X_test, y_train, y_test = train_test_split(X, y, test_size=0.20, random_state=42)"
   ]
  },
  {
   "cell_type": "code",
   "execution_count": 546,
   "metadata": {},
   "outputs": [
    {
     "data": {
      "text/plain": [
       "((40705, 12), (10177, 12))"
      ]
     },
     "execution_count": 546,
     "metadata": {},
     "output_type": "execute_result"
    }
   ],
   "source": [
    "X_train.shape, X_test.shape"
   ]
  },
  {
   "cell_type": "code",
   "execution_count": 549,
   "metadata": {},
   "outputs": [
    {
     "data": {
      "text/plain": [
       "['City_Code',\n",
       " 'Region_Code',\n",
       " 'Upper_Age',\n",
       " 'Lower_Age',\n",
       " 'Health Indicator',\n",
       " 'Holding_Policy_Duration',\n",
       " 'Holding_Policy_Type',\n",
       " 'Reco_Policy_Cat',\n",
       " 'Reco_Policy_Premium',\n",
       " 'Rented',\n",
       " 'Joint',\n",
       " 'Is_Spouse_Yes']"
      ]
     },
     "execution_count": 549,
     "metadata": {},
     "output_type": "execute_result"
    }
   ],
   "source": [
    "X_train.columns.tolist()"
   ]
  },
  {
   "cell_type": "code",
   "execution_count": 550,
   "metadata": {},
   "outputs": [
    {
     "data": {
      "text/plain": [
       "['City_Code',\n",
       " 'Region_Code',\n",
       " 'Upper_Age',\n",
       " 'Lower_Age',\n",
       " 'Health Indicator',\n",
       " 'Holding_Policy_Duration',\n",
       " 'Holding_Policy_Type',\n",
       " 'Reco_Policy_Cat',\n",
       " 'Reco_Policy_Premium',\n",
       " 'Rented',\n",
       " 'Joint',\n",
       " 'Is_Spouse_Yes']"
      ]
     },
     "execution_count": 550,
     "metadata": {},
     "output_type": "execute_result"
    }
   ],
   "source": [
    "X_test.columns.tolist()"
   ]
  },
  {
   "cell_type": "code",
   "execution_count": 827,
   "metadata": {},
   "outputs": [],
   "source": [
    "from sklearn.ensemble import RandomForestClassifier\n",
    "import xgboost\n",
    "from xgboost import XGBClassifier"
   ]
  },
  {
   "cell_type": "code",
   "execution_count": null,
   "metadata": {},
   "outputs": [],
   "source": []
  },
  {
   "cell_type": "code",
   "execution_count": 583,
   "metadata": {},
   "outputs": [
    {
     "data": {
      "text/plain": [
       "RandomForestClassifier()"
      ]
     },
     "execution_count": 583,
     "metadata": {},
     "output_type": "execute_result"
    }
   ],
   "source": [
    "rm = RandomForestClassifier()\n",
    "rm.fit(X_train, y_train)"
   ]
  },
  {
   "cell_type": "code",
   "execution_count": 584,
   "metadata": {},
   "outputs": [],
   "source": [
    "res = rm.predict(X_test)"
   ]
  },
  {
   "cell_type": "code",
   "execution_count": 585,
   "metadata": {},
   "outputs": [
    {
     "data": {
      "text/plain": [
       "array([0, 0, 0, ..., 0, 0, 0], dtype=int64)"
      ]
     },
     "execution_count": 585,
     "metadata": {},
     "output_type": "execute_result"
    }
   ],
   "source": [
    "res"
   ]
  },
  {
   "cell_type": "code",
   "execution_count": 592,
   "metadata": {},
   "outputs": [],
   "source": [
    "from sklearn.metrics import roc_auc_score\n",
    "a = roc_auc_score(y_test, res)"
   ]
  },
  {
   "cell_type": "code",
   "execution_count": 593,
   "metadata": {},
   "outputs": [
    {
     "data": {
      "text/plain": [
       "0.5094831932720411"
      ]
     },
     "execution_count": 593,
     "metadata": {},
     "output_type": "execute_result"
    }
   ],
   "source": [
    "a"
   ]
  },
  {
   "cell_type": "code",
   "execution_count": 588,
   "metadata": {},
   "outputs": [
    {
     "data": {
      "text/plain": [
       "1    19730\n",
       "2     8248\n",
       "3     5430\n",
       "4     4598\n",
       "5     1399\n",
       "6     1026\n",
       "7      159\n",
       "8       66\n",
       "9       49\n",
       "Name: Health Indicator, dtype: int64"
      ]
     },
     "execution_count": 588,
     "metadata": {},
     "output_type": "execute_result"
    }
   ],
   "source": [
    "X_train['Health Indicator'].value_counts()"
   ]
  },
  {
   "cell_type": "code",
   "execution_count": 594,
   "metadata": {},
   "outputs": [],
   "source": [
    "model = XGBClassifier()"
   ]
  },
  {
   "cell_type": "code",
   "execution_count": 595,
   "metadata": {},
   "outputs": [
    {
     "name": "stderr",
     "output_type": "stream",
     "text": [
      "d:\\anacondafiles\\envs\\deeplearning\\lib\\site-packages\\ipykernel_launcher.py:1: SettingWithCopyWarning: \n",
      "A value is trying to be set on a copy of a slice from a DataFrame.\n",
      "Try using .loc[row_indexer,col_indexer] = value instead\n",
      "\n",
      "See the caveats in the documentation: https://pandas.pydata.org/pandas-docs/stable/user_guide/indexing.html#returning-a-view-versus-a-copy\n",
      "  \"\"\"Entry point for launching an IPython kernel.\n",
      "d:\\anacondafiles\\envs\\deeplearning\\lib\\site-packages\\ipykernel_launcher.py:2: SettingWithCopyWarning: \n",
      "A value is trying to be set on a copy of a slice from a DataFrame.\n",
      "Try using .loc[row_indexer,col_indexer] = value instead\n",
      "\n",
      "See the caveats in the documentation: https://pandas.pydata.org/pandas-docs/stable/user_guide/indexing.html#returning-a-view-versus-a-copy\n",
      "  \n"
     ]
    }
   ],
   "source": [
    "X_train['Health Indicator'] = X_train['Health Indicator'].astype(int)\n",
    "X_test['Health Indicator'] = X_test['Health Indicator'].astype(int)"
   ]
  },
  {
   "cell_type": "code",
   "execution_count": 597,
   "metadata": {},
   "outputs": [
    {
     "data": {
      "text/plain": [
       "City_Code                    int32\n",
       "Region_Code                  int64\n",
       "Upper_Age                    int64\n",
       "Lower_Age                    int64\n",
       "Health Indicator             int32\n",
       "Holding_Policy_Duration       int8\n",
       "Holding_Policy_Type           int8\n",
       "Reco_Policy_Cat              int64\n",
       "Reco_Policy_Premium        float64\n",
       "Rented                       uint8\n",
       "Joint                        uint8\n",
       "Is_Spouse_Yes                uint8\n",
       "dtype: object"
      ]
     },
     "execution_count": 597,
     "metadata": {},
     "output_type": "execute_result"
    }
   ],
   "source": [
    "X_train.dtypes"
   ]
  },
  {
   "cell_type": "code",
   "execution_count": 598,
   "metadata": {},
   "outputs": [
    {
     "data": {
      "text/plain": [
       "XGBClassifier(base_score=0.5, booster='gbtree', colsample_bylevel=1,\n",
       "              colsample_bynode=1, colsample_bytree=1, gamma=0, gpu_id=-1,\n",
       "              importance_type='gain', interaction_constraints='',\n",
       "              learning_rate=0.300000012, max_delta_step=0, max_depth=6,\n",
       "              min_child_weight=1, missing=nan, monotone_constraints='()',\n",
       "              n_estimators=100, n_jobs=0, num_parallel_tree=1, random_state=0,\n",
       "              reg_alpha=0, reg_lambda=1, scale_pos_weight=1, subsample=1,\n",
       "              tree_method='exact', validate_parameters=1, verbosity=None)"
      ]
     },
     "execution_count": 598,
     "metadata": {},
     "output_type": "execute_result"
    }
   ],
   "source": [
    "model.fit(X_train, y_train)"
   ]
  },
  {
   "cell_type": "code",
   "execution_count": 579,
   "metadata": {},
   "outputs": [],
   "source": [
    "y_pred = model.predict(X_test)"
   ]
  },
  {
   "cell_type": "code",
   "execution_count": 599,
   "metadata": {},
   "outputs": [],
   "source": [
    "b = roc_auc_score(y_test, y_pred)"
   ]
  },
  {
   "cell_type": "code",
   "execution_count": 600,
   "metadata": {},
   "outputs": [
    {
     "data": {
      "text/plain": [
       "0.5217991159018517"
      ]
     },
     "execution_count": 600,
     "metadata": {},
     "output_type": "execute_result"
    }
   ],
   "source": [
    "b"
   ]
  },
  {
   "cell_type": "code",
   "execution_count": null,
   "metadata": {},
   "outputs": [],
   "source": []
  },
  {
   "cell_type": "code",
   "execution_count": null,
   "metadata": {},
   "outputs": [],
   "source": []
  },
  {
   "cell_type": "code",
   "execution_count": null,
   "metadata": {},
   "outputs": [],
   "source": []
  },
  {
   "cell_type": "code",
   "execution_count": null,
   "metadata": {},
   "outputs": [],
   "source": []
  },
  {
   "cell_type": "code",
   "execution_count": null,
   "metadata": {},
   "outputs": [],
   "source": []
  },
  {
   "cell_type": "code",
   "execution_count": null,
   "metadata": {},
   "outputs": [],
   "source": []
  },
  {
   "cell_type": "code",
   "execution_count": null,
   "metadata": {},
   "outputs": [],
   "source": []
  },
  {
   "cell_type": "code",
   "execution_count": null,
   "metadata": {},
   "outputs": [],
   "source": []
  },
  {
   "cell_type": "code",
   "execution_count": null,
   "metadata": {},
   "outputs": [],
   "source": []
  },
  {
   "cell_type": "code",
   "execution_count": null,
   "metadata": {},
   "outputs": [],
   "source": []
  },
  {
   "cell_type": "code",
   "execution_count": 108,
   "metadata": {},
   "outputs": [
    {
     "data": {
      "text/plain": [
       "<AxesSubplot:>"
      ]
     },
     "execution_count": 108,
     "metadata": {},
     "output_type": "execute_result"
    },
    {
     "data": {
      "image/png": "[encoded data removed]",
      "text/plain": [
       "<Figure size 720x432 with 2 Axes>"
      ]
     },
     "metadata": {
      "needs_background": "light"
     },
     "output_type": "display_data"
    }
   ],
   "source": [
    "plt.figure(figsize=(10,6))\n",
    "sns.heatmap(df.corr(), annot=True)"
   ]
  },
  {
   "cell_type": "code",
   "execution_count": 162,
   "metadata": {
    "scrolled": true
   },
   "outputs": [
    {
     "data": {
      "text/plain": [
       "Holding_Policy_Duration    20251\n",
       "Holding_Policy_Duration    20251\n",
       "dtype: int64"
      ]
     },
     "execution_count": 162,
     "metadata": {},
     "output_type": "execute_result"
    }
   ],
   "source": [
    "df[['Holding_Policy_Duration', 'Holding_Policy_Duration']].isnull().sum()"
   ]
  },
  {
   "cell_type": "code",
   "execution_count": 177,
   "metadata": {},
   "outputs": [
    {
     "data": {
      "text/plain": [
       "Missing    20251\n",
       "3.0        13279\n",
       "1.0         8173\n",
       "2.0         5005\n",
       "4.0         4174\n",
       "Name: Holding_Policy_Type, dtype: int64"
      ]
     },
     "execution_count": 177,
     "metadata": {},
     "output_type": "execute_result"
    }
   ],
   "source": [
    "df['Holding_Policy_Type'].value_counts()"
   ]
  },
  {
   "cell_type": "code",
   "execution_count": 176,
   "metadata": {},
   "outputs": [
    {
     "data": {
      "text/plain": [
       "Missing    20251\n",
       "1.0         4499\n",
       "14+         4335\n",
       "2.0         4260\n",
       "3.0         3586\n",
       "4.0         2771\n",
       "5.0         2362\n",
       "6.0         1894\n",
       "7.0         1645\n",
       "8.0         1316\n",
       "9.0         1114\n",
       "10.0         813\n",
       "11.0         546\n",
       "12.0         513\n",
       "13.0         511\n",
       "14.0         466\n",
       "Name: Holding_Policy_Duration, dtype: int64"
      ]
     },
     "execution_count": 176,
     "metadata": {},
     "output_type": "execute_result"
    }
   ],
   "source": [
    "df['Holding_Policy_Duration'].value_counts()"
   ]
  },
  {
   "cell_type": "code",
   "execution_count": 169,
   "metadata": {},
   "outputs": [],
   "source": [
    "df['Holding_Policy_Duration'].fillna('Missing', inplace=True)\n",
    "df['Holding_Policy_Type'].fillna('Missing', inplace=True)"
   ]
  },
  {
   "cell_type": "code",
   "execution_count": 175,
   "metadata": {},
   "outputs": [
    {
     "data": {
      "text/plain": [
       "Missing    20251\n",
       "Name: Holding_Policy_Type, dtype: int64"
      ]
     },
     "execution_count": 175,
     "metadata": {},
     "output_type": "execute_result"
    }
   ],
   "source": [
    "###### if Holding_Policy_Duration is missing then Holding_Policy_Type is also missing\n",
    "\n",
    "df[df['Holding_Policy_Duration'] == 'Missing']['Holding_Policy_Type'].value_counts()"
   ]
  },
  {
   "cell_type": "code",
   "execution_count": 142,
   "metadata": {},
   "outputs": [
    {
     "data": {
      "text/html": [
       "<div>\n",
       "<style scoped>\n",
       "    .dataframe tbody tr th:only-of-type {\n",
       "        vertical-align: middle;\n",
       "    }\n",
       "\n",
       "    .dataframe tbody tr th {\n",
       "        vertical-align: top;\n",
       "    }\n",
       "\n",
       "    .dataframe thead th {\n",
       "        text-align: right;\n",
       "    }\n",
       "</style>\n",
       "<table border=\"1\" class=\"dataframe\">\n",
       "  <thead>\n",
       "    <tr style=\"text-align: right;\">\n",
       "      <th></th>\n",
       "      <th>Upper_Age</th>\n",
       "      <th>Lower_Age</th>\n",
       "      <th>Health Indicator</th>\n",
       "    </tr>\n",
       "  </thead>\n",
       "  <tbody>\n",
       "    <tr>\n",
       "      <th>0</th>\n",
       "      <td>36</td>\n",
       "      <td>36</td>\n",
       "      <td>X1</td>\n",
       "    </tr>\n",
       "    <tr>\n",
       "      <th>1</th>\n",
       "      <td>75</td>\n",
       "      <td>22</td>\n",
       "      <td>X2</td>\n",
       "    </tr>\n",
       "    <tr>\n",
       "      <th>2</th>\n",
       "      <td>32</td>\n",
       "      <td>32</td>\n",
       "      <td>NaN</td>\n",
       "    </tr>\n",
       "    <tr>\n",
       "      <th>3</th>\n",
       "      <td>52</td>\n",
       "      <td>48</td>\n",
       "      <td>X1</td>\n",
       "    </tr>\n",
       "    <tr>\n",
       "      <th>4</th>\n",
       "      <td>44</td>\n",
       "      <td>44</td>\n",
       "      <td>X2</td>\n",
       "    </tr>\n",
       "    <tr>\n",
       "      <th>...</th>\n",
       "      <td>...</td>\n",
       "      <td>...</td>\n",
       "      <td>...</td>\n",
       "    </tr>\n",
       "    <tr>\n",
       "      <th>50877</th>\n",
       "      <td>22</td>\n",
       "      <td>22</td>\n",
       "      <td>X3</td>\n",
       "    </tr>\n",
       "    <tr>\n",
       "      <th>50878</th>\n",
       "      <td>27</td>\n",
       "      <td>27</td>\n",
       "      <td>X3</td>\n",
       "    </tr>\n",
       "    <tr>\n",
       "      <th>50879</th>\n",
       "      <td>63</td>\n",
       "      <td>63</td>\n",
       "      <td>X2</td>\n",
       "    </tr>\n",
       "    <tr>\n",
       "      <th>50880</th>\n",
       "      <td>71</td>\n",
       "      <td>49</td>\n",
       "      <td>X2</td>\n",
       "    </tr>\n",
       "    <tr>\n",
       "      <th>50881</th>\n",
       "      <td>24</td>\n",
       "      <td>24</td>\n",
       "      <td>X3</td>\n",
       "    </tr>\n",
       "  </tbody>\n",
       "</table>\n",
       "<p>50882 rows × 3 columns</p>\n",
       "</div>"
      ],
      "text/plain": [
       "       Upper_Age  Lower_Age Health Indicator\n",
       "0             36         36               X1\n",
       "1             75         22               X2\n",
       "2             32         32              NaN\n",
       "3             52         48               X1\n",
       "4             44         44               X2\n",
       "...          ...        ...              ...\n",
       "50877         22         22               X3\n",
       "50878         27         27               X3\n",
       "50879         63         63               X2\n",
       "50880         71         49               X2\n",
       "50881         24         24               X3\n",
       "\n",
       "[50882 rows x 3 columns]"
      ]
     },
     "execution_count": 142,
     "metadata": {},
     "output_type": "execute_result"
    }
   ],
   "source": [
    "df[['Upper_Age', 'Lower_Age', 'Health Indicator' ]]"
   ]
  },
  {
   "cell_type": "code",
   "execution_count": 160,
   "metadata": {},
   "outputs": [
    {
     "data": {
      "text/plain": [
       "Health Indicator  Health Indicator\n",
       "X1                X1                  13010\n",
       "X2                X2                  10332\n",
       "X3                X3                   6762\n",
       "X4                X4                   5743\n",
       "X5                X5                   1727\n",
       "X6                X6                   1280\n",
       "X7                X7                    196\n",
       "X8                X8                     78\n",
       "X9                X9                     63\n",
       "Name: Health Indicator, dtype: int64"
      ]
     },
     "execution_count": 160,
     "metadata": {},
     "output_type": "execute_result"
    }
   ],
   "source": [
    "df.groupby(['Health Indicator'])['Health Indicator'].value_counts()"
   ]
  },
  {
   "cell_type": "code",
   "execution_count": 137,
   "metadata": {},
   "outputs": [
    {
     "data": {
      "text/plain": [
       "No     42460\n",
       "Yes     8422\n",
       "Name: Is_Spouse, dtype: int64"
      ]
     },
     "execution_count": 137,
     "metadata": {},
     "output_type": "execute_result"
    }
   ],
   "source": [
    "df['Is_Spouse'].value_counts()"
   ]
  },
  {
   "cell_type": "code",
   "execution_count": 112,
   "metadata": {
    "scrolled": true
   },
   "outputs": [
    {
     "data": {
      "text/plain": [
       "5316"
      ]
     },
     "execution_count": 112,
     "metadata": {},
     "output_type": "execute_result"
    }
   ],
   "source": [
    "df['Region_Code'].nunique()"
   ]
  },
  {
   "cell_type": "code",
   "execution_count": 12,
   "metadata": {
    "scrolled": true
   },
   "outputs": [
    {
     "data": {
      "text/plain": [
       "(50882, 14)"
      ]
     },
     "execution_count": 12,
     "metadata": {},
     "output_type": "execute_result"
    }
   ],
   "source": [
    "df.shape"
   ]
  },
  {
   "cell_type": "code",
   "execution_count": 13,
   "metadata": {},
   "outputs": [
    {
     "data": {
      "text/plain": [
       "712348"
      ]
     },
     "execution_count": 13,
     "metadata": {},
     "output_type": "execute_result"
    }
   ],
   "source": [
    "50882*14"
   ]
  },
  {
   "cell_type": "code",
   "execution_count": 80,
   "metadata": {},
   "outputs": [
    {
     "data": {
      "text/plain": [
       "<AxesSubplot:xlabel='Response', ylabel='count'>"
      ]
     },
     "execution_count": 80,
     "metadata": {},
     "output_type": "execute_result"
    },
    {
     "data": {
      "image/png": "[encoded data removed]",
      "text/plain": [
       "<Figure size 360x360 with 1 Axes>"
      ]
     },
     "metadata": {
      "needs_background": "light"
     },
     "output_type": "display_data"
    }
   ],
   "source": [
    "plt.figure(figsize=(5,5))\n",
    "sns.countplot(x='Response', data=df)"
   ]
  },
  {
   "cell_type": "code",
   "execution_count": 72,
   "metadata": {},
   "outputs": [
    {
     "data": {
      "text/plain": [
       "0    38673\n",
       "1    12209\n",
       "Name: Response, dtype: int64"
      ]
     },
     "execution_count": 72,
     "metadata": {},
     "output_type": "execute_result"
    }
   ],
   "source": [
    "df['Response'].value_counts()"
   ]
  },
  {
   "cell_type": "code",
   "execution_count": 70,
   "metadata": {},
   "outputs": [
    {
     "data": {
      "text/plain": [
       "3.0    13279\n",
       "1.0     8173\n",
       "2.0     5005\n",
       "4.0     4174\n",
       "Name: Holding_Policy_Type, dtype: int64"
      ]
     },
     "execution_count": 70,
     "metadata": {},
     "output_type": "execute_result"
    }
   ],
   "source": [
    "df['Holding_Policy_Type'].value_counts()"
   ]
  },
  {
   "cell_type": "code",
   "execution_count": 71,
   "metadata": {},
   "outputs": [
    {
     "data": {
      "text/plain": [
       "1.0     4499\n",
       "14+     4335\n",
       "2.0     4260\n",
       "3.0     3586\n",
       "4.0     2771\n",
       "5.0     2362\n",
       "6.0     1894\n",
       "7.0     1645\n",
       "8.0     1316\n",
       "9.0     1114\n",
       "10.0     813\n",
       "11.0     546\n",
       "12.0     513\n",
       "13.0     511\n",
       "14.0     466\n",
       "Name: Holding_Policy_Duration, dtype: int64"
      ]
     },
     "execution_count": 71,
     "metadata": {},
     "output_type": "execute_result"
    }
   ],
   "source": [
    "df['Holding_Policy_Duration'].value_counts()"
   ]
  },
  {
   "cell_type": "code",
   "execution_count": 141,
   "metadata": {},
   "outputs": [
    {
     "data": {
      "text/plain": [
       "11691"
      ]
     },
     "execution_count": 141,
     "metadata": {},
     "output_type": "execute_result"
    }
   ],
   "source": [
    "df['Health Indicator'].isnull().sum()"
   ]
  },
  {
   "cell_type": "code",
   "execution_count": 59,
   "metadata": {},
   "outputs": [
    {
     "data": {
      "text/plain": [
       "X1    13010\n",
       "X2    10332\n",
       "X3     6762\n",
       "X4     5743\n",
       "X5     1727\n",
       "X6     1280\n",
       "X7      196\n",
       "X8       78\n",
       "X9       63\n",
       "Name: Health Indicator, dtype: int64"
      ]
     },
     "execution_count": 59,
     "metadata": {},
     "output_type": "execute_result"
    }
   ],
   "source": [
    "df['Health Indicator'].value_counts()"
   ]
  },
  {
   "cell_type": "code",
   "execution_count": 50,
   "metadata": {},
   "outputs": [
    {
     "data": {
      "text/plain": [
       "Individual    40536\n",
       "Joint         10346\n",
       "Name: Reco_Insurance_Type, dtype: int64"
      ]
     },
     "execution_count": 50,
     "metadata": {},
     "output_type": "execute_result"
    }
   ],
   "source": [
    "df['Reco_Insurance_Type'].value_counts()"
   ]
  },
  {
   "cell_type": "code",
   "execution_count": 47,
   "metadata": {},
   "outputs": [
    {
     "data": {
      "text/plain": [
       "Owned     27951\n",
       "Rented    22931\n",
       "Name: Accomodation_Type, dtype: int64"
      ]
     },
     "execution_count": 47,
     "metadata": {},
     "output_type": "execute_result"
    }
   ],
   "source": [
    "df['Accomodation_Type'].value_counts()"
   ]
  },
  {
   "cell_type": "code",
   "execution_count": 136,
   "metadata": {},
   "outputs": [
    {
     "data": {
      "text/plain": [
       "Accomodation_Type  Reco_Insurance_Type\n",
       "Owned              Individual             20262\n",
       "                   Joint                   7689\n",
       "Rented             Individual             20274\n",
       "                   Joint                   2657\n",
       "Name: Reco_Insurance_Type, dtype: int64"
      ]
     },
     "execution_count": 136,
     "metadata": {},
     "output_type": "execute_result"
    }
   ],
   "source": [
    "df.groupby(['Accomodation_Type'])['Reco_Insurance_Type'].value_counts()"
   ]
  },
  {
   "cell_type": "code",
   "execution_count": null,
   "metadata": {},
   "outputs": [],
   "source": []
  },
  {
   "cell_type": "code",
   "execution_count": 105,
   "metadata": {},
   "outputs": [],
   "source": [
    "df['City_Code'] = df['City_Code'].str.split('C', expand=True).iloc[:,1].astype(int) #.value_counts().index #[0].split('C')[1]"
   ]
  },
  {
   "cell_type": "code",
   "execution_count": 107,
   "metadata": {},
   "outputs": [
    {
     "data": {
      "text/plain": [
       "0         3\n",
       "1         5\n",
       "2         5\n",
       "3        24\n",
       "4         8\n",
       "         ..\n",
       "50877     4\n",
       "50878     5\n",
       "50879     1\n",
       "50880     1\n",
       "50881     3\n",
       "Name: City_Code, Length: 50882, dtype: int32"
      ]
     },
     "execution_count": 107,
     "metadata": {},
     "output_type": "execute_result"
    }
   ],
   "source": [
    "df['City_Code']"
   ]
  },
  {
   "cell_type": "code",
   "execution_count": null,
   "metadata": {},
   "outputs": [],
   "source": []
  },
  {
   "cell_type": "code",
   "execution_count": 5,
   "metadata": {},
   "outputs": [
    {
     "name": "stdout",
     "output_type": "stream",
     "text": [
      "<class 'pandas.core.frame.DataFrame'>\n",
      "RangeIndex: 50882 entries, 0 to 50881\n",
      "Data columns (total 14 columns):\n",
      " #   Column                   Non-Null Count  Dtype  \n",
      "---  ------                   --------------  -----  \n",
      " 0   ID                       50882 non-null  int64  \n",
      " 1   City_Code                50882 non-null  object \n",
      " 2   Region_Code              50882 non-null  int64  \n",
      " 3   Accomodation_Type        50882 non-null  object \n",
      " 4   Reco_Insurance_Type      50882 non-null  object \n",
      " 5   Upper_Age                50882 non-null  int64  \n",
      " 6   Lower_Age                50882 non-null  int64  \n",
      " 7   Is_Spouse                50882 non-null  object \n",
      " 8   Health Indicator         39191 non-null  object \n",
      " 9   Holding_Policy_Duration  30631 non-null  object \n",
      " 10  Holding_Policy_Type      30631 non-null  float64\n",
      " 11  Reco_Policy_Cat          50882 non-null  int64  \n",
      " 12  Reco_Policy_Premium      50882 non-null  float64\n",
      " 13  Response                 50882 non-null  int64  \n",
      "dtypes: float64(2), int64(6), object(6)\n",
      "memory usage: 5.4+ MB\n"
     ]
    }
   ],
   "source": [
    "df.info()"
   ]
  },
  {
   "cell_type": "code",
   "execution_count": 114,
   "metadata": {},
   "outputs": [
    {
     "data": {
      "text/html": [
       "<div>\n",
       "<style scoped>\n",
       "    .dataframe tbody tr th:only-of-type {\n",
       "        vertical-align: middle;\n",
       "    }\n",
       "\n",
       "    .dataframe tbody tr th {\n",
       "        vertical-align: top;\n",
       "    }\n",
       "\n",
       "    .dataframe thead th {\n",
       "        text-align: right;\n",
       "    }\n",
       "</style>\n",
       "<table border=\"1\" class=\"dataframe\">\n",
       "  <thead>\n",
       "    <tr style=\"text-align: right;\">\n",
       "      <th></th>\n",
       "      <th>count</th>\n",
       "      <th>mean</th>\n",
       "      <th>std</th>\n",
       "      <th>min</th>\n",
       "      <th>25%</th>\n",
       "      <th>50%</th>\n",
       "      <th>75%</th>\n",
       "      <th>max</th>\n",
       "    </tr>\n",
       "  </thead>\n",
       "  <tbody>\n",
       "    <tr>\n",
       "      <th>ID</th>\n",
       "      <td>50882.0</td>\n",
       "      <td>25441.500000</td>\n",
       "      <td>14688.512535</td>\n",
       "      <td>1.0</td>\n",
       "      <td>12721.25</td>\n",
       "      <td>25441.5</td>\n",
       "      <td>38161.75</td>\n",
       "      <td>50882.0</td>\n",
       "    </tr>\n",
       "    <tr>\n",
       "      <th>City_Code</th>\n",
       "      <td>50882.0</td>\n",
       "      <td>8.140167</td>\n",
       "      <td>7.885429</td>\n",
       "      <td>1.0</td>\n",
       "      <td>2.00</td>\n",
       "      <td>5.0</td>\n",
       "      <td>13.00</td>\n",
       "      <td>36.0</td>\n",
       "    </tr>\n",
       "    <tr>\n",
       "      <th>Region_Code</th>\n",
       "      <td>50882.0</td>\n",
       "      <td>1732.788707</td>\n",
       "      <td>1424.081652</td>\n",
       "      <td>1.0</td>\n",
       "      <td>523.00</td>\n",
       "      <td>1391.0</td>\n",
       "      <td>2667.00</td>\n",
       "      <td>6194.0</td>\n",
       "    </tr>\n",
       "    <tr>\n",
       "      <th>Upper_Age</th>\n",
       "      <td>50882.0</td>\n",
       "      <td>44.856275</td>\n",
       "      <td>17.310271</td>\n",
       "      <td>18.0</td>\n",
       "      <td>28.00</td>\n",
       "      <td>44.0</td>\n",
       "      <td>59.00</td>\n",
       "      <td>75.0</td>\n",
       "    </tr>\n",
       "    <tr>\n",
       "      <th>Lower_Age</th>\n",
       "      <td>50882.0</td>\n",
       "      <td>42.738866</td>\n",
       "      <td>17.319375</td>\n",
       "      <td>16.0</td>\n",
       "      <td>27.00</td>\n",
       "      <td>40.0</td>\n",
       "      <td>57.00</td>\n",
       "      <td>75.0</td>\n",
       "    </tr>\n",
       "    <tr>\n",
       "      <th>Holding_Policy_Type</th>\n",
       "      <td>30631.0</td>\n",
       "      <td>2.439228</td>\n",
       "      <td>1.025923</td>\n",
       "      <td>1.0</td>\n",
       "      <td>1.00</td>\n",
       "      <td>3.0</td>\n",
       "      <td>3.00</td>\n",
       "      <td>4.0</td>\n",
       "    </tr>\n",
       "    <tr>\n",
       "      <th>Reco_Policy_Cat</th>\n",
       "      <td>50882.0</td>\n",
       "      <td>15.115188</td>\n",
       "      <td>6.340663</td>\n",
       "      <td>1.0</td>\n",
       "      <td>12.00</td>\n",
       "      <td>17.0</td>\n",
       "      <td>20.00</td>\n",
       "      <td>22.0</td>\n",
       "    </tr>\n",
       "    <tr>\n",
       "      <th>Reco_Policy_Premium</th>\n",
       "      <td>50882.0</td>\n",
       "      <td>14183.950069</td>\n",
       "      <td>6590.074873</td>\n",
       "      <td>2280.0</td>\n",
       "      <td>9248.00</td>\n",
       "      <td>13178.0</td>\n",
       "      <td>18096.00</td>\n",
       "      <td>43350.4</td>\n",
       "    </tr>\n",
       "    <tr>\n",
       "      <th>Response</th>\n",
       "      <td>50882.0</td>\n",
       "      <td>0.239947</td>\n",
       "      <td>0.427055</td>\n",
       "      <td>0.0</td>\n",
       "      <td>0.00</td>\n",
       "      <td>0.0</td>\n",
       "      <td>0.00</td>\n",
       "      <td>1.0</td>\n",
       "    </tr>\n",
       "  </tbody>\n",
       "</table>\n",
       "</div>"
      ],
      "text/plain": [
       "                       count          mean           std     min       25%  \\\n",
       "ID                   50882.0  25441.500000  14688.512535     1.0  12721.25   \n",
       "City_Code            50882.0      8.140167      7.885429     1.0      2.00   \n",
       "Region_Code          50882.0   1732.788707   1424.081652     1.0    523.00   \n",
       "Upper_Age            50882.0     44.856275     17.310271    18.0     28.00   \n",
       "Lower_Age            50882.0     42.738866     17.319375    16.0     27.00   \n",
       "Holding_Policy_Type  30631.0      2.439228      1.025923     1.0      1.00   \n",
       "Reco_Policy_Cat      50882.0     15.115188      6.340663     1.0     12.00   \n",
       "Reco_Policy_Premium  50882.0  14183.950069   6590.074873  2280.0   9248.00   \n",
       "Response             50882.0      0.239947      0.427055     0.0      0.00   \n",
       "\n",
       "                         50%       75%      max  \n",
       "ID                   25441.5  38161.75  50882.0  \n",
       "City_Code                5.0     13.00     36.0  \n",
       "Region_Code           1391.0   2667.00   6194.0  \n",
       "Upper_Age               44.0     59.00     75.0  \n",
       "Lower_Age               40.0     57.00     75.0  \n",
       "Holding_Policy_Type      3.0      3.00      4.0  \n",
       "Reco_Policy_Cat         17.0     20.00     22.0  \n",
       "Reco_Policy_Premium  13178.0  18096.00  43350.4  \n",
       "Response                 0.0      0.00      1.0  "
      ]
     },
     "execution_count": 114,
     "metadata": {},
     "output_type": "execute_result"
    }
   ],
   "source": [
    "df.describe().T"
   ]
  },
  {
   "cell_type": "code",
   "execution_count": 8,
   "metadata": {},
   "outputs": [
    {
     "data": {
      "text/plain": [
       "(50882, 14)"
      ]
     },
     "execution_count": 8,
     "metadata": {},
     "output_type": "execute_result"
    }
   ],
   "source": [
    "df.shape"
   ]
  },
  {
   "cell_type": "code",
   "execution_count": 7,
   "metadata": {},
   "outputs": [
    {
     "data": {
      "text/plain": [
       "ID                             0\n",
       "City_Code                      0\n",
       "Region_Code                    0\n",
       "Accomodation_Type              0\n",
       "Reco_Insurance_Type            0\n",
       "Upper_Age                      0\n",
       "Lower_Age                      0\n",
       "Is_Spouse                      0\n",
       "Health Indicator           11691\n",
       "Holding_Policy_Duration    20251\n",
       "Holding_Policy_Type        20251\n",
       "Reco_Policy_Cat                0\n",
       "Reco_Policy_Premium            0\n",
       "Response                       0\n",
       "dtype: int64"
      ]
     },
     "execution_count": 7,
     "metadata": {},
     "output_type": "execute_result"
    }
   ],
   "source": [
    "df.isnull().sum()"
   ]
  },
  {
   "cell_type": "code",
   "execution_count": 10,
   "metadata": {},
   "outputs": [
    {
     "data": {
      "text/plain": [
       "ID                         0.00\n",
       "City_Code                  0.00\n",
       "Region_Code                0.00\n",
       "Accomodation_Type          0.00\n",
       "Reco_Insurance_Type        0.00\n",
       "Upper_Age                  0.00\n",
       "Lower_Age                  0.00\n",
       "Is_Spouse                  0.00\n",
       "Health Indicator           0.23\n",
       "Holding_Policy_Duration    0.40\n",
       "Holding_Policy_Type        0.40\n",
       "Reco_Policy_Cat            0.00\n",
       "Reco_Policy_Premium        0.00\n",
       "Response                   0.00\n",
       "dtype: float64"
      ]
     },
     "execution_count": 10,
     "metadata": {},
     "output_type": "execute_result"
    }
   ],
   "source": [
    "np.round(df.isnull().mean(),2)"
   ]
  },
  {
   "cell_type": "code",
   "execution_count": 61,
   "metadata": {},
   "outputs": [
    {
     "data": {
      "text/html": [
       "<div>\n",
       "<style scoped>\n",
       "    .dataframe tbody tr th:only-of-type {\n",
       "        vertical-align: middle;\n",
       "    }\n",
       "\n",
       "    .dataframe tbody tr th {\n",
       "        vertical-align: top;\n",
       "    }\n",
       "\n",
       "    .dataframe thead th {\n",
       "        text-align: right;\n",
       "    }\n",
       "</style>\n",
       "<table border=\"1\" class=\"dataframe\">\n",
       "  <thead>\n",
       "    <tr style=\"text-align: right;\">\n",
       "      <th></th>\n",
       "      <th>ID</th>\n",
       "      <th>Response</th>\n",
       "    </tr>\n",
       "  </thead>\n",
       "  <tbody>\n",
       "    <tr>\n",
       "      <th>0</th>\n",
       "      <td>50883</td>\n",
       "      <td>0</td>\n",
       "    </tr>\n",
       "    <tr>\n",
       "      <th>1</th>\n",
       "      <td>50884</td>\n",
       "      <td>0</td>\n",
       "    </tr>\n",
       "    <tr>\n",
       "      <th>2</th>\n",
       "      <td>50885</td>\n",
       "      <td>0</td>\n",
       "    </tr>\n",
       "    <tr>\n",
       "      <th>3</th>\n",
       "      <td>50886</td>\n",
       "      <td>0</td>\n",
       "    </tr>\n",
       "    <tr>\n",
       "      <th>4</th>\n",
       "      <td>50887</td>\n",
       "      <td>0</td>\n",
       "    </tr>\n",
       "  </tbody>\n",
       "</table>\n",
       "</div>"
      ],
      "text/plain": [
       "      ID  Response\n",
       "0  50883         0\n",
       "1  50884         0\n",
       "2  50885         0\n",
       "3  50886         0\n",
       "4  50887         0"
      ]
     },
     "execution_count": 61,
     "metadata": {},
     "output_type": "execute_result"
    }
   ],
   "source": [
    "df3 = pd.read_csv('sample_submission_QrCyCoT.csv')\n",
    "df3.head()"
   ]
  },
  {
   "cell_type": "code",
   "execution_count": 69,
   "metadata": {},
   "outputs": [
    {
     "data": {
      "text/plain": [
       "array([0, 0, 0, ..., 0, 0, 0], dtype=int64)"
      ]
     },
     "execution_count": 69,
     "metadata": {},
     "output_type": "execute_result"
    }
   ],
   "source": [
    "df3['Response'].values"
   ]
  },
  {
   "cell_type": "code",
   "execution_count": null,
   "metadata": {},
   "outputs": [],
   "source": []
  },
  {
   "cell_type": "code",
   "execution_count": null,
   "metadata": {},
   "outputs": [],
   "source": []
  },
  {
   "cell_type": "code",
   "execution_count": null,
   "metadata": {},
   "outputs": [],
   "source": []
  }
 ],
 "metadata": {
  "kernelspec": {
   "display_name": "Python 3",
   "language": "python",
   "name": "python3"
  },
  "language_info": {
   "codemirror_mode": {
    "name": "ipython",
    "version": 3
   },
   "file_extension": ".py",
   "mimetype": "text/x-python",
   "name": "python",
   "nbconvert_exporter": "python",
   "pygments_lexer": "ipython3",
   "version": "3.7.9"
  }
 },
 "nbformat": 4,
 "nbformat_minor": 4
}
