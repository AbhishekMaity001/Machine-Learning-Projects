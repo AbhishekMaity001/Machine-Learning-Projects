{
 "cells": [
  {
   "cell_type": "markdown",
   "metadata": {},
   "source": [
    "# Custom Ensemble Techniques"
   ]
  },
  {
   "cell_type": "code",
   "execution_count": 3,
   "metadata": {},
   "outputs": [],
   "source": [
    "# Making our own synthetic dataset.\n",
    "from sklearn.datasets import make_classification\n",
    "X,y = make_classification(n_samples = 1000,n_features=20,n_informative=15, n_redundant=5, random_state=1)"
   ]
  },
  {
   "cell_type": "code",
   "execution_count": 7,
   "metadata": {},
   "outputs": [
    {
     "data": {
      "text/plain": [
       "((1000, 20), (1000,))"
      ]
     },
     "execution_count": 7,
     "metadata": {},
     "output_type": "execute_result"
    }
   ],
   "source": [
    "X.shape , y.shape"
   ]
  },
  {
   "cell_type": "code",
   "execution_count": 8,
   "metadata": {},
   "outputs": [
    {
     "data": {
      "text/plain": [
       "Counter({0: 501, 1: 499})"
      ]
     },
     "execution_count": 8,
     "metadata": {},
     "output_type": "execute_result"
    }
   ],
   "source": [
    "from collections import Counter\n",
    "Counter(y)"
   ]
  },
  {
   "cell_type": "code",
   "execution_count": 13,
   "metadata": {},
   "outputs": [],
   "source": [
    "# Loading all the libraries\n",
    "from sklearn.linear_model import LogisticRegression\n",
    "from sklearn.ensemble import RandomForestClassifier\n",
    "from sklearn.tree import DecisionTreeClassifier\n",
    "from sklearn.svm import SVC\n",
    "from sklearn.ensemble import VotingClassifier\n",
    "from sklearn.model_selection import cross_val_score , RepeatedStratifiedKFold\n",
    "from sklearn.pipeline import Pipeline"
   ]
  },
  {
   "cell_type": "code",
   "execution_count": 19,
   "metadata": {},
   "outputs": [],
   "source": [
    "models = list() # creating a list where we will be storing all the models\n",
    "\n",
    "decision_tree = Pipeline([('m',DecisionTreeClassifier())])\n",
    "models.append(('decision',decision_tree))\n",
    "\n",
    "random_forest = Pipeline([('m',RandomForestClassifier())])\n",
    "models.append(('randomforest',random_forest))\n",
    "\n",
    "svc = Pipeline([('m',SVC())])\n",
    "models.append(('svc',svc))\n",
    "\n",
    "# Defining the voting ensemble\n",
    "ensemble = VotingClassifier(estimators=models, voting='hard')\n"
   ]
  },
  {
   "cell_type": "code",
   "execution_count": 20,
   "metadata": {},
   "outputs": [
    {
     "data": {
      "text/plain": [
       "[('decision', Pipeline(steps=[('m', DecisionTreeClassifier())])),\n",
       " ('randomforest', Pipeline(steps=[('m', RandomForestClassifier())])),\n",
       " ('svc', Pipeline(steps=[('m', SVC())]))]"
      ]
     },
     "execution_count": 20,
     "metadata": {},
     "output_type": "execute_result"
    }
   ],
   "source": [
    "models"
   ]
  },
  {
   "cell_type": "code",
   "execution_count": 21,
   "metadata": {},
   "outputs": [
    {
     "data": {
      "text/plain": [
       "VotingClassifier(estimators=[('decision',\n",
       "                              Pipeline(steps=[('m',\n",
       "                                               DecisionTreeClassifier())])),\n",
       "                             ('randomforest',\n",
       "                              Pipeline(steps=[('m',\n",
       "                                               RandomForestClassifier())])),\n",
       "                             ('svc', Pipeline(steps=[('m', SVC())]))])"
      ]
     },
     "execution_count": 21,
     "metadata": {},
     "output_type": "execute_result"
    }
   ],
   "source": [
    "ensemble"
   ]
  },
  {
   "cell_type": "code",
   "execution_count": 22,
   "metadata": {},
   "outputs": [],
   "source": [
    "cv = RepeatedStratifiedKFold(n_splits=10, n_repeats=3, random_state=1)\n",
    "n_scores = cross_val_score(ensemble, X, y, scoring='accuracy' , cv = cv , n_jobs=-1)"
   ]
  },
  {
   "cell_type": "code",
   "execution_count": 23,
   "metadata": {},
   "outputs": [
    {
     "data": {
      "text/plain": [
       "array([0.93, 0.97, 0.94, 0.94, 0.9 , 0.96, 0.92, 0.92, 0.96, 0.95, 0.96,\n",
       "       0.91, 0.91, 0.94, 0.94, 0.94, 0.95, 0.92, 0.96, 0.97, 0.95, 0.98,\n",
       "       0.95, 0.97, 0.92, 0.87, 0.97, 0.94, 0.94, 0.91])"
      ]
     },
     "execution_count": 23,
     "metadata": {},
     "output_type": "execute_result"
    }
   ],
   "source": [
    "n_scores"
   ]
  },
  {
   "cell_type": "code",
   "execution_count": 24,
   "metadata": {},
   "outputs": [
    {
     "data": {
      "text/plain": [
       "0.9396666666666669"
      ]
     },
     "execution_count": 24,
     "metadata": {},
     "output_type": "execute_result"
    }
   ],
   "source": [
    "n_scores.mean()"
   ]
  },
  {
   "cell_type": "code",
   "execution_count": null,
   "metadata": {},
   "outputs": [],
   "source": []
  }
 ],
 "metadata": {
  "kernelspec": {
   "display_name": "Python 3",
   "language": "python",
   "name": "python3"
  },
  "language_info": {
   "codemirror_mode": {
    "name": "ipython",
    "version": 3
   },
   "file_extension": ".py",
   "mimetype": "text/x-python",
   "name": "python",
   "nbconvert_exporter": "python",
   "pygments_lexer": "ipython3",
   "version": "3.7.9"
  }
 },
 "nbformat": 4,
 "nbformat_minor": 4
}
